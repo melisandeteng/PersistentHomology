{
 "cells": [
  {
   "cell_type": "markdown",
   "metadata": {},
   "source": [
    "# Persistent homology for smartphone data analysis (pedestrian recognition)"
   ]
  },
  {
   "cell_type": "markdown",
   "metadata": {},
   "source": [
    "__Description__: The goal of this is project to illustrate, on a toy example, the benefit of “coordinate in- variance” of persistent homology. The walk of 3 pedestrians A, B and C, has been recorded using the accelerometer sensor of a smartphone carried in the their pocket, giving rise to 3 multivariate time series in R3: each time series represents the 3 coordinates of the acceleration of the corresponding pedestrian in a coordinate system attached to the sensor. As, the smartphone was carried in unknown different positions and was not fixed, these time series cannot be compared coordinates by coordinates. Using a sliding window, each series has been splitted in a list of 100 times series made of 200 consecutive points, that are stored in data A, data B and data C. To each set of 200 points is associated a label A, B or C stored in label (see the data set and the Python script to load the data). The objective is to compute the persistence diagrams of these 3D point clouds and use them to achieve a pedestrian recognition task (supervised setting).\n",
    "Note: This project requires some (basic) knowledge of learning (random forests)."
   ]
  },
  {
   "cell_type": "code",
   "execution_count": 18,
   "metadata": {},
   "outputs": [],
   "source": [
    "import numpy as np\n",
    "import pickle as pickle\n",
    "from os.path import join\n",
    "from sklearn import manifold\n",
    "import matplotlib.pyplot as plt\n",
    "%matplotlib inline"
   ]
  },
  {
   "cell_type": "markdown",
   "metadata": {},
   "source": [
    "## Loading Data"
   ]
  },
  {
   "cell_type": "code",
   "execution_count": 2,
   "metadata": {},
   "outputs": [],
   "source": [
    "path=\"/Users/yaguethiam/PersistentHomology/data_acc_rot.dat\""
   ]
  },
  {
   "cell_type": "code",
   "execution_count": 3,
   "metadata": {},
   "outputs": [
    {
     "name": "stdout",
     "output_type": "stream",
     "text": [
      "300\n"
     ]
    }
   ],
   "source": [
    "f = open(path,\"rb\")\n",
    "data = pickle.load(f,encoding='latin1')\n",
    "f.close()\n",
    "\n",
    "data_A = data[0]\n",
    "data_B = data[1] \n",
    "data_C = data[2]\n",
    "label = data[3]\n",
    "print(len(data[3]))"
   ]
  },
  {
   "cell_type": "markdown",
   "metadata": {},
   "source": [
    "## Question 1:"
   ]
  },
  {
   "cell_type": "markdown",
   "metadata": {},
   "source": [
    "Compute and save the 0-dimensional and 1-dimensional persistence diagrams of the Rips filtrations (or alternately the alpha-shape filtrations) built on top of each of the 300 point clouds in R3."
   ]
  },
  {
   "cell_type": "code",
   "execution_count": 32,
   "metadata": {},
   "outputs": [],
   "source": [
    "path_to_cython_gudhi='/Users/yaguethiam/2017-10-02-10-19-30_GUDHI_2.0.1/build/cython'\n",
    "import sys\n",
    "sys.path.append(path_to_cython_gudhi)\n",
    "import gudhi"
   ]
  },
  {
   "cell_type": "markdown",
   "metadata": {},
   "source": [
    "## About persistent homology \n",
    "\n",
    "### General definitions\n",
    "Let (P, D) be a metric space where P is a point set. \n",
    "Given r > 0, the Rips complex is the simplicial complex R(P) constituted by the simplexes such that$d(p,q) \\leq r$ for every pair of vertices in the simplex.  \n",
    "Constructing the Rips complex helps capture the topology of the data set. Choosing $r$ is a difficult task because if $r$ ois too small, the complex is a discrete set, and if $r$ is too large, the complex becomes a single high-dimensional complex.\n",
    "\n",
    "\n",
    "Given a filtration $(K_0, K_1, ..., K_n)$, the $p$-dimensional persistence diagram is the set of points (i,j) such that the number of $p$-dimensional homology classes born at $K_i$ that die entering $K_j$ is one.  \n",
    "Here the filtration will actually be a sequence of Rips complexes associated to the 3D point cloud for an increasing\n",
    "sequence of parameter values ($r_i$).\n"
   ]
  },
  {
   "cell_type": "markdown",
   "metadata": {},
   "source": [
    "### 0-dimensional persistence diagrams of the Rips filtrations"
   ]
  },
  {
   "cell_type": "markdown",
   "metadata": {},
   "source": [
    "In order to draw the 0-dimensional persistence diagram of the Rips filtrations, we use \\verb gudhi.RipsComplex on the 3D point cloud. "
   ]
  },
  {
   "cell_type": "code",
   "execution_count": 9,
   "metadata": {},
   "outputs": [],
   "source": [
    "def build_0_persistent_diag(dataset, maxEdgeLen=50):\n",
    "    persist=[]\n",
    "    for i in range(len(dataset)):\n",
    "        rips = gudhi.RipsComplex(points=dataset[i],max_edge_length=maxEdgeLen)\n",
    "        simplex_tree = rips.create_simplex_tree(max_dimension=1)\n",
    "        diag = simplex_tree.persistence()\n",
    "        persist.append(diag)\n",
    "        return persist\n",
    "\n"
   ]
  },
  {
   "cell_type": "code",
   "execution_count": 13,
   "metadata": {},
   "outputs": [],
   "source": [
    "diagA_0=build_0_persistent_diag(data_A)\n",
    "diagB_0=build_0_persistent_diag(data_B)\n",
    "diagC_0=build_0_persistent_diag(data_C)"
   ]
  },
  {
   "cell_type": "markdown",
   "metadata": {},
   "source": [
    "### 1-dimensional persistence diagrams of the Rips filtrations"
   ]
  },
  {
   "cell_type": "code",
   "execution_count": 28,
   "metadata": {},
   "outputs": [],
   "source": [
    "def build_1_persistent_diag(dataset, maxEdgeLen=50):\n",
    "    persist=[]\n",
    "    for i in range(len(dataset)):\n",
    "        rips = gudhi.RipsComplex(points=dataset[i],max_edge_length=maxEdgeLen)\n",
    "        simplex_tree = rips.create_simplex_tree(max_dimension=2)\n",
    "        diag = simplex_tree.persistence()\n",
    "        persist.append(diag)\n",
    "        return persist"
   ]
  },
  {
   "cell_type": "code",
   "execution_count": 15,
   "metadata": {},
   "outputs": [],
   "source": [
    "diagA_1=build_1_persistent_diag(data_A)\n",
    "diagB_1=build_1_persistent_diag(data_B)\n",
    "diagC_1=build_1_persistent_diag(data_C)"
   ]
  },
  {
   "cell_type": "markdown",
   "metadata": {},
   "source": [
    "### Matrices of pairwise bottleneck distances between diagrams and use a dimensionality reduction algorithm to visualize them in 2D and 3D (e.g. Multidimensional Scaling).\n"
   ]
  },
  {
   "cell_type": "markdown",
   "metadata": {},
   "source": [
    "The bottleneck distance measures the similarity between two persistence diagrams. It is the shortest distance $d$ for which there exists a perfect matching between the points of the two diagrams such that any couple of matched points are at distance at most $d$. The cost of matching, i.e. taking a point $p$ of the first diagram to a point $p'$ of the second diagram corresponds the minimum between moving $p$ to $p'$ and moving both points on the diagonal.\n",
    "\n",
    "USE Gudhi::persistence_diagram::bottleneck_distance (const Persistence_diagram1 &diag1, const Persistence_diagram2 &diag2, double e=(std::numeric_limits< double >::min)())\n",
    "\n",
    "Why are we comparing 0 and 1-dimensional persistence diagrams of the Rips filtrations ? \n",
    "\n",
    "BLABLABLABLA"
   ]
  },
  {
   "cell_type": "markdown",
   "metadata": {},
   "source": [
    "USE sklearn.manifold.MDS for multidimensional scaling. "
   ]
  },
  {
   "cell_type": "markdown",
   "metadata": {},
   "source": [
    "remarques du cours\n",
    "→ Vietoris-Rips (or Cech, witness) filtrations quickly become prohibitively large as\n",
    "the size of the data increases ( O(|X|\n",
    "d\n",
    ") ), making the computation of persistence\n",
    "practically almost impossible.\n",
    "→ Persistence diagrams of Rips-Vietoris (and Cˇech, witness,..) filtrations and\n",
    "Gromov-Hausdorff distance are very sensitive to noise and outliers"
   ]
  },
  {
   "cell_type": "code",
   "execution_count": 33,
   "metadata": {},
   "outputs": [],
   "source": [
    "def computeMatrixBottleneckDistance(diagList1):\n",
    "    matrix=np.zeros((len(diagList1),len(diagList1)))\n",
    "    for i in range(len(diagList1)):\n",
    "        for j in range(i,len(diagList1)):\n",
    "            dist=gudhi.bottleneck_distance(diagList1[i], diagList1[j], 0.001)\n",
    "            matrix[i,j]=dist\n",
    "            matrix[j,i]=dist\n",
    "    return matrix"
   ]
  },
  {
   "cell_type": "code",
   "execution_count": 34,
   "metadata": {},
   "outputs": [
    {
     "ename": "NameError",
     "evalue": "name 'bottleneck_distance' is not defined",
     "output_type": "error",
     "traceback": [
      "\u001b[0;31m---------------------------------------------------------------------------\u001b[0m",
      "\u001b[0;31mNameError\u001b[0m                                 Traceback (most recent call last)",
      "\u001b[0;32m<ipython-input-34-571cd028152c>\u001b[0m in \u001b[0;36m<module>\u001b[0;34m()\u001b[0m\n\u001b[0;32m----> 1\u001b[0;31m \u001b[0mmatrix_bottleneck_distance_A_0\u001b[0m\u001b[0;34m=\u001b[0m\u001b[0mcomputeMatrixBottleneckDistance\u001b[0m\u001b[0;34m(\u001b[0m\u001b[0mdiagA_0\u001b[0m\u001b[0;34m)\u001b[0m\u001b[0;34m\u001b[0m\u001b[0m\n\u001b[0m\u001b[1;32m      2\u001b[0m \u001b[0mmatrix_bottleneck_distance_A_1\u001b[0m\u001b[0;34m=\u001b[0m\u001b[0mcomputeMatrixBottleneckDistance\u001b[0m\u001b[0;34m(\u001b[0m\u001b[0mdiagA_1\u001b[0m\u001b[0;34m)\u001b[0m\u001b[0;34m\u001b[0m\u001b[0m\n\u001b[1;32m      3\u001b[0m \u001b[0;34m\u001b[0m\u001b[0m\n\u001b[1;32m      4\u001b[0m \u001b[0mmatrix_bottleneck_distance_B_0\u001b[0m\u001b[0;34m=\u001b[0m\u001b[0mcomputeMatrixBottleneckDistance\u001b[0m\u001b[0;34m(\u001b[0m\u001b[0mdiagB_0\u001b[0m\u001b[0;34m)\u001b[0m\u001b[0;34m\u001b[0m\u001b[0m\n\u001b[1;32m      5\u001b[0m \u001b[0mmatrix_bottleneck_distance_B_1\u001b[0m\u001b[0;34m=\u001b[0m\u001b[0mcomputeMatrixBottleneckDistance\u001b[0m\u001b[0;34m(\u001b[0m\u001b[0mdiagB_1\u001b[0m\u001b[0;34m)\u001b[0m\u001b[0;34m\u001b[0m\u001b[0m\n",
      "\u001b[0;32m<ipython-input-33-2906c21a626f>\u001b[0m in \u001b[0;36mcomputeMatrixBottleneckDistance\u001b[0;34m(diagList1)\u001b[0m\n\u001b[1;32m      3\u001b[0m     \u001b[0;32mfor\u001b[0m \u001b[0mi\u001b[0m \u001b[0;32min\u001b[0m \u001b[0mrange\u001b[0m\u001b[0;34m(\u001b[0m\u001b[0mlen\u001b[0m\u001b[0;34m(\u001b[0m\u001b[0mdiagList1\u001b[0m\u001b[0;34m)\u001b[0m\u001b[0;34m)\u001b[0m\u001b[0;34m:\u001b[0m\u001b[0;34m\u001b[0m\u001b[0m\n\u001b[1;32m      4\u001b[0m         \u001b[0;32mfor\u001b[0m \u001b[0mj\u001b[0m \u001b[0;32min\u001b[0m \u001b[0mrange\u001b[0m\u001b[0;34m(\u001b[0m\u001b[0mi\u001b[0m\u001b[0;34m,\u001b[0m\u001b[0mlen\u001b[0m\u001b[0;34m(\u001b[0m\u001b[0mdiagList1\u001b[0m\u001b[0;34m)\u001b[0m\u001b[0;34m)\u001b[0m\u001b[0;34m:\u001b[0m\u001b[0;34m\u001b[0m\u001b[0m\n\u001b[0;32m----> 5\u001b[0;31m             \u001b[0mdist\u001b[0m\u001b[0;34m=\u001b[0m\u001b[0mbottleneck_distance\u001b[0m\u001b[0;34m(\u001b[0m\u001b[0mdiagList1\u001b[0m\u001b[0;34m[\u001b[0m\u001b[0mi\u001b[0m\u001b[0;34m]\u001b[0m\u001b[0;34m,\u001b[0m \u001b[0mdiagList1\u001b[0m\u001b[0;34m[\u001b[0m\u001b[0mj\u001b[0m\u001b[0;34m]\u001b[0m\u001b[0;34m,\u001b[0m \u001b[0;36m0.001\u001b[0m\u001b[0;34m)\u001b[0m\u001b[0;34m\u001b[0m\u001b[0m\n\u001b[0m\u001b[1;32m      6\u001b[0m             \u001b[0mmatrix\u001b[0m\u001b[0;34m[\u001b[0m\u001b[0mi\u001b[0m\u001b[0;34m,\u001b[0m\u001b[0mj\u001b[0m\u001b[0;34m]\u001b[0m\u001b[0;34m=\u001b[0m\u001b[0mdist\u001b[0m\u001b[0;34m\u001b[0m\u001b[0m\n\u001b[1;32m      7\u001b[0m             \u001b[0mmatrix\u001b[0m\u001b[0;34m[\u001b[0m\u001b[0mj\u001b[0m\u001b[0;34m,\u001b[0m\u001b[0mi\u001b[0m\u001b[0;34m]\u001b[0m\u001b[0;34m=\u001b[0m\u001b[0mdist\u001b[0m\u001b[0;34m\u001b[0m\u001b[0m\n",
      "\u001b[0;31mNameError\u001b[0m: name 'bottleneck_distance' is not defined"
     ]
    }
   ],
   "source": [
    "matrix_bottleneck_distance_A_0=computeMatrixBottleneckDistance(diagA_0)\n",
    "matrix_bottleneck_distance_A_1=computeMatrixBottleneckDistance(diagA_1)\n",
    "\n",
    "matrix_bottleneck_distance_B_0=computeMatrixBottleneckDistance(diagB_0)\n",
    "matrix_bottleneck_distance_B_1=computeMatrixBottleneckDistance(diagB_1)\n",
    "\n",
    "matrix_bottleneck_distance_C_0=computeMatrixBottleneckDistance(diagC_0)\n",
    "matrix_bottleneck_distance_C_1=computeMatrixBottleneckDistance(diagC_1)"
   ]
  },
  {
   "cell_type": "markdown",
   "metadata": {},
   "source": [
    "### Pedestrian A"
   ]
  },
  {
   "cell_type": "code",
   "execution_count": 20,
   "metadata": {},
   "outputs": [
    {
     "ename": "NameError",
     "evalue": "name 'matrix_bottleneck_distance_A_0' is not defined",
     "output_type": "error",
     "traceback": [
      "\u001b[0;31m---------------------------------------------------------------------------\u001b[0m",
      "\u001b[0;31mNameError\u001b[0m                                 Traceback (most recent call last)",
      "\u001b[0;32m<ipython-input-20-7a642e6bfc00>\u001b[0m in \u001b[0;36m<module>\u001b[0;34m()\u001b[0m\n\u001b[1;32m      1\u001b[0m mds2 = manifold.MDS(n_components=2, max_iter=3000, eps=1e-9,\n\u001b[1;32m      2\u001b[0m                    dissimilarity=\"precomputed\", n_jobs=1)\n\u001b[0;32m----> 3\u001b[0;31m \u001b[0mpos\u001b[0m \u001b[0;34m=\u001b[0m \u001b[0mmds2\u001b[0m\u001b[0;34m.\u001b[0m\u001b[0mfit\u001b[0m\u001b[0;34m(\u001b[0m\u001b[0mmatrix_bottleneck_distance_A_0\u001b[0m\u001b[0;34m)\u001b[0m\u001b[0;34m.\u001b[0m\u001b[0membedding_\u001b[0m\u001b[0;34m\u001b[0m\u001b[0m\n\u001b[0m\u001b[1;32m      4\u001b[0m \u001b[0;34m\u001b[0m\u001b[0m\n\u001b[1;32m      5\u001b[0m \u001b[0mplt\u001b[0m\u001b[0;34m.\u001b[0m\u001b[0msubplots_adjust\u001b[0m\u001b[0;34m(\u001b[0m\u001b[0mbottom\u001b[0m \u001b[0;34m=\u001b[0m \u001b[0;36m0.1\u001b[0m\u001b[0;34m)\u001b[0m\u001b[0;34m\u001b[0m\u001b[0m\n",
      "\u001b[0;31mNameError\u001b[0m: name 'matrix_bottleneck_distance_A_0' is not defined"
     ]
    }
   ],
   "source": [
    "mds2 = manifold.MDS(n_components=2, max_iter=3000, eps=1e-9,\n",
    "                   dissimilarity=\"precomputed\", n_jobs=1)\n",
    "pos = mds2.fit(matrix_bottleneck_distance_A_0).embedding_\n",
    "\n",
    "plt.subplots_adjust(bottom = 0.1)\n",
    "plt.scatter(\n",
    "    pos[:, 0], pos[:, 1], marker = 'o'\n",
    "    )\n",
    "plt.show()"
   ]
  },
  {
   "cell_type": "markdown",
   "metadata": {},
   "source": [
    "### Computing persistence landscape\n",
    "This function should take as input a persistence\n",
    "diagram dgm (in the Gudhi format), a dimension k, the endpoints xmin, xmax of an interval, the\n",
    "number nbnodes of nodes of a regular grid on the interval [xmin, xmax] and a number of landscapes\n",
    "nbld, and output a nbld × nbnodes array storing the values of the first nbld landscapes of dgm on the\n",
    "node of the grid. Check, on some simple examples that your code is correct."
   ]
  },
  {
   "cell_type": "markdown",
   "metadata": {},
   "source": [
    "### For each 0-dimensional and 1-dimensional persistence diagrams, compute the first 5 landscapes on a\n",
    "relevant interval with a few hundred of nodes. Splitting randomly the data set into a 80/20 learning/test\n",
    "data, use a random forest to explore the performances of the 0-dimensional or 1-dimensional landscapes\n",
    "to classify pedestrians. An example of code to realize such an experiment can be downloaded at http:\n",
    "//geometrica.saclay.inria.fr/team/Fred.Chazal/Centrale2017.html. Compare the results you\n",
    "obtain using 0-dimensional landscapes, 1-dimensional landscapes or both.\n",
    "\n"
   ]
  },
  {
   "cell_type": "markdown",
   "metadata": {},
   "source": [
    "### Do the same experiment as previously, but using the raw data ( 3 × 200 array of acceleration coordinates).\n",
    "Compare the obtained classification results to the previous one."
   ]
  },
  {
   "cell_type": "markdown",
   "metadata": {},
   "source": [
    "## Random Forest"
   ]
  },
  {
   "cell_type": "code",
   "execution_count": 5,
   "metadata": {},
   "outputs": [
    {
     "ename": "NameError",
     "evalue": "name 'L1_list' is not defined",
     "output_type": "error",
     "traceback": [
      "\u001b[0;31m---------------------------------------------------------------------------\u001b[0m",
      "\u001b[0;31mNameError\u001b[0m                                 Traceback (most recent call last)",
      "\u001b[0;32m<ipython-input-5-a08284169e96>\u001b[0m in \u001b[0;36m<module>\u001b[0;34m()\u001b[0m\n\u001b[1;32m     16\u001b[0m \u001b[0mavg\u001b[0m \u001b[0;34m=\u001b[0m \u001b[0;36m0\u001b[0m\u001b[0;34m\u001b[0m\u001b[0m\n\u001b[1;32m     17\u001b[0m \u001b[0;32mfor\u001b[0m \u001b[0mi\u001b[0m \u001b[0;32min\u001b[0m \u001b[0mrange\u001b[0m\u001b[0;34m(\u001b[0m\u001b[0;36m20\u001b[0m\u001b[0;34m)\u001b[0m\u001b[0;34m:\u001b[0m\u001b[0;34m\u001b[0m\u001b[0m\n\u001b[0;32m---> 18\u001b[0;31m     \u001b[0mL_train\u001b[0m\u001b[0;34m,\u001b[0m \u001b[0mL_test\u001b[0m\u001b[0;34m,\u001b[0m \u001b[0mlabel_train\u001b[0m\u001b[0;34m,\u001b[0m \u001b[0mlabel_test\u001b[0m \u001b[0;34m=\u001b[0m \u001b[0mtrain_test_split\u001b[0m\u001b[0;34m(\u001b[0m\u001b[0mL1_list\u001b[0m\u001b[0;34m,\u001b[0m \u001b[0mlabel\u001b[0m\u001b[0;34m,\u001b[0m \u001b[0mtest_size\u001b[0m\u001b[0;34m=\u001b[0m\u001b[0;36m0.2\u001b[0m\u001b[0;34m)\u001b[0m\u001b[0;34m\u001b[0m\u001b[0m\n\u001b[0m\u001b[1;32m     19\u001b[0m     \u001b[0mRF\u001b[0m \u001b[0;34m=\u001b[0m \u001b[0mRandomForestClassifier\u001b[0m\u001b[0;34m(\u001b[0m\u001b[0;34m)\u001b[0m\u001b[0;34m\u001b[0m\u001b[0m\n\u001b[1;32m     20\u001b[0m     \u001b[0mRF\u001b[0m\u001b[0;34m.\u001b[0m\u001b[0mfit\u001b[0m\u001b[0;34m(\u001b[0m\u001b[0mL_train\u001b[0m\u001b[0;34m,\u001b[0m \u001b[0mlabel_train\u001b[0m\u001b[0;34m)\u001b[0m\u001b[0;34m\u001b[0m\u001b[0m\n",
      "\u001b[0;31mNameError\u001b[0m: name 'L1_list' is not defined"
     ]
    }
   ],
   "source": [
    "# -*- coding: utf-8 -*-\n",
    "\"\"\"\n",
    "Created on Sun Dec 17 18:33:31 2017\n",
    "\n",
    "@author: Fredreci Chazal - All rights reserved\n",
    "\"\"\"\n",
    "from sklearn.ensemble import RandomForestClassifier\n",
    "from sklearn.model_selection import train_test_split\n",
    "from sklearn.metrics import confusion_matrix\n",
    "\n",
    "#### Classification with random forests \n",
    "#### Interesting compare with L0_list, L1_list and L_list\n",
    "#### where L0_list, L1_list and L_list are list storing the $0$-dimensional \n",
    "#### landscapes, $1$-dimensional landscapes, and the concatenation of both \n",
    "#### respectively\n",
    "avg = 0\n",
    "for i in range(20):\n",
    "    L_train, L_test, label_train, label_test = train_test_split(L1_list, label, test_size=0.2)\n",
    "    RF = RandomForestClassifier()\n",
    "    RF.fit(L_train, label_train)\n",
    "    print(np.mean(RF.predict(L_test) == label_test) )\n",
    "    avg += np.mean(RF.predict(L_test) == label_test)\n",
    "    #print(confusion_matrix(RF.predict(L_test), label_test))\n",
    "print (\"avg pred: \",avg/20)\n",
    "\n",
    "plt.plot(RF.feature_importances_)"
   ]
  },
  {
   "cell_type": "code",
   "execution_count": null,
   "metadata": {
    "collapsed": true
   },
   "outputs": [],
   "source": []
  }
 ],
 "metadata": {
  "kernelspec": {
   "display_name": "Python 3",
   "language": "python",
   "name": "python3"
  },
  "language_info": {
   "codemirror_mode": {
    "name": "ipython",
    "version": 3
   },
   "file_extension": ".py",
   "mimetype": "text/x-python",
   "name": "python",
   "nbconvert_exporter": "python",
   "pygments_lexer": "ipython3",
   "version": "3.6.3"
  }
 },
 "nbformat": 4,
 "nbformat_minor": 2
}
