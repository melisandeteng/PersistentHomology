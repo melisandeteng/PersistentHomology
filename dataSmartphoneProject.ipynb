{
 "cells": [
  {
   "cell_type": "markdown",
   "metadata": {},
   "source": [
    "# Persistent homology for smartphone data analysis (pedestrian recognition)"
   ]
  },
  {
   "cell_type": "markdown",
   "metadata": {},
   "source": [
    "__Description__: The goal of this is project to illustrate, on a toy example, the benefit of “coordinate in- variance” of persistent homology. The walk of 3 pedestrians A, B and C, has been recorded using the accelerometer sensor of a smartphone carried in the their pocket, giving rise to 3 multivariate time series in R3: each time series represents the 3 coordinates of the acceleration of the corresponding pedestrian in a coordinate system attached to the sensor. As, the smartphone was carried in unknown different positions and was not fixed, these time series cannot be compared coordinates by coordinates. Using a sliding window, each series has been splitted in a list of 100 times series made of 200 consecutive points, that are stored in data A, data B and data C. To each set of 200 points is associated a label A, B or C stored in label (see the data set and the Python script to load the data). The objective is to compute the persistence diagrams of these 3D point clouds and use them to achieve a pedestrian recognition task (supervised setting).\n",
    "Note: This project requires some (basic) knowledge of learning (random forests)."
   ]
  },
  {
   "cell_type": "code",
   "execution_count": 5,
   "metadata": {},
   "outputs": [],
   "source": [
    "import numpy as np\n",
    "import pickle as pickle\n",
    "from os.path import join\n",
    "from sklearn import manifold\n",
    "import matplotlib.pyplot as plt\n",
    "%matplotlib inline"
   ]
  },
  {
   "cell_type": "markdown",
   "metadata": {},
   "source": [
    "## ## Question 1: Loading Data"
   ]
  },
  {
   "cell_type": "code",
   "execution_count": 6,
   "metadata": {},
   "outputs": [],
   "source": [
    "path=\"/Users/yaguethiam/PersistentHomology/data_acc_rot.dat\""
   ]
  },
  {
   "cell_type": "code",
   "execution_count": 7,
   "metadata": {},
   "outputs": [
    {
     "name": "stdout",
     "output_type": "stream",
     "text": [
      "300\n"
     ]
    }
   ],
   "source": [
    "f = open(path,\"rb\")\n",
    "data = pickle.load(f,encoding='latin1')\n",
    "f.close()\n",
    "\n",
    "data_A = data[0]\n",
    "data_B = data[1] \n",
    "data_C = data[2]\n",
    "label = data[3]\n",
    "print(len(data[3]))"
   ]
  },
  {
   "cell_type": "markdown",
   "metadata": {},
   "source": [
    "## Question 2:"
   ]
  },
  {
   "cell_type": "markdown",
   "metadata": {},
   "source": [
    "Compute and save the 0-dimensional and 1-dimensional persistence diagrams of the Rips filtrations (or alternately the alpha-shape filtrations) built on top of each of the 300 point clouds in R3."
   ]
  },
  {
   "cell_type": "code",
   "execution_count": 8,
   "metadata": {},
   "outputs": [],
   "source": [
    "path_to_cython_gudhi='/Users/yaguethiam/2017-10-02-10-19-30_GUDHI_2.0.1/build/cython'\n",
    "import sys\n",
    "sys.path.append(path_to_cython_gudhi)\n",
    "import gudhi"
   ]
  },
  {
   "cell_type": "markdown",
   "metadata": {},
   "source": [
    "## About persistent homology \n",
    "\n",
    "### General definitions\n",
    "Let (P, D) be a metric space where P is a point set. \n",
    "Given r > 0, the Rips complex is the simplicial complex R(P) constituted by the simplexes such that$d(p,q) \\leq r$ for every pair of vertices in the simplex.  \n",
    "Constructing the Rips complex helps capture the topology of the data set. Choosing $r$ is a difficult task because if $r$ ois too small, the complex is a discrete set, and if $r$ is too large, the complex becomes a single high-dimensional complex.\n",
    "\n",
    "\n",
    "Given a filtration $(K_0, K_1, ..., K_n)$, the $p$-dimensional persistence diagram is the set of points (i,j) such that the number of $p$-dimensional homology classes born at $K_i$ that die entering $K_j$ is one.  \n",
    "Here the filtration will actually be a sequence of Rips complexes associated to the 3D point cloud for an increasing\n",
    "sequence of parameter values ($r_i$).\n"
   ]
  },
  {
   "cell_type": "markdown",
   "metadata": {},
   "source": [
    "### 0-dimensional persistence diagrams of the Rips filtrations"
   ]
  },
  {
   "cell_type": "markdown",
   "metadata": {},
   "source": [
    "In order to draw the 0-dimensional persistence diagram of the Rips filtrations, we use \\verb gudhi.RipsComplex on the 3D point cloud. "
   ]
  },
  {
   "cell_type": "code",
   "execution_count": 20,
   "metadata": {},
   "outputs": [],
   "source": [
    "def build_0_persistent_diag(dataset, maxEdgeLen=100):\n",
    "    persist=[]\n",
    "    for i in range(len(dataset)):\n",
    "        rips = gudhi.RipsComplex(points=dataset[i],max_edge_length=maxEdgeLen)\n",
    "        simplex_tree = rips.create_simplex_tree(max_dimension=1)\n",
    "        diag = simplex_tree.persistence()\n",
    "        persist.append(diag)\n",
    "        return persist"
   ]
  },
  {
   "cell_type": "code",
   "execution_count": 23,
   "metadata": {},
   "outputs": [],
   "source": [
    "diagA_0=build_0_persistent_diag(data_A)\n",
    "diagB_0=build_0_persistent_diag(data_B)\n",
    "diagC_0=build_0_persistent_diag(data_C)"
   ]
  },
  {
   "cell_type": "markdown",
   "metadata": {},
   "source": [
    "### 1-dimensional persistence diagrams of the Rips filtrations"
   ]
  },
  {
   "cell_type": "code",
   "execution_count": 36,
   "metadata": {},
   "outputs": [],
   "source": [
    "def build_1_persistent_diag(dataset, maxEdgeLen=10):\n",
    "    persist=[]\n",
    "    for i in range(len(dataset)):\n",
    "        rips = gudhi.RipsComplex(points=dataset[i],max_edge_length=maxEdgeLen)\n",
    "        simplex_tree = rips.create_simplex_tree(max_dimension=2)\n",
    "        diag = simplex_tree.persistence()\n",
    "        persist.append(diag)\n",
    "        return persist"
   ]
  },
  {
   "cell_type": "code",
   "execution_count": 37,
   "metadata": {},
   "outputs": [],
   "source": [
    "diagA_1=build_1_persistent_diag(data_A)\n",
    "diagB_1=build_1_persistent_diag(data_B)\n",
    "diagC_1=build_1_persistent_diag(data_C)"
   ]
  },
  {
   "cell_type": "code",
   "execution_count": 38,
   "metadata": {},
   "outputs": [
    {
     "data": {
      "text/plain": [
       "[(1, (0.3534578242152804, 0.5171918008920868)),\n",
       " (1, (0.35989348040218794, 0.4379205821584549)),\n",
       " (1, (0.6310080748247205, 0.6989516825425061)),\n",
       " (1, (0.2970786513921858, 0.3573991058214891)),\n",
       " (1, (0.16630172892366452, 0.21909549145749205)),\n",
       " (1, (0.36778574664198155, 0.41938362742481955)),\n",
       " (1, (0.15947094292378164, 0.20996904058932117)),\n",
       " (1, (0.12252187341858606, 0.169266031707487)),\n",
       " (1, (0.21594797347740943, 0.26238478582608393)),\n",
       " (1, (0.21018997407107684, 0.25408370937547337)),\n",
       " (1, (0.18577813421659714, 0.2276137821727849)),\n",
       " (1, (0.13256542889456502, 0.17198706625208793)),\n",
       " (1, (0.16044224399764553, 0.19979830087866118)),\n",
       " (1, (0.2515107495714645, 0.2856232777943702)),\n",
       " (1, (0.27734829949000955, 0.3110214452477514)),\n",
       " (1, (0.22306854678775295, 0.24895400765201584)),\n",
       " (1, (0.41003432731175093, 0.43518548084581143)),\n",
       " (1, (0.15106329353287667, 0.17564803890450945)),\n",
       " (1, (0.1502983125321106, 0.17328127239837532)),\n",
       " (1, (0.13608813636390207, 0.15836466141472325)),\n",
       " (1, (0.2164436781174259, 0.23692682009852742)),\n",
       " (1, (0.09340999820683012, 0.11296062206804636)),\n",
       " (1, (0.0839188460954987, 0.10201861109131026)),\n",
       " (1, (0.1115510689908438, 0.12946150313896398)),\n",
       " (1, (0.14277116126515185, 0.16057440007049692)),\n",
       " (1, (0.11303016767217525, 0.1304147089288628)),\n",
       " (1, (0.08829511360205616, 0.10505888544049945)),\n",
       " (1, (0.1674365343465995, 0.18314006724089604)),\n",
       " (1, (0.05916433615785783, 0.07455566726949733)),\n",
       " (1, (0.10735496921894201, 0.12271828808290955)),\n",
       " (1, (0.07084606727970158, 0.08428571844624687)),\n",
       " (1, (0.13222669868449408, 0.1453115233352125)),\n",
       " (1, (0.12574440840450904, 0.13836286090566322)),\n",
       " (1, (0.14729461735582866, 0.15985988525267986)),\n",
       " (1, (0.10735993150612576, 0.1181444822367935)),\n",
       " (1, (0.3417730018667362, 0.3512257466829563)),\n",
       " (1, (0.0633719783184966, 0.07209086422702954)),\n",
       " (1, (0.0918965172789481, 0.09920121088474677)),\n",
       " (1, (0.5964170606689586, 0.6036201163496794)),\n",
       " (1, (0.09485946150490208, 0.10060768926876301)),\n",
       " (1, (0.4313274655629989, 0.43680303080564814)),\n",
       " (1, (0.07672702751964286, 0.08193426190550596)),\n",
       " (1, (0.44485972396700496, 0.44976896826037227)),\n",
       " (1, (0.21665692697903743, 0.22097960473763187)),\n",
       " (1, (0.07615866895501784, 0.07993456742861635)),\n",
       " (1, (0.25150621730883715, 0.25374955130797777)),\n",
       " (1, (0.09920507007708826, 0.10099711782521317)),\n",
       " (1, (0.14039534574194398, 0.14176328825545764)),\n",
       " (1, (0.21010884707931737, 0.2111881948334233)),\n",
       " (1, (0.1146082768433414, 0.11518178182768302)),\n",
       " (1, (0.1289136687942746, 0.12921132804053964)),\n",
       " (1, (0.11062083185367941, 0.11080400342045413)),\n",
       " (1, (0.2836255961404047, 0.2836959136610888)),\n",
       " (0, (0.0, inf)),\n",
       " (0, (0.0, 0.757473586285357)),\n",
       " (0, (0.0, 0.6243053048541234)),\n",
       " (0, (0.0, 0.5606895675647979)),\n",
       " (0, (0.0, 0.527155986490716)),\n",
       " (0, (0.0, 0.46076026817098675)),\n",
       " (0, (0.0, 0.35063593819516)),\n",
       " (0, (0.0, 0.34816246880587237)),\n",
       " (0, (0.0, 0.3259906147820824)),\n",
       " (0, (0.0, 0.29332127091808397)),\n",
       " (0, (0.0, 0.2911038136988247)),\n",
       " (0, (0.0, 0.28274292573113097)),\n",
       " (0, (0.0, 0.2819557707974781)),\n",
       " (0, (0.0, 0.2815512723146532)),\n",
       " (0, (0.0, 0.2798955114484688)),\n",
       " (0, (0.0, 0.2791671885447857)),\n",
       " (0, (0.0, 0.2711332620852703)),\n",
       " (0, (0.0, 0.2659102691003113)),\n",
       " (0, (0.0, 0.25123263205443674)),\n",
       " (0, (0.0, 0.2504946427970068)),\n",
       " (0, (0.0, 0.2502176523628978)),\n",
       " (0, (0.0, 0.24780822147983705)),\n",
       " (0, (0.0, 0.24486267651277524)),\n",
       " (0, (0.0, 0.2427886094568689)),\n",
       " (0, (0.0, 0.24162906101915801)),\n",
       " (0, (0.0, 0.22654045788556182)),\n",
       " (0, (0.0, 0.2257762455773415)),\n",
       " (0, (0.0, 0.2195210694876461)),\n",
       " (0, (0.0, 0.21462767675209077)),\n",
       " (0, (0.0, 0.21376318644004172)),\n",
       " (0, (0.0, 0.20881889154480243)),\n",
       " (0, (0.0, 0.20728262779355142)),\n",
       " (0, (0.0, 0.20173504040200846)),\n",
       " (0, (0.0, 0.20055462591772807)),\n",
       " (0, (0.0, 0.19903455949909807)),\n",
       " (0, (0.0, 0.1971658360188195)),\n",
       " (0, (0.0, 0.1910934571407403)),\n",
       " (0, (0.0, 0.19065457093392763)),\n",
       " (0, (0.0, 0.18886664962613176)),\n",
       " (0, (0.0, 0.18687996165720913)),\n",
       " (0, (0.0, 0.18618858878567188)),\n",
       " (0, (0.0, 0.18586499778602747)),\n",
       " (0, (0.0, 0.18425785470638686)),\n",
       " (0, (0.0, 0.18321071340399298)),\n",
       " (0, (0.0, 0.18060730527030194)),\n",
       " (0, (0.0, 0.1761392472051585)),\n",
       " (0, (0.0, 0.17508530035956765)),\n",
       " (0, (0.0, 0.1667340774316996)),\n",
       " (0, (0.0, 0.1660329639469222)),\n",
       " (0, (0.0, 0.16341677591361303)),\n",
       " (0, (0.0, 0.15596880998456075)),\n",
       " (0, (0.0, 0.1529346833651543)),\n",
       " (0, (0.0, 0.15259111186763133)),\n",
       " (0, (0.0, 0.149864631084189)),\n",
       " (0, (0.0, 0.1495501552924638)),\n",
       " (0, (0.0, 0.14594492431736017)),\n",
       " (0, (0.0, 0.14591129795872573)),\n",
       " (0, (0.0, 0.1440606253283665)),\n",
       " (0, (0.0, 0.14252257332436846)),\n",
       " (0, (0.0, 0.14155896062771856)),\n",
       " (0, (0.0, 0.14143750207070258)),\n",
       " (0, (0.0, 0.14064649367118962)),\n",
       " (0, (0.0, 0.1393799356076764)),\n",
       " (0, (0.0, 0.13678715862609322)),\n",
       " (0, (0.0, 0.1360591164494317)),\n",
       " (0, (0.0, 0.13575432269729018)),\n",
       " (0, (0.0, 0.13259506616009506)),\n",
       " (0, (0.0, 0.13198909979994553)),\n",
       " (0, (0.0, 0.13094889354629918)),\n",
       " (0, (0.0, 0.12926296391851758)),\n",
       " (0, (0.0, 0.12889994105894692)),\n",
       " (0, (0.0, 0.1279736008245451)),\n",
       " (0, (0.0, 0.1270729914576657)),\n",
       " (0, (0.0, 0.12475803699161025)),\n",
       " (0, (0.0, 0.12309356188688354)),\n",
       " (0, (0.0, 0.12188826514886511)),\n",
       " (0, (0.0, 0.1216216836916839)),\n",
       " (0, (0.0, 0.1210402260820757)),\n",
       " (0, (0.0, 0.11985558004114795)),\n",
       " (0, (0.0, 0.11662842293369143)),\n",
       " (0, (0.0, 0.11486889317391367)),\n",
       " (0, (0.0, 0.11457804807640944)),\n",
       " (0, (0.0, 0.11437660419858603)),\n",
       " (0, (0.0, 0.11306131464386922)),\n",
       " (0, (0.0, 0.1129841203444094)),\n",
       " (0, (0.0, 0.11256308990961472)),\n",
       " (0, (0.0, 0.11169684537174712)),\n",
       " (0, (0.0, 0.11105241172077251)),\n",
       " (0, (0.0, 0.11065449692624346)),\n",
       " (0, (0.0, 0.11046316521356785)),\n",
       " (0, (0.0, 0.10825995731109413)),\n",
       " (0, (0.0, 0.10821144555452535)),\n",
       " (0, (0.0, 0.1078733766135092)),\n",
       " (0, (0.0, 0.10724346168415126)),\n",
       " (0, (0.0, 0.10672505035838589)),\n",
       " (0, (0.0, 0.10658069228992656)),\n",
       " (0, (0.0, 0.10538201574272522)),\n",
       " (0, (0.0, 0.10490077095045575)),\n",
       " (0, (0.0, 0.1032217422300167)),\n",
       " (0, (0.0, 0.10037419933429065)),\n",
       " (0, (0.0, 0.09707608126619031)),\n",
       " (0, (0.0, 0.09455137874193041)),\n",
       " (0, (0.0, 0.09386317862186433)),\n",
       " (0, (0.0, 0.09310076535131158)),\n",
       " (0, (0.0, 0.09222928156502139)),\n",
       " (0, (0.0, 0.09135657661602675)),\n",
       " (0, (0.0, 0.09040037157556381)),\n",
       " (0, (0.0, 0.0901127280965349)),\n",
       " (0, (0.0, 0.09008570919962836)),\n",
       " (0, (0.0, 0.08916528567217175)),\n",
       " (0, (0.0, 0.08901995116264691)),\n",
       " (0, (0.0, 0.08819890481179461)),\n",
       " (0, (0.0, 0.08732390418436399)),\n",
       " (0, (0.0, 0.08647639200382956)),\n",
       " (0, (0.0, 0.0850727113239022)),\n",
       " (0, (0.0, 0.0837177510328605)),\n",
       " (0, (0.0, 0.08252646145934077)),\n",
       " (0, (0.0, 0.08130107848608174)),\n",
       " (0, (0.0, 0.0809793813078367)),\n",
       " (0, (0.0, 0.0804247708669413)),\n",
       " (0, (0.0, 0.07926909706815134)),\n",
       " (0, (0.0, 0.07837925206328525)),\n",
       " (0, (0.0, 0.07817083497699126)),\n",
       " (0, (0.0, 0.07765503557400509)),\n",
       " (0, (0.0, 0.07761071493679193)),\n",
       " (0, (0.0, 0.07680516053625563)),\n",
       " (0, (0.0, 0.07635653199956112)),\n",
       " (0, (0.0, 0.07461933783544313)),\n",
       " (0, (0.0, 0.07456725048571945)),\n",
       " (0, (0.0, 0.07224164409812386)),\n",
       " (0, (0.0, 0.07132187575351619)),\n",
       " (0, (0.0, 0.07120414447207407)),\n",
       " (0, (0.0, 0.07110367420183006)),\n",
       " (0, (0.0, 0.07000667016077834)),\n",
       " (0, (0.0, 0.06957493794463636)),\n",
       " (0, (0.0, 0.06897824423686068)),\n",
       " (0, (0.0, 0.06856004070156319)),\n",
       " (0, (0.0, 0.06824543438941545)),\n",
       " (0, (0.0, 0.06668874982333964)),\n",
       " (0, (0.0, 0.06663843343746907)),\n",
       " (0, (0.0, 0.06595281624767817)),\n",
       " (0, (0.0, 0.06531826641912637)),\n",
       " (0, (0.0, 0.06479127974503972)),\n",
       " (0, (0.0, 0.06477532903042639)),\n",
       " (0, (0.0, 0.0640275385986373)),\n",
       " (0, (0.0, 0.06328610514955102)),\n",
       " (0, (0.0, 0.06306016749105572)),\n",
       " (0, (0.0, 0.06289197184855938)),\n",
       " (0, (0.0, 0.062287179579749635)),\n",
       " (0, (0.0, 0.06218728066091975)),\n",
       " (0, (0.0, 0.060044296656718406)),\n",
       " (0, (0.0, 0.0589950843121696)),\n",
       " (0, (0.0, 0.05826056378889581)),\n",
       " (0, (0.0, 0.05787650225264128)),\n",
       " (0, (0.0, 0.057512247217440714)),\n",
       " (0, (0.0, 0.05719937071332165)),\n",
       " (0, (0.0, 0.0571211215751232)),\n",
       " (0, (0.0, 0.056639620037567326)),\n",
       " (0, (0.0, 0.056489413636538796)),\n",
       " (0, (0.0, 0.053891616342433106)),\n",
       " (0, (0.0, 0.05300940690103978)),\n",
       " (0, (0.0, 0.052972288359103455)),\n",
       " (0, (0.0, 0.05237062388400592)),\n",
       " (0, (0.0, 0.05223091342299118)),\n",
       " (0, (0.0, 0.05116340319017101)),\n",
       " (0, (0.0, 0.05054287516554633)),\n",
       " (0, (0.0, 0.04945568287871483)),\n",
       " (0, (0.0, 0.049446930966441406)),\n",
       " (0, (0.0, 0.04939531997062072)),\n",
       " (0, (0.0, 0.0493210562843093)),\n",
       " (0, (0.0, 0.04907053092233664)),\n",
       " (0, (0.0, 0.049038370874244896)),\n",
       " (0, (0.0, 0.04820666541050106)),\n",
       " (0, (0.0, 0.047815556527138744)),\n",
       " (0, (0.0, 0.04574153015586615)),\n",
       " (0, (0.0, 0.045534694475751)),\n",
       " (0, (0.0, 0.044432925156914896)),\n",
       " (0, (0.0, 0.04408758008782072)),\n",
       " (0, (0.0, 0.04407876315188522)),\n",
       " (0, (0.0, 0.04289086930804735)),\n",
       " (0, (0.0, 0.04242459421137698)),\n",
       " (0, (0.0, 0.04201208094108168)),\n",
       " (0, (0.0, 0.04032110402754364)),\n",
       " (0, (0.0, 0.03893053683164403)),\n",
       " (0, (0.0, 0.03814255736051264)),\n",
       " (0, (0.0, 0.03719660733185194)),\n",
       " (0, (0.0, 0.03357597094649696)),\n",
       " (0, (0.0, 0.03136645649415937)),\n",
       " (0, (0.0, 0.030012806549871273)),\n",
       " (0, (0.0, 0.029740133170515628)),\n",
       " (0, (0.0, 0.028140142234892567)),\n",
       " (0, (0.0, 0.026908715056650222)),\n",
       " (0, (0.0, 0.025497774589167563)),\n",
       " (0, (0.0, 0.024532427886371163)),\n",
       " (0, (0.0, 0.022302677619514585)),\n",
       " (0, (0.0, 0.020296831944911945)),\n",
       " (0, (0.0, 0.018364641052849375)),\n",
       " (0, (0.0, 0.016905998698686912)),\n",
       " (0, (0.0, 0.016635404233140815)),\n",
       " (0, (0.0, 0.015547225443789114))]"
      ]
     },
     "execution_count": 38,
     "metadata": {},
     "output_type": "execute_result"
    }
   ],
   "source": [
    "diagA_1[0]"
   ]
  },
  {
   "cell_type": "markdown",
   "metadata": {},
   "source": [
    "## Question 3: Matrices of pairwise bottleneck distances between diagrams and use a dimensionality reduction algorithm to visualize them in 2D and 3D (e.g. Multidimensional Scaling).\n"
   ]
  },
  {
   "cell_type": "markdown",
   "metadata": {},
   "source": [
    "The bottleneck distance measures the similarity between two persistence diagrams. It is the shortest distance $d$ for which there exists a perfect matching between the points of the two diagrams such that any couple of matched points are at distance at most $d$. The cost of matching, i.e. taking a point $p$ of the first diagram to a point $p'$ of the second diagram corresponds the minimum between moving $p$ to $p'$ and moving both points on the diagonal.\n",
    "\n",
    "USE Gudhi::persistence_diagram::bottleneck_distance (const Persistence_diagram1 &diag1, const Persistence_diagram2 &diag2, double e=(std::numeric_limits< double >::min)())\n",
    "\n",
    "Why are we comparing 0 and 1-dimensional persistence diagrams of the Rips filtrations ? \n",
    "\n",
    "BLABLABLABLA"
   ]
  },
  {
   "cell_type": "markdown",
   "metadata": {},
   "source": [
    "USE sklearn.manifold.MDS for multidimensional scaling. "
   ]
  },
  {
   "cell_type": "markdown",
   "metadata": {},
   "source": [
    "remarques du cours\n",
    "→ Vietoris-Rips (or Cech, witness) filtrations quickly become prohibitively large as\n",
    "the size of the data increases ( O(|X|\n",
    "d\n",
    ") ), making the computation of persistence\n",
    "practically almost impossible.\n",
    "→ Persistence diagrams of Rips-Vietoris (and Cˇech, witness,..) filtrations and\n",
    "Gromov-Hausdorff distance are very sensitive to noise and outliers"
   ]
  },
  {
   "cell_type": "code",
   "execution_count": 9,
   "metadata": {},
   "outputs": [],
   "source": [
    "def computeMatrixBottleneckDistance(diagList1):\n",
    "    matrix=np.zeros((len(diagList1),len(diagList1)))\n",
    "    for i in range(len(diagList1)):\n",
    "        for j in range(i,len(diagList1)):\n",
    "            dist=gudhi.bottleneck_distance(diagList1[i], diagList1[j], 0.001)\n",
    "            matrix[i,j]=dist\n",
    "            matrix[j,i]=dist\n",
    "    return matrix"
   ]
  },
  {
   "cell_type": "code",
   "execution_count": 10,
   "metadata": {},
   "outputs": [
    {
     "ename": "AttributeError",
     "evalue": "module 'gudhi' has no attribute 'bottleneck_distance'",
     "output_type": "error",
     "traceback": [
      "\u001b[0;31m---------------------------------------------------------------------------\u001b[0m",
      "\u001b[0;31mAttributeError\u001b[0m                            Traceback (most recent call last)",
      "\u001b[0;32m<ipython-input-10-571cd028152c>\u001b[0m in \u001b[0;36m<module>\u001b[0;34m()\u001b[0m\n\u001b[0;32m----> 1\u001b[0;31m \u001b[0mmatrix_bottleneck_distance_A_0\u001b[0m\u001b[0;34m=\u001b[0m\u001b[0mcomputeMatrixBottleneckDistance\u001b[0m\u001b[0;34m(\u001b[0m\u001b[0mdiagA_0\u001b[0m\u001b[0;34m)\u001b[0m\u001b[0;34m\u001b[0m\u001b[0m\n\u001b[0m\u001b[1;32m      2\u001b[0m \u001b[0mmatrix_bottleneck_distance_A_1\u001b[0m\u001b[0;34m=\u001b[0m\u001b[0mcomputeMatrixBottleneckDistance\u001b[0m\u001b[0;34m(\u001b[0m\u001b[0mdiagA_1\u001b[0m\u001b[0;34m)\u001b[0m\u001b[0;34m\u001b[0m\u001b[0m\n\u001b[1;32m      3\u001b[0m \u001b[0;34m\u001b[0m\u001b[0m\n\u001b[1;32m      4\u001b[0m \u001b[0mmatrix_bottleneck_distance_B_0\u001b[0m\u001b[0;34m=\u001b[0m\u001b[0mcomputeMatrixBottleneckDistance\u001b[0m\u001b[0;34m(\u001b[0m\u001b[0mdiagB_0\u001b[0m\u001b[0;34m)\u001b[0m\u001b[0;34m\u001b[0m\u001b[0m\n\u001b[1;32m      5\u001b[0m \u001b[0mmatrix_bottleneck_distance_B_1\u001b[0m\u001b[0;34m=\u001b[0m\u001b[0mcomputeMatrixBottleneckDistance\u001b[0m\u001b[0;34m(\u001b[0m\u001b[0mdiagB_1\u001b[0m\u001b[0;34m)\u001b[0m\u001b[0;34m\u001b[0m\u001b[0m\n",
      "\u001b[0;32m<ipython-input-9-cccc9eb16c20>\u001b[0m in \u001b[0;36mcomputeMatrixBottleneckDistance\u001b[0;34m(diagList1)\u001b[0m\n\u001b[1;32m      3\u001b[0m     \u001b[0;32mfor\u001b[0m \u001b[0mi\u001b[0m \u001b[0;32min\u001b[0m \u001b[0mrange\u001b[0m\u001b[0;34m(\u001b[0m\u001b[0mlen\u001b[0m\u001b[0;34m(\u001b[0m\u001b[0mdiagList1\u001b[0m\u001b[0;34m)\u001b[0m\u001b[0;34m)\u001b[0m\u001b[0;34m:\u001b[0m\u001b[0;34m\u001b[0m\u001b[0m\n\u001b[1;32m      4\u001b[0m         \u001b[0;32mfor\u001b[0m \u001b[0mj\u001b[0m \u001b[0;32min\u001b[0m \u001b[0mrange\u001b[0m\u001b[0;34m(\u001b[0m\u001b[0mi\u001b[0m\u001b[0;34m,\u001b[0m\u001b[0mlen\u001b[0m\u001b[0;34m(\u001b[0m\u001b[0mdiagList1\u001b[0m\u001b[0;34m)\u001b[0m\u001b[0;34m)\u001b[0m\u001b[0;34m:\u001b[0m\u001b[0;34m\u001b[0m\u001b[0m\n\u001b[0;32m----> 5\u001b[0;31m             \u001b[0mdist\u001b[0m\u001b[0;34m=\u001b[0m\u001b[0mgudhi\u001b[0m\u001b[0;34m.\u001b[0m\u001b[0mbottleneck_distance\u001b[0m\u001b[0;34m(\u001b[0m\u001b[0mdiagList1\u001b[0m\u001b[0;34m[\u001b[0m\u001b[0mi\u001b[0m\u001b[0;34m]\u001b[0m\u001b[0;34m,\u001b[0m \u001b[0mdiagList1\u001b[0m\u001b[0;34m[\u001b[0m\u001b[0mj\u001b[0m\u001b[0;34m]\u001b[0m\u001b[0;34m,\u001b[0m \u001b[0;36m0.001\u001b[0m\u001b[0;34m)\u001b[0m\u001b[0;34m\u001b[0m\u001b[0m\n\u001b[0m\u001b[1;32m      6\u001b[0m             \u001b[0mmatrix\u001b[0m\u001b[0;34m[\u001b[0m\u001b[0mi\u001b[0m\u001b[0;34m,\u001b[0m\u001b[0mj\u001b[0m\u001b[0;34m]\u001b[0m\u001b[0;34m=\u001b[0m\u001b[0mdist\u001b[0m\u001b[0;34m\u001b[0m\u001b[0m\n\u001b[1;32m      7\u001b[0m             \u001b[0mmatrix\u001b[0m\u001b[0;34m[\u001b[0m\u001b[0mj\u001b[0m\u001b[0;34m,\u001b[0m\u001b[0mi\u001b[0m\u001b[0;34m]\u001b[0m\u001b[0;34m=\u001b[0m\u001b[0mdist\u001b[0m\u001b[0;34m\u001b[0m\u001b[0m\n",
      "\u001b[0;31mAttributeError\u001b[0m: module 'gudhi' has no attribute 'bottleneck_distance'"
     ]
    }
   ],
   "source": [
    "matrix_bottleneck_distance_A_0=computeMatrixBottleneckDistance(diagA_0)\n",
    "matrix_bottleneck_distance_A_1=computeMatrixBottleneckDistance(diagA_1)\n",
    "\n",
    "matrix_bottleneck_distance_B_0=computeMatrixBottleneckDistance(diagB_0)\n",
    "matrix_bottleneck_distance_B_1=computeMatrixBottleneckDistance(diagB_1)\n",
    "\n",
    "matrix_bottleneck_distance_C_0=computeMatrixBottleneckDistance(diagC_0)\n",
    "matrix_bottleneck_distance_C_1=computeMatrixBottleneckDistance(diagC_1)"
   ]
  },
  {
   "cell_type": "markdown",
   "metadata": {},
   "source": [
    "### Pedestrian A"
   ]
  },
  {
   "cell_type": "code",
   "execution_count": 20,
   "metadata": {},
   "outputs": [
    {
     "ename": "NameError",
     "evalue": "name 'matrix_bottleneck_distance_A_0' is not defined",
     "output_type": "error",
     "traceback": [
      "\u001b[0;31m---------------------------------------------------------------------------\u001b[0m",
      "\u001b[0;31mNameError\u001b[0m                                 Traceback (most recent call last)",
      "\u001b[0;32m<ipython-input-20-7a642e6bfc00>\u001b[0m in \u001b[0;36m<module>\u001b[0;34m()\u001b[0m\n\u001b[1;32m      1\u001b[0m mds2 = manifold.MDS(n_components=2, max_iter=3000, eps=1e-9,\n\u001b[1;32m      2\u001b[0m                    dissimilarity=\"precomputed\", n_jobs=1)\n\u001b[0;32m----> 3\u001b[0;31m \u001b[0mpos\u001b[0m \u001b[0;34m=\u001b[0m \u001b[0mmds2\u001b[0m\u001b[0;34m.\u001b[0m\u001b[0mfit\u001b[0m\u001b[0;34m(\u001b[0m\u001b[0mmatrix_bottleneck_distance_A_0\u001b[0m\u001b[0;34m)\u001b[0m\u001b[0;34m.\u001b[0m\u001b[0membedding_\u001b[0m\u001b[0;34m\u001b[0m\u001b[0m\n\u001b[0m\u001b[1;32m      4\u001b[0m \u001b[0;34m\u001b[0m\u001b[0m\n\u001b[1;32m      5\u001b[0m \u001b[0mplt\u001b[0m\u001b[0;34m.\u001b[0m\u001b[0msubplots_adjust\u001b[0m\u001b[0;34m(\u001b[0m\u001b[0mbottom\u001b[0m \u001b[0;34m=\u001b[0m \u001b[0;36m0.1\u001b[0m\u001b[0;34m)\u001b[0m\u001b[0;34m\u001b[0m\u001b[0m\n",
      "\u001b[0;31mNameError\u001b[0m: name 'matrix_bottleneck_distance_A_0' is not defined"
     ]
    }
   ],
   "source": [
    "mds2 = manifold.MDS(n_components=2, max_iter=3000, eps=1e-9,\n",
    "                   dissimilarity=\"precomputed\", n_jobs=1)\n",
    "pos = mds2.fit(matrix_bottleneck_distance_A_0).embedding_\n",
    "\n",
    "plt.subplots_adjust(bottom = 0.1)\n",
    "plt.scatter(\n",
    "    pos[:, 0], pos[:, 1], marker = 'o'\n",
    "    )\n",
    "plt.show()"
   ]
  },
  {
   "cell_type": "markdown",
   "metadata": {},
   "source": [
    "## Question 4: Computing persistence landscape\n",
    "This function should take as input a persistence\n",
    "diagram dgm (in the Gudhi format), a dimension k, the endpoints xmin, xmax of an interval, the\n",
    "number nb_nodes of nodes of a regular grid on the interval [xmin, xmax] and a number of landscapes\n",
    "nb_ld, and output a nbld × nbnodes array storing the values of the first nb_ld landscapes of dgm on the\n",
    "node of the grid. Check, on some simple examples that your code is correct."
   ]
  },
  {
   "cell_type": "code",
   "execution_count": 59,
   "metadata": {},
   "outputs": [
    {
     "name": "stdout",
     "output_type": "stream",
     "text": [
      "(0.6310080748247205, 0.6989516825425061)\n"
     ]
    }
   ],
   "source": [
    "#def computePersistenceLandscapes(dgm,k,xmin,xmax,nb_nodes,nb_ld):\n",
    "    #output=np.zeros((nb_ld,nb_nodes))\n",
    "    \n",
    "    \n",
    "diagA_1_test=[diagA_1[0][a][1] for a in range(len(diagA_1[0]))] \n"
   ]
  },
  {
   "cell_type": "code",
   "execution_count": 39,
   "metadata": {},
   "outputs": [],
   "source": [
    "def landscapes_approx(diag_dim,x_min,x_max,nb_steps,nb_landscapes):\n",
    "    landscape = np.zeros((nb_landscapes,nb_steps))\n",
    "    step = (x_max - x_min) / nb_steps\n",
    "    #Warning: naive and not the best way to proceed!!!!!\n",
    "    for i in range(nb_steps):\n",
    "        x = x_min + i * step\n",
    "        event_list = []\n",
    "        for pair in diag_dim:\n",
    "            b = pair[0]\n",
    "            d = pair[1]\n",
    "            if (b <= x) and (x<= d):\n",
    "                if x >= (d+b)/2. :\n",
    "                    event_list.append((d-x))\n",
    "                else:\n",
    "                    event_list.append((x-b))\n",
    "        event_list.sort(reverse=True)\n",
    "        event_list = np.asarray(event_list)\n",
    "        for j in range(nb_landscapes):\n",
    "            if(j<len(event_list)):\n",
    "                landscape[j,i]=event_list[j]\n",
    "    return landscape"
   ]
  },
  {
   "cell_type": "code",
   "execution_count": 60,
   "metadata": {},
   "outputs": [
    {
     "data": {
      "text/plain": [
       "array([[0.        , 0.5       , 1.        , 1.5       , 2.        ,\n",
       "        2.5       , 3.        , 3.5       , 4.        , 4.5       ],\n",
       "       [0.        , 0.25747359, 0.        , 0.        , 0.        ,\n",
       "        0.        , 0.        , 0.        , 0.        , 0.        ],\n",
       "       [0.        , 0.1243053 , 0.        , 0.        , 0.        ,\n",
       "        0.        , 0.        , 0.        , 0.        , 0.        ],\n",
       "       [0.        , 0.06068957, 0.        , 0.        , 0.        ,\n",
       "        0.        , 0.        , 0.        , 0.        , 0.        ],\n",
       "       [0.        , 0.02715599, 0.        , 0.        , 0.        ,\n",
       "        0.        , 0.        , 0.        , 0.        , 0.        ]])"
      ]
     },
     "execution_count": 60,
     "metadata": {},
     "output_type": "execute_result"
    }
   ],
   "source": [
    "landscapes_approx(diagA_1_test,0,5,10,5)"
   ]
  },
  {
   "cell_type": "markdown",
   "metadata": {},
   "source": [
    "### For each 0-dimensional and 1-dimensional persistence diagrams, compute the first 5 landscapes on a\n",
    "relevant interval with a few hundred of nodes. Splitting randomly the data set into a 80/20 learning/test\n",
    "data, use a random forest to explore the performances of the 0-dimensional or 1-dimensional landscapes\n",
    "to classify pedestrians. An example of code to realize such an experiment can be downloaded at http:\n",
    "//geometrica.saclay.inria.fr/team/Fred.Chazal/Centrale2017.html. Compare the results you\n",
    "obtain using 0-dimensional landscapes, 1-dimensional landscapes or both.\n",
    "\n"
   ]
  },
  {
   "cell_type": "markdown",
   "metadata": {},
   "source": [
    "### Do the same experiment as previously, but using the raw data ( 3 × 200 array of acceleration coordinates).\n",
    "Compare the obtained classification results to the previous one."
   ]
  },
  {
   "cell_type": "markdown",
   "metadata": {},
   "source": [
    "## Random Forest"
   ]
  },
  {
   "cell_type": "code",
   "execution_count": 5,
   "metadata": {},
   "outputs": [
    {
     "ename": "NameError",
     "evalue": "name 'L1_list' is not defined",
     "output_type": "error",
     "traceback": [
      "\u001b[0;31m---------------------------------------------------------------------------\u001b[0m",
      "\u001b[0;31mNameError\u001b[0m                                 Traceback (most recent call last)",
      "\u001b[0;32m<ipython-input-5-a08284169e96>\u001b[0m in \u001b[0;36m<module>\u001b[0;34m()\u001b[0m\n\u001b[1;32m     16\u001b[0m \u001b[0mavg\u001b[0m \u001b[0;34m=\u001b[0m \u001b[0;36m0\u001b[0m\u001b[0;34m\u001b[0m\u001b[0m\n\u001b[1;32m     17\u001b[0m \u001b[0;32mfor\u001b[0m \u001b[0mi\u001b[0m \u001b[0;32min\u001b[0m \u001b[0mrange\u001b[0m\u001b[0;34m(\u001b[0m\u001b[0;36m20\u001b[0m\u001b[0;34m)\u001b[0m\u001b[0;34m:\u001b[0m\u001b[0;34m\u001b[0m\u001b[0m\n\u001b[0;32m---> 18\u001b[0;31m     \u001b[0mL_train\u001b[0m\u001b[0;34m,\u001b[0m \u001b[0mL_test\u001b[0m\u001b[0;34m,\u001b[0m \u001b[0mlabel_train\u001b[0m\u001b[0;34m,\u001b[0m \u001b[0mlabel_test\u001b[0m \u001b[0;34m=\u001b[0m \u001b[0mtrain_test_split\u001b[0m\u001b[0;34m(\u001b[0m\u001b[0mL1_list\u001b[0m\u001b[0;34m,\u001b[0m \u001b[0mlabel\u001b[0m\u001b[0;34m,\u001b[0m \u001b[0mtest_size\u001b[0m\u001b[0;34m=\u001b[0m\u001b[0;36m0.2\u001b[0m\u001b[0;34m)\u001b[0m\u001b[0;34m\u001b[0m\u001b[0m\n\u001b[0m\u001b[1;32m     19\u001b[0m     \u001b[0mRF\u001b[0m \u001b[0;34m=\u001b[0m \u001b[0mRandomForestClassifier\u001b[0m\u001b[0;34m(\u001b[0m\u001b[0;34m)\u001b[0m\u001b[0;34m\u001b[0m\u001b[0m\n\u001b[1;32m     20\u001b[0m     \u001b[0mRF\u001b[0m\u001b[0;34m.\u001b[0m\u001b[0mfit\u001b[0m\u001b[0;34m(\u001b[0m\u001b[0mL_train\u001b[0m\u001b[0;34m,\u001b[0m \u001b[0mlabel_train\u001b[0m\u001b[0;34m)\u001b[0m\u001b[0;34m\u001b[0m\u001b[0m\n",
      "\u001b[0;31mNameError\u001b[0m: name 'L1_list' is not defined"
     ]
    }
   ],
   "source": [
    "# -*- coding: utf-8 -*-\n",
    "\"\"\"\n",
    "Created on Sun Dec 17 18:33:31 2017\n",
    "\n",
    "@author: Fredreci Chazal - All rights reserved\n",
    "\"\"\"\n",
    "from sklearn.ensemble import RandomForestClassifier\n",
    "from sklearn.model_selection import train_test_split\n",
    "from sklearn.metrics import confusion_matrix\n",
    "\n",
    "#### Classification with random forests \n",
    "#### Interesting compare with L0_list, L1_list and L_list\n",
    "#### where L0_list, L1_list and L_list are list storing the $0$-dimensional \n",
    "#### landscapes, $1$-dimensional landscapes, and the concatenation of both \n",
    "#### respectively\n",
    "avg = 0\n",
    "for i in range(20):\n",
    "    L_train, L_test, label_train, label_test = train_test_split(L1_list, label, test_size=0.2)\n",
    "    RF = RandomForestClassifier()\n",
    "    RF.fit(L_train, label_train)\n",
    "    print(np.mean(RF.predict(L_test) == label_test) )\n",
    "    avg += np.mean(RF.predict(L_test) == label_test)\n",
    "    #print(confusion_matrix(RF.predict(L_test), label_test))\n",
    "print (\"avg pred: \",avg/20)\n",
    "\n",
    "plt.plot(RF.feature_importances_)"
   ]
  },
  {
   "cell_type": "code",
   "execution_count": null,
   "metadata": {
    "collapsed": true
   },
   "outputs": [],
   "source": []
  }
 ],
 "metadata": {
  "kernelspec": {
   "display_name": "Python 3",
   "language": "python",
   "name": "python3"
  },
  "language_info": {
   "codemirror_mode": {
    "name": "ipython",
    "version": 3
   },
   "file_extension": ".py",
   "mimetype": "text/x-python",
   "name": "python",
   "nbconvert_exporter": "python",
   "pygments_lexer": "ipython3",
   "version": "3.6.3"
  }
 },
 "nbformat": 4,
 "nbformat_minor": 2
}
