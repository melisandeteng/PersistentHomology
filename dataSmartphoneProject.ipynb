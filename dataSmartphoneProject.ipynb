{
 "cells": [
  {
   "cell_type": "markdown",
   "metadata": {},
   "source": [
    "# Persistent homology for smartphone data analysis (pedestrian recognition)"
   ]
  },
  {
   "cell_type": "markdown",
   "metadata": {},
   "source": [
    "__Description__: The goal of this is project to illustrate, on a toy example, the benefit of “coordinate in- variance” of persistent homology. The walk of 3 pedestrians A, B and C, has been recorded using the accelerometer sensor of a smartphone carried in the their pocket, giving rise to 3 multivariate time series in R3: each time series represents the 3 coordinates of the acceleration of the corresponding pedestrian in a coordinate system attached to the sensor. As, the smartphone was carried in unknown different positions and was not fixed, these time series cannot be compared coordinates by coordinates. Using a sliding window, each series has been splitted in a list of 100 times series made of 200 consecutive points, that are stored in data A, data B and data C. To each set of 200 points is associated a label A, B or C stored in label (see the data set and the Python script to load the data). The objective is to compute the persistence diagrams of these 3D point clouds and use them to achieve a pedestrian recognition task (supervised setting).\n",
    "Note: This project requires some (basic) knowledge of learning (random forests)."
   ]
  },
  {
   "cell_type": "code",
   "execution_count": 1,
   "metadata": {},
   "outputs": [],
   "source": [
    "import numpy as np\n",
    "import pandas as pd\n",
    "import pickle as pickle\n",
    "from os.path import join\n",
    "import matplotlib.pyplot as plt\n",
    "%matplotlib inline"
   ]
  },
  {
   "cell_type": "markdown",
   "metadata": {},
   "source": [
    "> ## <span style=\"color:blue\">Question 1</span>: Loading Data"
   ]
  },
  {
   "cell_type": "code",
   "execution_count": 2,
   "metadata": {},
   "outputs": [],
   "source": [
    "path=\"/Users/yaguethiam/PersistentHomology/data_acc_rot.dat\"\n",
    "#path = '/Users/Melisande/Gudhi/2017-10-02-10-19-30_GUDHI_2.0.1.tar/Gudhi/PersistentHomology/data_acc_rot.dat'"
   ]
  },
  {
   "cell_type": "code",
   "execution_count": 3,
   "metadata": {},
   "outputs": [],
   "source": [
    "f = open(path,\"rb\")\n",
    "data = pickle.load(f,encoding='latin1')\n",
    "f.close()\n",
    "\n",
    "data_A = data[0]\n",
    "data_B = data[1] \n",
    "data_C = data[2]\n",
    "label = data[3]"
   ]
  },
  {
   "cell_type": "markdown",
   "metadata": {},
   "source": [
    "### plot a sample of acceleration data"
   ]
  },
  {
   "cell_type": "code",
   "execution_count": 91,
   "metadata": {},
   "outputs": [
    {
     "data": {
      "text/plain": [
       "<matplotlib.figure.Figure at 0x1094b3d30>"
      ]
     },
     "metadata": {},
     "output_type": "display_data"
    },
    {
     "data": {
      "image/png": "[encoded data removed]",
      "text/plain": [
       "<matplotlib.figure.Figure at 0x1642e2908>"
      ]
     },
     "metadata": {},
     "output_type": "display_data"
    }
   ],
   "source": [
    "data_A_sample = data_A[0]\n",
    "plt.subplots_adjust(bottom = 0.1)\n",
    "fig = plt.figure()\n",
    "ax = fig.add_subplot(111, projection='3d')\n",
    "ax.view_init(azim=60,elev = 0)\n",
    "ax.scatter(\n",
    "    data_A_sample[:, 0], data_A_sample[:, 1],data_A_sample[:, 2], marker = 'o'\n",
    "    )\n",
    "plt.show()"
   ]
  },
  {
   "cell_type": "markdown",
   "metadata": {},
   "source": [
    "> # <span style=\"color:blue\">Question 2</span>:"
   ]
  },
  {
   "cell_type": "markdown",
   "metadata": {},
   "source": [
    "__Compute and save the 0-dimensional and 1-dimensional persistence diagrams of the Rips filtrations and the alpha-shape filtrations built on top of each of the 300 point clouds in R3.__"
   ]
  },
  {
   "cell_type": "code",
   "execution_count": 6,
   "metadata": {},
   "outputs": [],
   "source": [
    "import gudhi"
   ]
  },
  {
   "cell_type": "markdown",
   "metadata": {},
   "source": [
    "## About persistent homology \n",
    "\n",
    "### General definitions\n",
    "Let (P, D) be a metric space where P is a point set. \n",
    "Given r > 0, the Rips complex is the simplicial complex R(P) constituted by the simplexes such that$d(p,q) \\leq r$ for every pair of vertices in the simplex.  \n",
    "Constructing the Rips complex helps capture the topology of the data set. Choosing $r$ is a difficult task because if $r$ ois too small, the complex is a discrete set, and if $r$ is too large, the complex becomes a single high-dimensional complex.\n",
    "\n",
    "\n",
    "Given a filtration $(K_0, K_1, ..., K_n)$, the $p$-dimensional persistence diagram is the set of points (i,j) such that the number of $p$-dimensional homology classes born at $K_i$ that die entering $K_j$ is one.  \n",
    "Here the filtration will actually be a sequence of Rips complexes associated to the 3D point cloud for an increasing\n",
    "sequence of parameter values ($r_i$).\n"
   ]
  },
  {
   "cell_type": "markdown",
   "metadata": {},
   "source": [
    "### Average pairwise distance between two points for the 3 pedestrians"
   ]
  },
  {
   "cell_type": "code",
   "execution_count": 7,
   "metadata": {},
   "outputs": [],
   "source": [
    "from scipy.spatial.distance import squareform, pdist"
   ]
  },
  {
   "cell_type": "code",
   "execution_count": 8,
   "metadata": {},
   "outputs": [],
   "source": [
    "def computeMaxPairWiseDistance(points):\n",
    "    matdist=squareform(pdist(points, 'euclidean'))\n",
    "    sumD=[]\n",
    "    for i in range(points.shape[0]):\n",
    "        for j in range(i+1,points.shape[0]):\n",
    "            sumD.append(matdist[i,j])\n",
    "            \n",
    "    npsumD=np.array(sumD)\n",
    "    \n",
    "    return (max(npsumD),min(npsumD),np.median(npsumD),np.mean(npsumD),np.std(npsumD))"
   ]
  },
  {
   "cell_type": "code",
   "execution_count": 12,
   "metadata": {},
   "outputs": [],
   "source": [
    "def get_pedestrian_stats(pedes_id):  \n",
    "    pedes_stats=np.zeros((100,5))\n",
    "    if pedes_id==\"A\":\n",
    "        data = data_A\n",
    "    elif pedes_id==\"B\":\n",
    "        data = data_B\n",
    "    elif pedes_id==\"C\":\n",
    "        data = data_C\n",
    "    else:\n",
    "        print(\"Invalid pedestrian ID, choose A, B or C\")\n",
    "        return(0)\n",
    "    for i in range(100):\n",
    "        stats=computeMaxPairWiseDistance(data[i])\n",
    "        pedes_stats[i,0]=stats[0]\n",
    "        pedes_stats[i,1]=stats[1]\n",
    "        pedes_stats[i,2]=stats[2]\n",
    "        pedes_stats[i,3]=stats[3]\n",
    "        pedes_stats[i,4]=stats[4]\n",
    "    pedestrian_stats=pd.DataFrame(pedes_stats,columns=['max_pairwise_distance','min_pairwise_distance',\\\n",
    "                                                           'median_pairwise_distance','mean_pairwise_distance','std_pairwise_distance'])\n",
    "    return(pedes_stats, pedestrian_stats)\n"
   ]
  },
  {
   "cell_type": "code",
   "execution_count": 13,
   "metadata": {},
   "outputs": [],
   "source": [
    "pedes_A_stats, pedestrian_A_stats = get_pedestrian_stats(\"A\")\n",
    "pedes_B_stats, pedestrian_B_stats = get_pedestrian_stats(\"B\")\n",
    "pedes_C_stats, pedestrian_C_stats = get_pedestrian_stats(\"C\")"
   ]
  },
  {
   "cell_type": "code",
   "execution_count": 14,
   "metadata": {},
   "outputs": [
    {
     "name": "stdout",
     "output_type": "stream",
     "text": [
      "max A 3.1189965738631424\n",
      "min A 0.003145985537156763\n",
      "max B 4.11443915341593\n",
      "min B 0.0009622338593086326\n",
      "max C 4.575816373108742\n",
      "min C 0.004078235525322162\n"
     ]
    }
   ],
   "source": [
    "print(\"max A\",np.amax(pedes_A_stats[:,0]))\n",
    "print(\"min A\", np.amin(pedes_A_stats[:,1]))\n",
    "print(\"max B\",np.amax(pedes_B_stats[:,0]))\n",
    "print(\"min B\", np.amin(pedes_B_stats[:,1]))\n",
    "print(\"max C\",np.amax(pedes_C_stats[:,0]))\n",
    "print(\"min C\", np.amin(pedes_C_stats[:,1]))"
   ]
  },
  {
   "cell_type": "code",
   "execution_count": 201,
   "metadata": {},
   "outputs": [
    {
     "data": {
      "text/html": [
       "<div>\n",
       "<style scoped>\n",
       "    .dataframe tbody tr th:only-of-type {\n",
       "        vertical-align: middle;\n",
       "    }\n",
       "\n",
       "    .dataframe tbody tr th {\n",
       "        vertical-align: top;\n",
       "    }\n",
       "\n",
       "    .dataframe thead th {\n",
       "        text-align: right;\n",
       "    }\n",
       "</style>\n",
       "<table border=\"1\" class=\"dataframe\">\n",
       "  <thead>\n",
       "    <tr style=\"text-align: right;\">\n",
       "      <th></th>\n",
       "      <th>max_pairwise_distance</th>\n",
       "      <th>min_pairwise_distance</th>\n",
       "      <th>median_pairwise_distance</th>\n",
       "      <th>mean_pairwise_distance</th>\n",
       "      <th>std_pairwise_distance</th>\n",
       "    </tr>\n",
       "  </thead>\n",
       "  <tbody>\n",
       "    <tr>\n",
       "      <th>0</th>\n",
       "      <td>3.074729</td>\n",
       "      <td>0.015547</td>\n",
       "      <td>0.743386</td>\n",
       "      <td>0.794757</td>\n",
       "      <td>0.440863</td>\n",
       "    </tr>\n",
       "    <tr>\n",
       "      <th>1</th>\n",
       "      <td>2.899356</td>\n",
       "      <td>0.014363</td>\n",
       "      <td>0.677060</td>\n",
       "      <td>0.744717</td>\n",
       "      <td>0.434100</td>\n",
       "    </tr>\n",
       "    <tr>\n",
       "      <th>2</th>\n",
       "      <td>3.074729</td>\n",
       "      <td>0.015547</td>\n",
       "      <td>0.739156</td>\n",
       "      <td>0.791242</td>\n",
       "      <td>0.443478</td>\n",
       "    </tr>\n",
       "    <tr>\n",
       "      <th>3</th>\n",
       "      <td>2.584385</td>\n",
       "      <td>0.010270</td>\n",
       "      <td>0.694232</td>\n",
       "      <td>0.742513</td>\n",
       "      <td>0.400281</td>\n",
       "    </tr>\n",
       "    <tr>\n",
       "      <th>4</th>\n",
       "      <td>2.678923</td>\n",
       "      <td>0.009176</td>\n",
       "      <td>0.676241</td>\n",
       "      <td>0.730662</td>\n",
       "      <td>0.401748</td>\n",
       "    </tr>\n",
       "    <tr>\n",
       "      <th>5</th>\n",
       "      <td>2.717759</td>\n",
       "      <td>0.008491</td>\n",
       "      <td>0.644967</td>\n",
       "      <td>0.712770</td>\n",
       "      <td>0.414837</td>\n",
       "    </tr>\n",
       "    <tr>\n",
       "      <th>6</th>\n",
       "      <td>2.654506</td>\n",
       "      <td>0.015739</td>\n",
       "      <td>0.729615</td>\n",
       "      <td>0.771732</td>\n",
       "      <td>0.418423</td>\n",
       "    </tr>\n",
       "    <tr>\n",
       "      <th>7</th>\n",
       "      <td>3.118997</td>\n",
       "      <td>0.012076</td>\n",
       "      <td>0.704566</td>\n",
       "      <td>0.758827</td>\n",
       "      <td>0.420437</td>\n",
       "    </tr>\n",
       "    <tr>\n",
       "      <th>8</th>\n",
       "      <td>2.810768</td>\n",
       "      <td>0.010751</td>\n",
       "      <td>0.697458</td>\n",
       "      <td>0.740675</td>\n",
       "      <td>0.408821</td>\n",
       "    </tr>\n",
       "    <tr>\n",
       "      <th>9</th>\n",
       "      <td>2.708880</td>\n",
       "      <td>0.017089</td>\n",
       "      <td>0.745436</td>\n",
       "      <td>0.782410</td>\n",
       "      <td>0.424371</td>\n",
       "    </tr>\n",
       "    <tr>\n",
       "      <th>10</th>\n",
       "      <td>2.770295</td>\n",
       "      <td>0.009757</td>\n",
       "      <td>0.676473</td>\n",
       "      <td>0.726961</td>\n",
       "      <td>0.396521</td>\n",
       "    </tr>\n",
       "    <tr>\n",
       "      <th>11</th>\n",
       "      <td>2.488940</td>\n",
       "      <td>0.003146</td>\n",
       "      <td>0.722832</td>\n",
       "      <td>0.762680</td>\n",
       "      <td>0.407091</td>\n",
       "    </tr>\n",
       "    <tr>\n",
       "      <th>12</th>\n",
       "      <td>2.478535</td>\n",
       "      <td>0.010038</td>\n",
       "      <td>0.633612</td>\n",
       "      <td>0.682713</td>\n",
       "      <td>0.372074</td>\n",
       "    </tr>\n",
       "    <tr>\n",
       "      <th>13</th>\n",
       "      <td>2.715397</td>\n",
       "      <td>0.003146</td>\n",
       "      <td>0.708813</td>\n",
       "      <td>0.762260</td>\n",
       "      <td>0.415278</td>\n",
       "    </tr>\n",
       "    <tr>\n",
       "      <th>14</th>\n",
       "      <td>2.478535</td>\n",
       "      <td>0.011934</td>\n",
       "      <td>0.669488</td>\n",
       "      <td>0.724968</td>\n",
       "      <td>0.394735</td>\n",
       "    </tr>\n",
       "    <tr>\n",
       "      <th>15</th>\n",
       "      <td>2.873706</td>\n",
       "      <td>0.008491</td>\n",
       "      <td>0.648364</td>\n",
       "      <td>0.715710</td>\n",
       "      <td>0.418041</td>\n",
       "    </tr>\n",
       "    <tr>\n",
       "      <th>16</th>\n",
       "      <td>2.607319</td>\n",
       "      <td>0.005760</td>\n",
       "      <td>0.663158</td>\n",
       "      <td>0.700034</td>\n",
       "      <td>0.381869</td>\n",
       "    </tr>\n",
       "    <tr>\n",
       "      <th>17</th>\n",
       "      <td>2.810768</td>\n",
       "      <td>0.010751</td>\n",
       "      <td>0.717775</td>\n",
       "      <td>0.758415</td>\n",
       "      <td>0.414804</td>\n",
       "    </tr>\n",
       "    <tr>\n",
       "      <th>18</th>\n",
       "      <td>2.717759</td>\n",
       "      <td>0.012054</td>\n",
       "      <td>0.665634</td>\n",
       "      <td>0.727585</td>\n",
       "      <td>0.416809</td>\n",
       "    </tr>\n",
       "    <tr>\n",
       "      <th>19</th>\n",
       "      <td>2.828735</td>\n",
       "      <td>0.013740</td>\n",
       "      <td>0.639158</td>\n",
       "      <td>0.708228</td>\n",
       "      <td>0.417648</td>\n",
       "    </tr>\n",
       "    <tr>\n",
       "      <th>20</th>\n",
       "      <td>3.118997</td>\n",
       "      <td>0.020544</td>\n",
       "      <td>0.731743</td>\n",
       "      <td>0.774566</td>\n",
       "      <td>0.425070</td>\n",
       "    </tr>\n",
       "    <tr>\n",
       "      <th>21</th>\n",
       "      <td>2.899356</td>\n",
       "      <td>0.014363</td>\n",
       "      <td>0.666526</td>\n",
       "      <td>0.731463</td>\n",
       "      <td>0.424394</td>\n",
       "    </tr>\n",
       "    <tr>\n",
       "      <th>22</th>\n",
       "      <td>2.397785</td>\n",
       "      <td>0.013518</td>\n",
       "      <td>0.656135</td>\n",
       "      <td>0.709219</td>\n",
       "      <td>0.392737</td>\n",
       "    </tr>\n",
       "    <tr>\n",
       "      <th>23</th>\n",
       "      <td>2.717759</td>\n",
       "      <td>0.012054</td>\n",
       "      <td>0.654472</td>\n",
       "      <td>0.718453</td>\n",
       "      <td>0.415697</td>\n",
       "    </tr>\n",
       "    <tr>\n",
       "      <th>24</th>\n",
       "      <td>2.693447</td>\n",
       "      <td>0.003146</td>\n",
       "      <td>0.703449</td>\n",
       "      <td>0.749047</td>\n",
       "      <td>0.398634</td>\n",
       "    </tr>\n",
       "    <tr>\n",
       "      <th>25</th>\n",
       "      <td>2.899356</td>\n",
       "      <td>0.014363</td>\n",
       "      <td>0.675675</td>\n",
       "      <td>0.738173</td>\n",
       "      <td>0.426922</td>\n",
       "    </tr>\n",
       "    <tr>\n",
       "      <th>26</th>\n",
       "      <td>2.678923</td>\n",
       "      <td>0.009135</td>\n",
       "      <td>0.670032</td>\n",
       "      <td>0.725585</td>\n",
       "      <td>0.405405</td>\n",
       "    </tr>\n",
       "    <tr>\n",
       "      <th>27</th>\n",
       "      <td>2.717759</td>\n",
       "      <td>0.008129</td>\n",
       "      <td>0.668043</td>\n",
       "      <td>0.724120</td>\n",
       "      <td>0.416882</td>\n",
       "    </tr>\n",
       "    <tr>\n",
       "      <th>28</th>\n",
       "      <td>2.708880</td>\n",
       "      <td>0.017089</td>\n",
       "      <td>0.705898</td>\n",
       "      <td>0.745891</td>\n",
       "      <td>0.409703</td>\n",
       "    </tr>\n",
       "    <tr>\n",
       "      <th>29</th>\n",
       "      <td>2.899565</td>\n",
       "      <td>0.010751</td>\n",
       "      <td>0.707607</td>\n",
       "      <td>0.766327</td>\n",
       "      <td>0.417438</td>\n",
       "    </tr>\n",
       "    <tr>\n",
       "      <th>...</th>\n",
       "      <td>...</td>\n",
       "      <td>...</td>\n",
       "      <td>...</td>\n",
       "      <td>...</td>\n",
       "      <td>...</td>\n",
       "    </tr>\n",
       "    <tr>\n",
       "      <th>70</th>\n",
       "      <td>2.635766</td>\n",
       "      <td>0.011947</td>\n",
       "      <td>0.616181</td>\n",
       "      <td>0.672732</td>\n",
       "      <td>0.376905</td>\n",
       "    </tr>\n",
       "    <tr>\n",
       "      <th>71</th>\n",
       "      <td>2.828735</td>\n",
       "      <td>0.008491</td>\n",
       "      <td>0.649683</td>\n",
       "      <td>0.719693</td>\n",
       "      <td>0.423717</td>\n",
       "    </tr>\n",
       "    <tr>\n",
       "      <th>72</th>\n",
       "      <td>2.607319</td>\n",
       "      <td>0.005760</td>\n",
       "      <td>0.649723</td>\n",
       "      <td>0.688399</td>\n",
       "      <td>0.381019</td>\n",
       "    </tr>\n",
       "    <tr>\n",
       "      <th>73</th>\n",
       "      <td>2.715397</td>\n",
       "      <td>0.003146</td>\n",
       "      <td>0.703581</td>\n",
       "      <td>0.755757</td>\n",
       "      <td>0.411991</td>\n",
       "    </tr>\n",
       "    <tr>\n",
       "      <th>74</th>\n",
       "      <td>2.715397</td>\n",
       "      <td>0.014931</td>\n",
       "      <td>0.702671</td>\n",
       "      <td>0.752994</td>\n",
       "      <td>0.405183</td>\n",
       "    </tr>\n",
       "    <tr>\n",
       "      <th>75</th>\n",
       "      <td>2.766747</td>\n",
       "      <td>0.008491</td>\n",
       "      <td>0.640553</td>\n",
       "      <td>0.701927</td>\n",
       "      <td>0.406568</td>\n",
       "    </tr>\n",
       "    <tr>\n",
       "      <th>76</th>\n",
       "      <td>2.488940</td>\n",
       "      <td>0.008310</td>\n",
       "      <td>0.710270</td>\n",
       "      <td>0.751074</td>\n",
       "      <td>0.404531</td>\n",
       "    </tr>\n",
       "    <tr>\n",
       "      <th>77</th>\n",
       "      <td>2.708880</td>\n",
       "      <td>0.017089</td>\n",
       "      <td>0.713045</td>\n",
       "      <td>0.754159</td>\n",
       "      <td>0.414783</td>\n",
       "    </tr>\n",
       "    <tr>\n",
       "      <th>78</th>\n",
       "      <td>2.972538</td>\n",
       "      <td>0.014782</td>\n",
       "      <td>0.722098</td>\n",
       "      <td>0.793894</td>\n",
       "      <td>0.446456</td>\n",
       "    </tr>\n",
       "    <tr>\n",
       "      <th>79</th>\n",
       "      <td>2.584385</td>\n",
       "      <td>0.010270</td>\n",
       "      <td>0.702214</td>\n",
       "      <td>0.748690</td>\n",
       "      <td>0.405659</td>\n",
       "    </tr>\n",
       "    <tr>\n",
       "      <th>80</th>\n",
       "      <td>2.757891</td>\n",
       "      <td>0.010038</td>\n",
       "      <td>0.655398</td>\n",
       "      <td>0.699029</td>\n",
       "      <td>0.381769</td>\n",
       "    </tr>\n",
       "    <tr>\n",
       "      <th>81</th>\n",
       "      <td>2.413814</td>\n",
       "      <td>0.010751</td>\n",
       "      <td>0.696055</td>\n",
       "      <td>0.730341</td>\n",
       "      <td>0.382961</td>\n",
       "    </tr>\n",
       "    <tr>\n",
       "      <th>82</th>\n",
       "      <td>2.478535</td>\n",
       "      <td>0.011934</td>\n",
       "      <td>0.667788</td>\n",
       "      <td>0.725484</td>\n",
       "      <td>0.396004</td>\n",
       "    </tr>\n",
       "    <tr>\n",
       "      <th>83</th>\n",
       "      <td>2.449253</td>\n",
       "      <td>0.012821</td>\n",
       "      <td>0.624994</td>\n",
       "      <td>0.672062</td>\n",
       "      <td>0.371398</td>\n",
       "    </tr>\n",
       "    <tr>\n",
       "      <th>84</th>\n",
       "      <td>2.899356</td>\n",
       "      <td>0.017336</td>\n",
       "      <td>0.649167</td>\n",
       "      <td>0.712649</td>\n",
       "      <td>0.418428</td>\n",
       "    </tr>\n",
       "    <tr>\n",
       "      <th>85</th>\n",
       "      <td>2.693447</td>\n",
       "      <td>0.003146</td>\n",
       "      <td>0.713451</td>\n",
       "      <td>0.761696</td>\n",
       "      <td>0.407066</td>\n",
       "    </tr>\n",
       "    <tr>\n",
       "      <th>86</th>\n",
       "      <td>3.118997</td>\n",
       "      <td>0.012076</td>\n",
       "      <td>0.716668</td>\n",
       "      <td>0.759065</td>\n",
       "      <td>0.414879</td>\n",
       "    </tr>\n",
       "    <tr>\n",
       "      <th>87</th>\n",
       "      <td>2.899356</td>\n",
       "      <td>0.008006</td>\n",
       "      <td>0.640559</td>\n",
       "      <td>0.704945</td>\n",
       "      <td>0.420283</td>\n",
       "    </tr>\n",
       "    <tr>\n",
       "      <th>88</th>\n",
       "      <td>2.708880</td>\n",
       "      <td>0.017089</td>\n",
       "      <td>0.703281</td>\n",
       "      <td>0.745122</td>\n",
       "      <td>0.408846</td>\n",
       "    </tr>\n",
       "    <tr>\n",
       "      <th>89</th>\n",
       "      <td>2.810768</td>\n",
       "      <td>0.010751</td>\n",
       "      <td>0.692977</td>\n",
       "      <td>0.737124</td>\n",
       "      <td>0.409536</td>\n",
       "    </tr>\n",
       "    <tr>\n",
       "      <th>90</th>\n",
       "      <td>2.608677</td>\n",
       "      <td>0.013518</td>\n",
       "      <td>0.698440</td>\n",
       "      <td>0.751100</td>\n",
       "      <td>0.409480</td>\n",
       "    </tr>\n",
       "    <tr>\n",
       "      <th>91</th>\n",
       "      <td>2.715397</td>\n",
       "      <td>0.014931</td>\n",
       "      <td>0.698833</td>\n",
       "      <td>0.748047</td>\n",
       "      <td>0.405689</td>\n",
       "    </tr>\n",
       "    <tr>\n",
       "      <th>92</th>\n",
       "      <td>2.678923</td>\n",
       "      <td>0.009176</td>\n",
       "      <td>0.656858</td>\n",
       "      <td>0.716368</td>\n",
       "      <td>0.404779</td>\n",
       "    </tr>\n",
       "    <tr>\n",
       "      <th>93</th>\n",
       "      <td>2.663484</td>\n",
       "      <td>0.014782</td>\n",
       "      <td>0.707499</td>\n",
       "      <td>0.763474</td>\n",
       "      <td>0.422796</td>\n",
       "    </tr>\n",
       "    <tr>\n",
       "      <th>94</th>\n",
       "      <td>2.777396</td>\n",
       "      <td>0.014782</td>\n",
       "      <td>0.726021</td>\n",
       "      <td>0.792432</td>\n",
       "      <td>0.439431</td>\n",
       "    </tr>\n",
       "    <tr>\n",
       "      <th>95</th>\n",
       "      <td>2.413814</td>\n",
       "      <td>0.010751</td>\n",
       "      <td>0.696055</td>\n",
       "      <td>0.730341</td>\n",
       "      <td>0.382961</td>\n",
       "    </tr>\n",
       "    <tr>\n",
       "      <th>96</th>\n",
       "      <td>2.777396</td>\n",
       "      <td>0.014782</td>\n",
       "      <td>0.719980</td>\n",
       "      <td>0.785535</td>\n",
       "      <td>0.438334</td>\n",
       "    </tr>\n",
       "    <tr>\n",
       "      <th>97</th>\n",
       "      <td>3.074729</td>\n",
       "      <td>0.015547</td>\n",
       "      <td>0.763313</td>\n",
       "      <td>0.809332</td>\n",
       "      <td>0.442478</td>\n",
       "    </tr>\n",
       "    <tr>\n",
       "      <th>98</th>\n",
       "      <td>2.856580</td>\n",
       "      <td>0.012244</td>\n",
       "      <td>0.673377</td>\n",
       "      <td>0.731693</td>\n",
       "      <td>0.406603</td>\n",
       "    </tr>\n",
       "    <tr>\n",
       "      <th>99</th>\n",
       "      <td>2.583617</td>\n",
       "      <td>0.005760</td>\n",
       "      <td>0.673965</td>\n",
       "      <td>0.714488</td>\n",
       "      <td>0.383956</td>\n",
       "    </tr>\n",
       "  </tbody>\n",
       "</table>\n",
       "<p>100 rows × 5 columns</p>\n",
       "</div>"
      ],
      "text/plain": [
       "    max_pairwise_distance  min_pairwise_distance  median_pairwise_distance  \\\n",
       "0                3.074729               0.015547                  0.743386   \n",
       "1                2.899356               0.014363                  0.677060   \n",
       "2                3.074729               0.015547                  0.739156   \n",
       "3                2.584385               0.010270                  0.694232   \n",
       "4                2.678923               0.009176                  0.676241   \n",
       "5                2.717759               0.008491                  0.644967   \n",
       "6                2.654506               0.015739                  0.729615   \n",
       "7                3.118997               0.012076                  0.704566   \n",
       "8                2.810768               0.010751                  0.697458   \n",
       "9                2.708880               0.017089                  0.745436   \n",
       "10               2.770295               0.009757                  0.676473   \n",
       "11               2.488940               0.003146                  0.722832   \n",
       "12               2.478535               0.010038                  0.633612   \n",
       "13               2.715397               0.003146                  0.708813   \n",
       "14               2.478535               0.011934                  0.669488   \n",
       "15               2.873706               0.008491                  0.648364   \n",
       "16               2.607319               0.005760                  0.663158   \n",
       "17               2.810768               0.010751                  0.717775   \n",
       "18               2.717759               0.012054                  0.665634   \n",
       "19               2.828735               0.013740                  0.639158   \n",
       "20               3.118997               0.020544                  0.731743   \n",
       "21               2.899356               0.014363                  0.666526   \n",
       "22               2.397785               0.013518                  0.656135   \n",
       "23               2.717759               0.012054                  0.654472   \n",
       "24               2.693447               0.003146                  0.703449   \n",
       "25               2.899356               0.014363                  0.675675   \n",
       "26               2.678923               0.009135                  0.670032   \n",
       "27               2.717759               0.008129                  0.668043   \n",
       "28               2.708880               0.017089                  0.705898   \n",
       "29               2.899565               0.010751                  0.707607   \n",
       "..                    ...                    ...                       ...   \n",
       "70               2.635766               0.011947                  0.616181   \n",
       "71               2.828735               0.008491                  0.649683   \n",
       "72               2.607319               0.005760                  0.649723   \n",
       "73               2.715397               0.003146                  0.703581   \n",
       "74               2.715397               0.014931                  0.702671   \n",
       "75               2.766747               0.008491                  0.640553   \n",
       "76               2.488940               0.008310                  0.710270   \n",
       "77               2.708880               0.017089                  0.713045   \n",
       "78               2.972538               0.014782                  0.722098   \n",
       "79               2.584385               0.010270                  0.702214   \n",
       "80               2.757891               0.010038                  0.655398   \n",
       "81               2.413814               0.010751                  0.696055   \n",
       "82               2.478535               0.011934                  0.667788   \n",
       "83               2.449253               0.012821                  0.624994   \n",
       "84               2.899356               0.017336                  0.649167   \n",
       "85               2.693447               0.003146                  0.713451   \n",
       "86               3.118997               0.012076                  0.716668   \n",
       "87               2.899356               0.008006                  0.640559   \n",
       "88               2.708880               0.017089                  0.703281   \n",
       "89               2.810768               0.010751                  0.692977   \n",
       "90               2.608677               0.013518                  0.698440   \n",
       "91               2.715397               0.014931                  0.698833   \n",
       "92               2.678923               0.009176                  0.656858   \n",
       "93               2.663484               0.014782                  0.707499   \n",
       "94               2.777396               0.014782                  0.726021   \n",
       "95               2.413814               0.010751                  0.696055   \n",
       "96               2.777396               0.014782                  0.719980   \n",
       "97               3.074729               0.015547                  0.763313   \n",
       "98               2.856580               0.012244                  0.673377   \n",
       "99               2.583617               0.005760                  0.673965   \n",
       "\n",
       "    mean_pairwise_distance  std_pairwise_distance  \n",
       "0                 0.794757               0.440863  \n",
       "1                 0.744717               0.434100  \n",
       "2                 0.791242               0.443478  \n",
       "3                 0.742513               0.400281  \n",
       "4                 0.730662               0.401748  \n",
       "5                 0.712770               0.414837  \n",
       "6                 0.771732               0.418423  \n",
       "7                 0.758827               0.420437  \n",
       "8                 0.740675               0.408821  \n",
       "9                 0.782410               0.424371  \n",
       "10                0.726961               0.396521  \n",
       "11                0.762680               0.407091  \n",
       "12                0.682713               0.372074  \n",
       "13                0.762260               0.415278  \n",
       "14                0.724968               0.394735  \n",
       "15                0.715710               0.418041  \n",
       "16                0.700034               0.381869  \n",
       "17                0.758415               0.414804  \n",
       "18                0.727585               0.416809  \n",
       "19                0.708228               0.417648  \n",
       "20                0.774566               0.425070  \n",
       "21                0.731463               0.424394  \n",
       "22                0.709219               0.392737  \n",
       "23                0.718453               0.415697  \n",
       "24                0.749047               0.398634  \n",
       "25                0.738173               0.426922  \n",
       "26                0.725585               0.405405  \n",
       "27                0.724120               0.416882  \n",
       "28                0.745891               0.409703  \n",
       "29                0.766327               0.417438  \n",
       "..                     ...                    ...  \n",
       "70                0.672732               0.376905  \n",
       "71                0.719693               0.423717  \n",
       "72                0.688399               0.381019  \n",
       "73                0.755757               0.411991  \n",
       "74                0.752994               0.405183  \n",
       "75                0.701927               0.406568  \n",
       "76                0.751074               0.404531  \n",
       "77                0.754159               0.414783  \n",
       "78                0.793894               0.446456  \n",
       "79                0.748690               0.405659  \n",
       "80                0.699029               0.381769  \n",
       "81                0.730341               0.382961  \n",
       "82                0.725484               0.396004  \n",
       "83                0.672062               0.371398  \n",
       "84                0.712649               0.418428  \n",
       "85                0.761696               0.407066  \n",
       "86                0.759065               0.414879  \n",
       "87                0.704945               0.420283  \n",
       "88                0.745122               0.408846  \n",
       "89                0.737124               0.409536  \n",
       "90                0.751100               0.409480  \n",
       "91                0.748047               0.405689  \n",
       "92                0.716368               0.404779  \n",
       "93                0.763474               0.422796  \n",
       "94                0.792432               0.439431  \n",
       "95                0.730341               0.382961  \n",
       "96                0.785535               0.438334  \n",
       "97                0.809332               0.442478  \n",
       "98                0.731693               0.406603  \n",
       "99                0.714488               0.383956  \n",
       "\n",
       "[100 rows x 5 columns]"
      ]
     },
     "execution_count": 201,
     "metadata": {},
     "output_type": "execute_result"
    }
   ],
   "source": [
    "pedestrian_A_stats"
   ]
  },
  {
   "cell_type": "code",
   "execution_count": 15,
   "metadata": {},
   "outputs": [
    {
     "name": "stdout",
     "output_type": "stream",
     "text": [
      "3.950659020528408\n"
     ]
    }
   ],
   "source": [
    "pedestrian_A_max_Dist=max(pedestrian_A_stats['max_pairwise_distance'])-np.mean(pedestrian_A_stats['std_pairwise_distance'])\n",
    "pedestrian_B_max_Dist=max(pedestrian_B_stats['max_pairwise_distance'])-np.mean(pedestrian_B_stats['std_pairwise_distance'])\n",
    "pedestrian_C_max_Dist=max(pedestrian_C_stats['max_pairwise_distance'])-np.mean(pedestrian_C_stats['std_pairwise_distance'])\n"
   ]
  },
  {
   "cell_type": "markdown",
   "metadata": {},
   "source": [
    "### Selection of the max edge length for Rips complex filtration"
   ]
  },
  {
   "cell_type": "code",
   "execution_count": 92,
   "metadata": {},
   "outputs": [
    {
     "name": "stdout",
     "output_type": "stream",
     "text": [
      "3.950659020528408\n"
     ]
    }
   ],
   "source": [
    "maxEdgeLen=max(pedestrian_A_max_Dist,pedestrian_B_max_Dist,pedestrian_C_max_Dist)\n",
    "print(maxEdgeLen)"
   ]
  },
  {
   "cell_type": "markdown",
   "metadata": {},
   "source": [
    "## Attempt for outliers removal "
   ]
  },
  {
   "cell_type": "markdown",
   "metadata": {},
   "source": [
    "Since the persistence diagram construction are very sensitive to outliers, we will process the initial dataset by removing potential outliers. We call outliers points that have a small number of neighboor in the dataset."
   ]
  },
  {
   "cell_type": "code",
   "execution_count": 79,
   "metadata": {},
   "outputs": [],
   "source": [
    "from sklearn.neighbors import BallTree"
   ]
  },
  {
   "cell_type": "code",
   "execution_count": 120,
   "metadata": {},
   "outputs": [],
   "source": [
    "def removeOutliers(data,median_pairwise_distance):\n",
    "    data_processed=[]\n",
    "    for i in range(len(data)):\n",
    "        max_dist=median_pairwise_distance[i]\n",
    "        tree = BallTree(data[i], leaf_size=2)\n",
    "        num_neigh=np.zeros(data[i].shape[0])\n",
    "        for j in range(data[i].shape[0]):\n",
    "            dist, ind = tree.query([data[i][j]], k=int(data[i].shape[0]/2))\n",
    "            num_neigh[j]=sum((dist[0] < max_dist))\n",
    "        median_neigh=np.median(num_neigh)\n",
    "        std_neigh=np.std(num_neigh)\n",
    "        filtered_index=(num_neigh>= median_neigh)\n",
    "        process=data[i][filtered_index,:]\n",
    "        #print(process.shape)\n",
    "        data_processed.append(process)\n",
    "    return data_processed\n",
    "\n",
    "    "
   ]
  },
  {
   "cell_type": "code",
   "execution_count": 121,
   "metadata": {},
   "outputs": [],
   "source": [
    "data_A_wo_outliers=removeOutliers(data_A,list(pedestrian_A_stats['median_pairwise_distance']))\n",
    "data_B_wo_outliers=removeOutliers(data_B,list(pedestrian_B_stats['median_pairwise_distance']))\n",
    "data_C_wo_outliers=removeOutliers(data_C,list(pedestrian_C_stats['median_pairwise_distance']))"
   ]
  },
  {
   "cell_type": "markdown",
   "metadata": {},
   "source": [
    "## With Rips Filtration"
   ]
  },
  {
   "cell_type": "markdown",
   "metadata": {},
   "source": [
    "### 0-dimensional persistence diagrams of the Rips filtrations"
   ]
  },
  {
   "cell_type": "markdown",
   "metadata": {},
   "source": [
    "In order to draw the 0-dimensional persistence diagram of the Rips filtrations, we use \\verb gudhi.RipsComplex on the 3D point cloud. "
   ]
  },
  {
   "cell_type": "code",
   "execution_count": 16,
   "metadata": {},
   "outputs": [],
   "source": [
    "def build_0_persistent_diag(dataset, maxEdgeLen=0.8):\n",
    "    persist=[]\n",
    "    for i in range(len(dataset)):\n",
    "        rips = gudhi.RipsComplex(points=dataset[i],max_edge_length=maxEdgeLen)\n",
    "        simplex_tree = rips.create_simplex_tree(max_dimension=1)\n",
    "        diag = simplex_tree.persistence()\n",
    "        persist.append(diag)\n",
    "    return persist"
   ]
  },
  {
   "cell_type": "markdown",
   "metadata": {},
   "source": [
    "> Compute the 0 persistent diagram for the 3 pedestrians "
   ]
  },
  {
   "cell_type": "code",
   "execution_count": 17,
   "metadata": {},
   "outputs": [],
   "source": [
    "diagA_0=build_0_persistent_diag(data_A,maxEdgeLen)\n",
    "diagB_0=build_0_persistent_diag(data_B,maxEdgeLen)\n",
    "diagC_0=build_0_persistent_diag(data_C,maxEdgeLen)"
   ]
  },
  {
   "cell_type": "code",
   "execution_count": 18,
   "metadata": {},
   "outputs": [
    {
     "data": {
      "text/plain": [
       "<module 'matplotlib.pyplot' from '/Users/yaguethiam/anaconda/lib/python3.6/site-packages/matplotlib/pyplot.py'>"
      ]
     },
     "execution_count": 18,
     "metadata": {},
     "output_type": "execute_result"
    },
    {
     "data": {
      "image/png": "[encoded data removed]",
      "text/plain": [
       "<matplotlib.figure.Figure at 0x10941a5c0>"
      ]
     },
     "metadata": {},
     "output_type": "display_data"
    }
   ],
   "source": [
    "gudhi.plot_persistence_diagram(diagA_0[0])"
   ]
  },
  {
   "cell_type": "markdown",
   "metadata": {},
   "source": [
    "### 1-dimensional persistence diagrams of the Rips filtrations"
   ]
  },
  {
   "cell_type": "code",
   "execution_count": 19,
   "metadata": {},
   "outputs": [],
   "source": [
    "def build_1_persistent_diag(dataset, maxEdgeLen=0.8):\n",
    "    persist=[]\n",
    "    for i in range(len(dataset)):\n",
    "        rips = gudhi.RipsComplex(points=dataset[i],max_edge_length=maxEdgeLen)\n",
    "        simplex_tree = rips.create_simplex_tree(max_dimension=2)\n",
    "        diag = simplex_tree.persistence()\n",
    "        persist.append(diag)\n",
    "    return persist"
   ]
  },
  {
   "cell_type": "markdown",
   "metadata": {},
   "source": [
    "> Compute the 1 persistent diagram for the 3 pedestrians "
   ]
  },
  {
   "cell_type": "code",
   "execution_count": 20,
   "metadata": {},
   "outputs": [],
   "source": [
    "diagA_1=build_1_persistent_diag(data_A,maxEdgeLen)\n",
    "diagB_1=build_1_persistent_diag(data_B,maxEdgeLen)\n",
    "diagC_1=build_1_persistent_diag(data_C,maxEdgeLen)"
   ]
  },
  {
   "cell_type": "code",
   "execution_count": 210,
   "metadata": {},
   "outputs": [
    {
     "data": {
      "text/plain": [
       "<module 'matplotlib.pyplot' from 'C:\\\\Users\\\\Melisande\\\\Anaconda3\\\\envs\\\\py36\\\\lib\\\\site-packages\\\\matplotlib\\\\pyplot.py'>"
      ]
     },
     "execution_count": 210,
     "metadata": {},
     "output_type": "execute_result"
    },
    {
     "data": {
      "image/png": "[encoded data removed]",
      "text/plain": [
       "<matplotlib.figure.Figure at 0x2a34c4bb2b0>"
      ]
     },
     "metadata": {},
     "output_type": "display_data"
    }
   ],
   "source": [
    "gudhi.plot_persistence_diagram(diagA_1[0])"
   ]
  },
  {
   "cell_type": "markdown",
   "metadata": {},
   "source": [
    "diagA_1_outliers=build_1_persistent_diag(data_A_wo_outliers)\n",
    "diagB_1_outliers=build_1_persistent_diag(data_B_wo_outliers)\n",
    "diagC_1_outliers=build_1_persistent_diag(data_B_wo_outliers)"
   ]
  },
  {
   "cell_type": "markdown",
   "metadata": {},
   "source": [
    "## With Alpha complex"
   ]
  },
  {
   "cell_type": "code",
   "execution_count": 23,
   "metadata": {},
   "outputs": [],
   "source": [
    "def build_alphaComplex_diag(dataset,maxAlphaSquare=2.7**2):\n",
    "    persist=[]\n",
    "    for i in range(len(dataset)):\n",
    "        alpha_complex = gudhi.AlphaComplex(points=dataset[i])\n",
    "        simplex_tree = alpha_complex.create_simplex_tree(max_alpha_square=maxAlphaSquare)\n",
    "        diag = simplex_tree.persistence()\n",
    "        persist.append(diag)\n",
    "    return persist"
   ]
  },
  {
   "cell_type": "markdown",
   "metadata": {},
   "source": [
    "> Alpha complex based diagram"
   ]
  },
  {
   "cell_type": "code",
   "execution_count": 24,
   "metadata": {},
   "outputs": [],
   "source": [
    "diagA_alpha=build_alphaComplex_diag(data_A)\n",
    "diagB_alpha=build_alphaComplex_diag(data_B)\n",
    "diagC_alpha=build_alphaComplex_diag(data_C)"
   ]
  },
  {
   "cell_type": "code",
   "execution_count": null,
   "metadata": {},
   "outputs": [],
   "source": [
    "gudhi.plot_persistence_diagram(diagA_alpha[0])"
   ]
  },
  {
   "cell_type": "markdown",
   "metadata": {},
   "source": [
    "> # <span style=\"color:blue\">Question 3</span>: Matrices of pairwise bottleneck distances between diagrams\n"
   ]
  },
  {
   "cell_type": "markdown",
   "metadata": {},
   "source": [
    "__Matrices of pairwise bottleneck distances between diagrams and use a dimensionality reduction algorithm to visualize them in 2D and 3D (e.g. Multidimensional Scaling).__\n",
    "\n"
   ]
  },
  {
   "cell_type": "markdown",
   "metadata": {},
   "source": [
    "The bottleneck distance measures the similarity between two persistence diagrams. It is the shortest distance $d$ for which there exists a perfect matching between the points of the two diagrams such that any couple of matched points are at distance at most $d$. The cost of matching, i.e. taking a point $p$ of the first diagram to a point $p'$ of the second diagram corresponds the minimum between moving $p$ to $p'$ and moving both points on the diagonal.\n",
    "\n",
    "USE Gudhi::persistence_diagram::bottleneck_distance (const Persistence_diagram1 &diag1, const Persistence_diagram2 &diag2, double e=(std::numeric_limits< double >::min)())\n",
    "\n"
   ]
  },
  {
   "cell_type": "markdown",
   "metadata": {},
   "source": [
    "### Pair of (birth , death) tuple"
   ]
  },
  {
   "cell_type": "code",
   "execution_count": 25,
   "metadata": {},
   "outputs": [],
   "source": [
    "def buildCleanPair(diagram):\n",
    "    return [item[1] for item in diagram if not np.isinf(item[1][1])] "
   ]
  },
  {
   "cell_type": "markdown",
   "metadata": {},
   "source": [
    "> ## with 0-persitent diagram"
   ]
  },
  {
   "cell_type": "code",
   "execution_count": 26,
   "metadata": {},
   "outputs": [],
   "source": [
    "diagA_0_pairs=[buildCleanPair(diag) for diag in diagA_0] \n",
    "diagB_0_pairs=[buildCleanPair(diag) for diag in diagB_0] \n",
    "diagC_0_pairs=[buildCleanPair(diag) for diag in diagC_0] "
   ]
  },
  {
   "cell_type": "markdown",
   "metadata": {},
   "source": [
    "### Pedestrian A"
   ]
  },
  {
   "cell_type": "code",
   "execution_count": 27,
   "metadata": {},
   "outputs": [],
   "source": [
    "minimum_birth_A_0 = []\n",
    "\n",
    "for i in range(len(diagA_0_pairs)):\n",
    "    temp_list = []\n",
    "    for j in range(len(diagA_0_pairs[i])):\n",
    "        temp_list.append(diagA_0_pairs[i][j][0])\n",
    "    minimum_birth_A_0.append(min(temp_list))\n",
    "min_b_A_0 = min(minimum_birth_A_0)\n",
    "\n",
    "maximum_death_A_0 = []\n",
    "\n",
    "for i in range(len(diagA_0_pairs)):\n",
    "    temp_list = []\n",
    "    temp_clean = []\n",
    "    for j in range(len(diagA_0_pairs[i])):\n",
    "        temp_list.append(diagA_0_pairs[i][j][1])\n",
    "        if np.isinf(temp_list[j]) == False:\n",
    "            temp_clean.append(temp_list[j])\n",
    "    maximum_death_A_0.append(max(temp_clean))\n",
    "max_d_A_0 = max(maximum_death_A_0)"
   ]
  },
  {
   "cell_type": "markdown",
   "metadata": {},
   "source": [
    "### Pedestrian B"
   ]
  },
  {
   "cell_type": "code",
   "execution_count": 28,
   "metadata": {},
   "outputs": [],
   "source": [
    "minimum_birth_B_0 = []\n",
    "\n",
    "for i in range(len(diagB_0_pairs)):\n",
    "    temp_list = []\n",
    "    for j in range(len(diagB_0_pairs[i])):\n",
    "        temp_list.append(diagB_0_pairs[i][j][0])\n",
    "    minimum_birth_B_0.append(min(temp_list))\n",
    "min_b_B_0 = min(minimum_birth_B_0)\n",
    "\n",
    "maximum_death_B_0 = []\n",
    "\n",
    "for i in range(len(diagB_0_pairs)):\n",
    "    temp_list = []\n",
    "    temp_clean = []\n",
    "    for j in range(len(diagB_0_pairs[i])):\n",
    "        temp_list.append(diagB_0_pairs[i][j][1])\n",
    "        if np.isinf(temp_list[j]) == False:\n",
    "            temp_clean.append(temp_list[j])\n",
    "    maximum_death_B_0.append(max(temp_clean))\n",
    "max_d_B_0 = max(maximum_death_B_0)"
   ]
  },
  {
   "cell_type": "markdown",
   "metadata": {},
   "source": [
    "### Pedestrian C"
   ]
  },
  {
   "cell_type": "code",
   "execution_count": 29,
   "metadata": {},
   "outputs": [],
   "source": [
    "minimum_birth_C_0 = []\n",
    "\n",
    "for i in range(len(diagC_0_pairs)):\n",
    "    temp_list = []\n",
    "    for j in range(len(diagC_0_pairs[i])):\n",
    "        temp_list.append(diagC_0_pairs[i][j][0])\n",
    "    minimum_birth_C_0.append(min(temp_list))\n",
    "min_b_C_0 = min(minimum_birth_B_0)\n",
    "\n",
    "maximum_death_C_0 = []\n",
    "\n",
    "for i in range(len(diagC_0_pairs)):\n",
    "    temp_list = []\n",
    "    temp_clean = []\n",
    "    for j in range(len(diagC_0_pairs[i])):\n",
    "        temp_list.append(diagC_0_pairs[i][j][1])\n",
    "        if np.isinf(temp_list[j]) == False:\n",
    "            temp_clean.append(temp_list[j])\n",
    "    maximum_death_C_0.append(max(temp_clean))\n",
    "max_d_C_0 = max(maximum_death_C_0)"
   ]
  },
  {
   "cell_type": "markdown",
   "metadata": {},
   "source": [
    "> ## with 1-persitent diagram"
   ]
  },
  {
   "cell_type": "code",
   "execution_count": 30,
   "metadata": {},
   "outputs": [],
   "source": [
    "diagA_1_pairs=[buildCleanPair(diag) for diag in diagA_1] \n",
    "diagB_1_pairs=[buildCleanPair(diag) for diag in diagB_1] \n",
    "diagC_1_pairs=[buildCleanPair(diag) for diag in diagC_1]"
   ]
  },
  {
   "cell_type": "markdown",
   "metadata": {},
   "source": [
    "diagA_1_outliers_pairs=[buildPair(diag) for diag in diagA_1_outliers] \n",
    "diagB_1_outliers_pairs=[buildPair(diag) for diag in diagB_1_outliers] \n",
    "diagC_1_outliers_pairs=[buildPair(diag) for diag in diagC_1_outliers]\n"
   ]
  },
  {
   "cell_type": "markdown",
   "metadata": {},
   "source": [
    "### Pedestrian A"
   ]
  },
  {
   "cell_type": "code",
   "execution_count": 31,
   "metadata": {},
   "outputs": [],
   "source": [
    "minimum_birth_A_1 = []\n",
    "\n",
    "for i in range(len(diagA_1_pairs)):\n",
    "    temp_list = []\n",
    "    for j in range(len(diagA_1_pairs[i])):\n",
    "        temp_list.append(diagA_1_pairs[i][j][0])\n",
    "    minimum_birth_A_1.append(min(temp_list))\n",
    "min_b_A_1 = min(minimum_birth_A_1)\n",
    "\n",
    "maximum_death_A_1 = []\n",
    "\n",
    "for i in range(len(diagA_1_pairs)):\n",
    "    temp_list = []\n",
    "    temp_clean = []\n",
    "    for j in range(len(diagA_1_pairs[i])):\n",
    "        temp_list.append(diagA_1_pairs[i][j][1])\n",
    "        if np.isinf(temp_list[j]) == False:\n",
    "            temp_clean.append(temp_list[j])\n",
    "    maximum_death_A_1.append(max(temp_clean))\n",
    "max_d_A_1 = max(maximum_death_A_1)"
   ]
  },
  {
   "cell_type": "markdown",
   "metadata": {},
   "source": [
    "### Pedestrian B"
   ]
  },
  {
   "cell_type": "code",
   "execution_count": 32,
   "metadata": {},
   "outputs": [],
   "source": [
    "minimum_birth_B_1 = []\n",
    "\n",
    "for i in range(len(diagB_1_pairs)):\n",
    "    temp_list = []\n",
    "    for j in range(len(diagB_1_pairs[i])):\n",
    "        temp_list.append(diagB_1_pairs[i][j][0])\n",
    "    minimum_birth_B_1.append(min(temp_list))\n",
    "min_b_B_1 = min(minimum_birth_B_1)\n",
    "\n",
    "maximum_death_B_1 = []\n",
    "\n",
    "for i in range(len(diagB_1_pairs)):\n",
    "    temp_list = []\n",
    "    temp_clean = []\n",
    "    for j in range(len(diagB_1_pairs[i])):\n",
    "        temp_list.append(diagB_1_pairs[i][j][1])\n",
    "        if np.isinf(temp_list[j]) == False:\n",
    "            temp_clean.append(temp_list[j])\n",
    "    maximum_death_B_1.append(max(temp_clean))\n",
    "max_d_B_1 = max(maximum_death_B_1)"
   ]
  },
  {
   "cell_type": "markdown",
   "metadata": {},
   "source": [
    "### Pedestrian C"
   ]
  },
  {
   "cell_type": "code",
   "execution_count": 33,
   "metadata": {},
   "outputs": [],
   "source": [
    "minimum_birth_C_1 = []\n",
    "\n",
    "for i in range(len(diagC_1_pairs)):\n",
    "    temp_list = []\n",
    "    for j in range(len(diagC_1_pairs[i])):\n",
    "        temp_list.append(diagC_1_pairs[i][j][0])\n",
    "    minimum_birth_C_1.append(min(temp_list))\n",
    "min_b_C_1 = min(minimum_birth_C_1)\n",
    "\n",
    "maximum_death_C_1 = []\n",
    "\n",
    "for i in range(len(diagC_1_pairs)):\n",
    "    temp_list = []\n",
    "    temp_clean = []\n",
    "    for j in range(len(diagC_1_pairs[i])):\n",
    "        temp_list.append(diagC_1_pairs[i][j][1])\n",
    "        if np.isinf(temp_list[j]) == False:\n",
    "            temp_clean.append(temp_list[j])\n",
    "    maximum_death_C_1.append(max(temp_clean))\n",
    "max_d_C_1 = max(maximum_death_C_1)"
   ]
  },
  {
   "cell_type": "markdown",
   "metadata": {},
   "source": [
    "> ## with alpha complex based diagram"
   ]
  },
  {
   "cell_type": "code",
   "execution_count": 35,
   "metadata": {},
   "outputs": [],
   "source": [
    "diagA_alpha_pairs=[buildCleanPair(diag) for diag in diagA_alpha] \n",
    "diagB_alpha_pairs=[buildCleanPair(diag) for diag in diagB_alpha] \n",
    "diagC_alpha_pairs=[buildCleanPair(diag) for diag in diagC_alpha]"
   ]
  },
  {
   "cell_type": "markdown",
   "metadata": {},
   "source": [
    "## The function below compute the bootleneck distance between two persistent diagrams"
   ]
  },
  {
   "cell_type": "code",
   "execution_count": 73,
   "metadata": {},
   "outputs": [],
   "source": [
    "from sklearn import manifold\n",
    "from mpl_toolkits.mplot3d import Axes3D"
   ]
  },
  {
   "cell_type": "code",
   "execution_count": 37,
   "metadata": {},
   "outputs": [],
   "source": [
    "def computeMatrixBottleneckDistance(diagList1):\n",
    "    matrix=np.zeros((len(diagList1),len(diagList1)))\n",
    "    for i in range(len(diagList1)):\n",
    "        for j in range(i,len(diagList1)):\n",
    "            dist=gudhi.bottleneck_distance(diagList1[i], diagList1[j], 0.0001)\n",
    "            matrix[i,j]=dist\n",
    "            matrix[j,i]=dist\n",
    "    return matrix"
   ]
  },
  {
   "cell_type": "markdown",
   "metadata": {},
   "source": [
    "> ## With 0-persistent homology"
   ]
  },
  {
   "cell_type": "code",
   "execution_count": 83,
   "metadata": {},
   "outputs": [],
   "source": [
    "matrix_bottleneck_distance_All_0=computeMatrixBottleneckDistance(diagA_0_pairs+diagB_0_pairs+diagC_0_pairs)"
   ]
  },
  {
   "cell_type": "markdown",
   "metadata": {},
   "source": [
    "### (2D) plot Pedestrian A,B and C  "
   ]
  },
  {
   "cell_type": "code",
   "execution_count": 89,
   "metadata": {},
   "outputs": [
    {
     "data": {
      "image/png": "[encoded data removed]",
      "text/plain": [
       "<matplotlib.figure.Figure at 0x15f7085f8>"
      ]
     },
     "metadata": {},
     "output_type": "display_data"
    }
   ],
   "source": [
    "mds2 = manifold.MDS(n_components=2, max_iter=3000, eps=1e-9,\n",
    "                   dissimilarity=\"precomputed\", n_jobs=1)\n",
    "pos2d= mds2.fit(matrix_bottleneck_distance_All_0).embedding_\n",
    "\n",
    "plt.subplots_adjust(bottom = 0.1)\n",
    "plt.scatter(\n",
    "    pos2d[:100, 0], pos2d[:100, 1], marker = 'o'\n",
    "    )\n",
    "plt.scatter(\n",
    "    pos2d[100:200, 0], pos2d[100:200, 1], marker = 'x'\n",
    "    )\n",
    "plt.scatter(\n",
    "    pos2d[200:300, 0], pos2d[200:300, 1], marker = '<'\n",
    "    )\n",
    "plt.show()\n"
   ]
  },
  {
   "cell_type": "markdown",
   "metadata": {},
   "source": [
    "### (3D) plot Pedestrian A,B and C"
   ]
  },
  {
   "cell_type": "code",
   "execution_count": 85,
   "metadata": {},
   "outputs": [
    {
     "data": {
      "text/plain": [
       "<matplotlib.figure.Figure at 0x16aa84898>"
      ]
     },
     "metadata": {},
     "output_type": "display_data"
    },
    {
     "data": {
      "image/png": "[encoded data removed]",
      "text/plain": [
       "<matplotlib.figure.Figure at 0x164931320>"
      ]
     },
     "metadata": {},
     "output_type": "display_data"
    }
   ],
   "source": [
    "mds3 = manifold.MDS(n_components=3, max_iter=3000, eps=1e-9,\n",
    "                   dissimilarity=\"precomputed\", n_jobs=1)\n",
    "pos3d= mds3.fit(matrix_bottleneck_distance_All_0).embedding_\n",
    "\n",
    "\n",
    "plt.subplots_adjust(bottom = 0.1)\n",
    "fig = plt.figure()\n",
    "ax = fig.add_subplot(111, projection='3d')\n",
    "ax.view_init(azim=60,elev = 0)\n",
    "ax.scatter(\n",
    "    pos3d[:100, 0], pos3d[:100, 1],pos3d[:100, 2], marker = 'o'\n",
    "    )\n",
    "ax.scatter(\n",
    "    pos3d[100:200, 0], pos3d[100:200, 1],pos3d[100:200, 2], marker = 'x'\n",
    "    )\n",
    "ax.scatter(\n",
    "    pos3d[200:300, 0], pos3d[200:300, 1],pos3d[200:300, 2], marker = '<'\n",
    "    )\n",
    "plt.show()\n",
    "\n"
   ]
  },
  {
   "cell_type": "markdown",
   "metadata": {},
   "source": [
    "> ## With 1-persistent homology"
   ]
  },
  {
   "cell_type": "code",
   "execution_count": 69,
   "metadata": {},
   "outputs": [],
   "source": [
    "matrix_bottleneck_distance_All_1=computeMatrixBottleneckDistance(diagA_1_pairs+diagB_1_pairs+diagC_1_pairs)"
   ]
  },
  {
   "cell_type": "markdown",
   "metadata": {},
   "source": [
    "### (2D) plot Pedestrian A,B and C"
   ]
  },
  {
   "cell_type": "code",
   "execution_count": 75,
   "metadata": {
    "scrolled": true
   },
   "outputs": [
    {
     "data": {
      "image/png": "[encoded data removed]",
      "text/plain": [
       "<matplotlib.figure.Figure at 0x15ed34208>"
      ]
     },
     "metadata": {},
     "output_type": "display_data"
    }
   ],
   "source": [
    "mds2 = manifold.MDS(n_components=2, max_iter=3000, eps=1e-9,\n",
    "                   dissimilarity=\"precomputed\", n_jobs=1)\n",
    "pos2d= mds2.fit(matrix_bottleneck_distance_All_1).embedding_\n",
    "\n",
    "plt.subplots_adjust(bottom = 0.1)\n",
    "plt.scatter(\n",
    "    pos2d[:100, 0], pos2d[:100, 1], marker = 'o'\n",
    "    )\n",
    "plt.scatter(\n",
    "    pos2d[100:200, 0], pos2d[100:200, 1], marker = 'x'\n",
    "    )\n",
    "plt.scatter(\n",
    "    pos2d[200:300, 0], pos2d[200:300, 1], marker = '<'\n",
    "    )\n",
    "plt.show()\n",
    "\n"
   ]
  },
  {
   "cell_type": "markdown",
   "metadata": {},
   "source": [
    "### (3D) plot Pedestrian A,B and C"
   ]
  },
  {
   "cell_type": "code",
   "execution_count": 82,
   "metadata": {},
   "outputs": [
    {
     "data": {
      "text/plain": [
       "<matplotlib.figure.Figure at 0x165336b00>"
      ]
     },
     "metadata": {},
     "output_type": "display_data"
    },
    {
     "data": {
      "image/png": "[encoded data removed]",
      "text/plain": [
       "<matplotlib.figure.Figure at 0x1642e2208>"
      ]
     },
     "metadata": {},
     "output_type": "display_data"
    }
   ],
   "source": [
    "mds3 = manifold.MDS(n_components=3, max_iter=3000, eps=1e-9,\n",
    "                   dissimilarity=\"precomputed\", n_jobs=1)\n",
    "pos3d= mds3.fit(matrix_bottleneck_distance_All_1).embedding_\n",
    "\n",
    "\n",
    "plt.subplots_adjust(bottom = 0.1)\n",
    "fig = plt.figure()\n",
    "ax = fig.add_subplot(111, projection='3d')\n",
    "ax.view_init(azim=60,elev = 0)\n",
    "ax.scatter(\n",
    "    pos3d[:100, 0], pos3d[:100, 1],pos3d[:100, 2], marker = 'o'\n",
    "    )\n",
    "ax.scatter(\n",
    "    pos3d[100:200, 0], pos3d[100:200, 1],pos3d[100:200, 2], marker = 'x'\n",
    "    )\n",
    "ax.scatter(\n",
    "    pos3d[200:300, 0], pos3d[200:300, 1],pos3d[200:300, 2], marker = '<'\n",
    "    )\n",
    "plt.show()"
   ]
  },
  {
   "cell_type": "markdown",
   "metadata": {},
   "source": [
    "> ## With alpha complex"
   ]
  },
  {
   "cell_type": "code",
   "execution_count": 86,
   "metadata": {},
   "outputs": [],
   "source": [
    "matrix_bottleneck_distance_All_alpha=computeMatrixBottleneckDistance(diagA_alpha_pairs+diagB_alpha_pairs+diagC_alpha_pairs)"
   ]
  },
  {
   "cell_type": "markdown",
   "metadata": {},
   "source": [
    "### (2D) plot Pedestrian A,B and C"
   ]
  },
  {
   "cell_type": "code",
   "execution_count": 90,
   "metadata": {},
   "outputs": [
    {
     "data": {
      "image/png": "[encoded data removed]",
      "text/plain": [
       "<matplotlib.figure.Figure at 0x16381a9b0>"
      ]
     },
     "metadata": {},
     "output_type": "display_data"
    }
   ],
   "source": [
    "mds2 = manifold.MDS(n_components=2, max_iter=3000, eps=1e-9,\n",
    "                   dissimilarity=\"precomputed\", n_jobs=1)\n",
    "pos2d= mds2.fit(matrix_bottleneck_distance_All_alpha).embedding_\n",
    "\n",
    "plt.subplots_adjust(bottom = 0.1)\n",
    "plt.scatter(\n",
    "    pos2d[:100, 0], pos2d[:100, 1], marker = 'o'\n",
    "    )\n",
    "plt.scatter(\n",
    "    pos2d[100:200, 0], pos2d[100:200, 1], marker = 'x'\n",
    "    )\n",
    "plt.scatter(\n",
    "    pos2d[200:300, 0], pos2d[200:300, 1], marker = '<'\n",
    "    )\n",
    "plt.show()\n"
   ]
  },
  {
   "cell_type": "markdown",
   "metadata": {},
   "source": [
    "### (3D) Pedestrian A,B and C"
   ]
  },
  {
   "cell_type": "code",
   "execution_count": 88,
   "metadata": {},
   "outputs": [
    {
     "data": {
      "text/plain": [
       "<matplotlib.figure.Figure at 0x1631dbe10>"
      ]
     },
     "metadata": {},
     "output_type": "display_data"
    },
    {
     "data": {
      "image/png": "[encoded data removed]",
      "text/plain": [
       "<matplotlib.figure.Figure at 0x1631dbd30>"
      ]
     },
     "metadata": {},
     "output_type": "display_data"
    }
   ],
   "source": [
    "mds3 = manifold.MDS(n_components=3, max_iter=3000, eps=1e-9,\n",
    "                   dissimilarity=\"precomputed\", n_jobs=1)\n",
    "pos3d= mds3.fit(matrix_bottleneck_distance_All_alpha).embedding_\n",
    "\n",
    "\n",
    "plt.subplots_adjust(bottom = 0.1)\n",
    "fig = plt.figure()\n",
    "ax = fig.add_subplot(111, projection='3d')\n",
    "ax.view_init(azim=60,elev = 0)\n",
    "ax.scatter(\n",
    "    pos3d[:100, 0], pos3d[:100, 1],pos3d[:100, 2], marker = 'o'\n",
    "    )\n",
    "ax.scatter(\n",
    "    pos3d[100:200, 0], pos3d[100:200, 1],pos3d[100:200, 2], marker = 'x'\n",
    "    )\n",
    "ax.scatter(\n",
    "    pos3d[200:300, 0], pos3d[200:300, 1],pos3d[200:300, 2], marker = '<'\n",
    "    )\n",
    "plt.show()"
   ]
  },
  {
   "cell_type": "markdown",
   "metadata": {},
   "source": [
    "### Observations"
   ]
  },
  {
   "cell_type": "markdown",
   "metadata": {},
   "source": [
    "__For the different type of filtration used above, wer can observe a clear separation between classes (A,B,C). This separability is important in the task of classifying the 3 peddestrians walk. \n",
    "In addition, we can clearly observe from these plots that the 1-persistent diagrams and the alpha-complex based diagrams yield to much clearer separation of classes than the 0-persitent diagrams. Therefore we could expect to build a more accurate classifier using the formers.__"
   ]
  },
  {
   "cell_type": "markdown",
   "metadata": {},
   "source": [
    "> # <span style=\"color:blue\">Question 4</span> : Computing persistence landscape\n"
   ]
  },
  {
   "cell_type": "markdown",
   "metadata": {},
   "source": [
    "__This function should take as input a persistence\n",
    "diagram dgm (in the Gudhi format), a dimension k, the endpoints xmin, xmax of an interval, the\n",
    "number nb_nodes of nodes of a regular grid on the interval [xmin, xmax] and a number of landscapes\n",
    "nb_ld, and output a nbld × nbnodes array storing the values of the first nb_ld landscapes of dgm on the\n",
    "node of the grid. Check, on some simple examples that your code is correct.__"
   ]
  },
  {
   "cell_type": "code",
   "execution_count": 47,
   "metadata": {},
   "outputs": [],
   "source": [
    "def computeLandscapes(dgm,x_min,x_max,nb_nodes,nb_lbd):\n",
    "    ''' This function compute the approximate landscape of a persistent diagram. \n",
    "    Given a range [xmin,xmax] and a grid size '''\n",
    "    \n",
    "    output = np.zeros((nb_lbd,nb_nodes))\n",
    "    step = (x_max - x_min) / nb_nodes\n",
    "    for i in range(nb_nodes):\n",
    "        x = x_min + i * step\n",
    "        event_list = []\n",
    "        for tup in dgm:\n",
    "            b = tup[0]\n",
    "            d = tup[1]\n",
    "            if (b <= x) and (x<= d):\n",
    "                if x >= (d+b)/2. :\n",
    "                    event_list.append((d-x))\n",
    "                else:\n",
    "                    event_list.append((x-b))\n",
    "        event_list.sort(reverse=True)\n",
    "        event_list = np.asarray(event_list)\n",
    "        for j in range(nb_lbd):\n",
    "            if(j<len(event_list)):\n",
    "                output[j,i]=event_list[j]\n",
    "    return output"
   ]
  },
  {
   "cell_type": "markdown",
   "metadata": {},
   "source": [
    "> Example"
   ]
  },
  {
   "cell_type": "code",
   "execution_count": 48,
   "metadata": {},
   "outputs": [
    {
     "data": {
      "text/plain": [
       "array([[ 0.    ,  0.0375,  0.075 , ..., 14.8875, 14.925 , 14.9625],\n",
       "       [ 0.    ,  0.0375,  0.075 , ...,  0.    ,  0.    ,  0.    ],\n",
       "       [ 0.    ,  0.0375,  0.075 , ...,  0.    ,  0.    ,  0.    ],\n",
       "       [ 0.    ,  0.0375,  0.075 , ...,  0.    ,  0.    ,  0.    ],\n",
       "       [ 0.    ,  0.0375,  0.075 , ...,  0.    ,  0.    ,  0.    ]])"
      ]
     },
     "execution_count": 48,
     "metadata": {},
     "output_type": "execute_result"
    }
   ],
   "source": [
    "diagA_1_pair_test= [diagA_1[0][a][1] for a in range(len(diagA_1[0]))] \n",
    "computeLandscapes(diagA_1_pair_test,0,15,400,5)"
   ]
  },
  {
   "cell_type": "markdown",
   "metadata": {},
   "source": [
    "> # <span style=\"color:blue\">Question 5</span>: First 5 landscapes on a relevant interval with a few hundred of nodes \n",
    "\n",
    "\n"
   ]
  },
  {
   "cell_type": "markdown",
   "metadata": {},
   "source": [
    "### __For each 0-dimensional and 1-dimensional persistence diagrams, compute the first 5 landscapes on a relevant interval with a few hundred of nodes. Splitting randomly the data set into a 80/20 learning/test data, use a random forest to explore the performances of the 0-dimensional or 1-dimensional landscapes to classify pedestrians. An example of code to realize such an experiment can be downloaded at http: //geometrica.saclay.inria.fr/team/Fred.Chazal/Centrale2017.html. Compare the results you obtain using 0-dimensional landscapes, 1-dimensional landscapes or both.__"
   ]
  },
  {
   "cell_type": "markdown",
   "metadata": {},
   "source": [
    "### Set parameter for the landscape approximation computation"
   ]
  },
  {
   "cell_type": "code",
   "execution_count": 49,
   "metadata": {},
   "outputs": [],
   "source": [
    "epsilon=0.2\n",
    "x_min=min(min(min_b_A_0,min_b_B_0,min_b_C_0),min(min_b_A_1,min_b_B_1,min_b_C_1))-epsilon\n",
    "x_max=max(max(max_d_A_0,max_d_B_0,max_d_C_0),max(max_d_A_1,max_d_B_1,max_d_C_1))+epsilon\n",
    "nb_nodes=300\n",
    "nb_lbd=5"
   ]
  },
  {
   "cell_type": "markdown",
   "metadata": {},
   "source": [
    "> with 0-persitent diagram"
   ]
  },
  {
   "cell_type": "code",
   "execution_count": 50,
   "metadata": {},
   "outputs": [],
   "source": [
    "diagA_0_landscapes=[computeLandscapes(pair,x_min,x_max,nb_nodes,nb_lbd) for pair in diagA_0_pairs]\n",
    "diagB_0_landscapes=[computeLandscapes(pair,x_min,x_max,nb_nodes,nb_lbd) for pair in diagB_0_pairs]\n",
    "diagC_0_landscapes=[computeLandscapes(pair,x_min,x_max,nb_nodes,nb_lbd) for pair in diagC_0_pairs]"
   ]
  },
  {
   "cell_type": "markdown",
   "metadata": {},
   "source": [
    "> with 1-persitent diagram"
   ]
  },
  {
   "cell_type": "code",
   "execution_count": 51,
   "metadata": {},
   "outputs": [],
   "source": [
    "diagA_1_landscapes=[computeLandscapes(pair,x_min,x_max,nb_nodes,nb_lbd) for pair in diagA_1_pairs]\n",
    "diagB_1_landscapes=[computeLandscapes(pair,x_min,x_max,nb_nodes,nb_lbd) for pair in diagB_1_pairs]\n",
    "diagC_1_landscapes=[computeLandscapes(pair,x_min,x_max,nb_nodes,nb_lbd) for pair in diagC_1_pairs]"
   ]
  },
  {
   "cell_type": "markdown",
   "metadata": {},
   "source": [
    "diagA_1_outliers_landscapes=[computeLandscapes(pair,x_min,x_max,nb_nodes,nb_lbd) for pair in diagA_1_outliers_pairs]\n",
    "diagB_1_outliers_landscapes=[computeLandscapes(pair,x_min,x_max,nb_nodes,nb_lbd) for pair in diagB_1_outliers_pairs]\n",
    "diagC_1_outliers_landscapes=[computeLandscapes(pair,x_min,x_max,nb_nodes,nb_lbd) for pair in diagC_1_outliers_pairs]\n"
   ]
  },
  {
   "cell_type": "markdown",
   "metadata": {},
   "source": [
    "> with alpha complex diagram"
   ]
  },
  {
   "cell_type": "code",
   "execution_count": 52,
   "metadata": {},
   "outputs": [],
   "source": [
    "diagA_alpha_landscapes=[computeLandscapes(pair,x_min,x_max,nb_nodes,nb_lbd) for pair in diagA_alpha_pairs]\n",
    "diagB_alpha_landscapes=[computeLandscapes(pair,x_min,x_max,nb_nodes,nb_lbd) for pair in diagB_alpha_pairs]\n",
    "diagC_alpha_landscapes=[computeLandscapes(pair,x_min,x_max,nb_nodes,nb_lbd) for pair in diagC_alpha_pairs]"
   ]
  },
  {
   "cell_type": "markdown",
   "metadata": {},
   "source": [
    "## Random Forest"
   ]
  },
  {
   "cell_type": "code",
   "execution_count": 95,
   "metadata": {},
   "outputs": [],
   "source": [
    "\"\"\"\n",
    "Created on Sun Dec 17 18:33:31 2017\n",
    "\n",
    "@author: Fredreci Chazal - All rights reserved\n",
    "\"\"\"\n",
    "from sklearn.ensemble import RandomForestClassifier\n",
    "from sklearn.model_selection import train_test_split\n",
    "from sklearn.metrics import confusion_matrix\n",
    "\n",
    "#### Classification with random forests \n",
    "#### Interesting compare with L0_list, L1_list and L_list\n",
    "#### where L0_list, L1_list and L_list are list storing the $0$-dimensional \n",
    "#### landscapes, $1$-dimensional landscapes, and the concatenation of both \n",
    "#### respectively"
   ]
  },
  {
   "cell_type": "code",
   "execution_count": 97,
   "metadata": {},
   "outputs": [],
   "source": [
    "def runRFandPlot(List):\n",
    "    avg = 0\n",
    "    for i in range(20):\n",
    "        L_train, L_test, label_train, label_test = train_test_split(List, label, test_size=0.2)\n",
    "        RF = RandomForestClassifier()\n",
    "        RF.fit(L_train, label_train)\n",
    "        print(np.mean(RF.predict(L_test) == label_test) )\n",
    "        avg += np.mean(RF.predict(L_test) == label_test)\n",
    "        #print(confusion_matrix(RF.predict(L_test), label_test))\n",
    "    print (\"avg pred: \",avg/20)\n",
    "\n",
    "    plt.plot(RF.feature_importances_)"
   ]
  },
  {
   "cell_type": "markdown",
   "metadata": {},
   "source": [
    "> ## with 0-persistent "
   ]
  },
  {
   "cell_type": "code",
   "execution_count": 53,
   "metadata": {},
   "outputs": [],
   "source": [
    "l0A=[el.flatten() for el in diagA_0_landscapes]\n",
    "l0B=[el.flatten() for el in diagB_0_landscapes]\n",
    "l0C=[el.flatten() for el in diagC_0_landscapes]\n",
    "L0_list=l0A+l0B+l0C\n"
   ]
  },
  {
   "cell_type": "code",
   "execution_count": 99,
   "metadata": {},
   "outputs": [
    {
     "name": "stdout",
     "output_type": "stream",
     "text": [
      "0.8\n",
      "0.85\n",
      "0.85\n",
      "0.8833333333333333\n",
      "0.85\n",
      "0.8833333333333333\n",
      "0.8166666666666667\n",
      "0.9166666666666666\n",
      "0.9\n",
      "0.85\n",
      "0.8666666666666667\n",
      "0.85\n",
      "0.8166666666666667\n",
      "0.9333333333333333\n",
      "0.8833333333333333\n",
      "0.9\n",
      "0.8833333333333333\n",
      "0.8666666666666667\n",
      "0.85\n",
      "0.8666666666666667\n",
      "avg pred:  0.8658333333333335\n"
     ]
    },
    {
     "data": {
      "image/png": "[encoded data removed]",
      "text/plain": [
       "<matplotlib.figure.Figure at 0x15ed10d30>"
      ]
     },
     "metadata": {},
     "output_type": "display_data"
    }
   ],
   "source": [
    "runRFandPlot(L0_list)"
   ]
  },
  {
   "cell_type": "markdown",
   "metadata": {},
   "source": [
    "> ## with 1-persistent "
   ]
  },
  {
   "cell_type": "code",
   "execution_count": 57,
   "metadata": {},
   "outputs": [],
   "source": [
    "l1A=[el.flatten() for el in diagA_1_landscapes]\n",
    "l1B=[el.flatten() for el in diagB_1_landscapes]\n",
    "l1C=[el.flatten() for el in diagC_1_landscapes]\n",
    "L1_list=l1A+l1B+l1C"
   ]
  },
  {
   "cell_type": "code",
   "execution_count": 100,
   "metadata": {},
   "outputs": [
    {
     "name": "stdout",
     "output_type": "stream",
     "text": [
      "0.95\n",
      "0.9666666666666667\n",
      "0.9833333333333333\n",
      "0.9333333333333333\n",
      "0.9333333333333333\n",
      "0.9333333333333333\n",
      "0.9666666666666667\n",
      "0.9333333333333333\n",
      "0.95\n",
      "0.9166666666666666\n",
      "0.9333333333333333\n",
      "0.9166666666666666\n",
      "0.9666666666666667\n",
      "0.9333333333333333\n",
      "0.9666666666666667\n",
      "0.95\n",
      "0.9166666666666666\n",
      "0.9833333333333333\n",
      "0.9166666666666666\n",
      "0.8833333333333333\n",
      "avg pred:  0.9416666666666668\n"
     ]
    },
    {
     "data": {
      "image/png": "[encoded data removed]",
      "text/plain": [
       "<matplotlib.figure.Figure at 0x164e500f0>"
      ]
     },
     "metadata": {},
     "output_type": "display_data"
    }
   ],
   "source": [
    "runRFandPlot(L1_list)"
   ]
  },
  {
   "cell_type": "markdown",
   "metadata": {},
   "source": [
    "Attempt with outliers removed"
   ]
  },
  {
   "cell_type": "markdown",
   "metadata": {},
   "source": [
    "l1A=[el.flatten() for el in diagA_1_outliers_landscapes]\n",
    "l1B=[el.flatten() for el in diagB_1_outliers_landscapes]\n",
    "l1C=[el.flatten() for el in diagC_1_outliers_landscapes]\n",
    "L1_list_outliers=l1A+l1B+l1C"
   ]
  },
  {
   "cell_type": "markdown",
   "metadata": {},
   "source": [
    "runRFandPlot(L1_list_outliers)"
   ]
  },
  {
   "cell_type": "markdown",
   "metadata": {},
   "source": [
    "> ## With 0-persitent and 1-persitent concatenated"
   ]
  },
  {
   "cell_type": "code",
   "execution_count": 59,
   "metadata": {},
   "outputs": [],
   "source": [
    "lA=[np.array(list(el.flatten()) +list(el2.flatten())) for el,el2 in zip(diagA_0_landscapes,diagA_1_landscapes)]\n",
    "lB=[np.array(list(el.flatten()) +list(el2.flatten())) for el,el2 in zip(diagB_0_landscapes,diagB_1_landscapes)]\n",
    "lC=[np.array(list(el.flatten()) +list(el2.flatten())) for el,el2 in zip(diagC_0_landscapes,diagC_1_landscapes)]\n",
    "L_list=lA+lB+lC"
   ]
  },
  {
   "cell_type": "code",
   "execution_count": 104,
   "metadata": {},
   "outputs": [
    {
     "name": "stdout",
     "output_type": "stream",
     "text": [
      "0.9333333333333333\n",
      "1.0\n",
      "0.8333333333333334\n",
      "0.95\n",
      "0.95\n",
      "0.9\n",
      "0.95\n",
      "0.9666666666666667\n",
      "0.8833333333333333\n",
      "1.0\n",
      "0.95\n",
      "0.9333333333333333\n",
      "1.0\n",
      "0.9666666666666667\n",
      "0.8833333333333333\n",
      "0.9333333333333333\n",
      "0.9333333333333333\n",
      "0.9333333333333333\n",
      "0.9\n",
      "0.95\n",
      "avg pred:  0.9374999999999998\n"
     ]
    },
    {
     "data": {
      "image/png": "[encoded data removed]",
      "text/plain": [
       "<matplotlib.figure.Figure at 0x16381a048>"
      ]
     },
     "metadata": {},
     "output_type": "display_data"
    }
   ],
   "source": [
    "runRFandPlot(L_list)"
   ]
  },
  {
   "cell_type": "markdown",
   "metadata": {},
   "source": [
    "## With alpha complex"
   ]
  },
  {
   "cell_type": "code",
   "execution_count": 63,
   "metadata": {},
   "outputs": [],
   "source": [
    "lalphaA=[el.flatten() for el in diagA_alpha_landscapes]\n",
    "lalphaB=[el.flatten() for el in diagB_alpha_landscapes]\n",
    "lalphaC=[el.flatten() for el in diagC_alpha_landscapes]\n",
    "Lalpha_list=lalphaA+lalphaB+lalphaC"
   ]
  },
  {
   "cell_type": "code",
   "execution_count": 105,
   "metadata": {},
   "outputs": [
    {
     "name": "stdout",
     "output_type": "stream",
     "text": [
      "0.95\n",
      "0.95\n",
      "0.8833333333333333\n",
      "0.9833333333333333\n",
      "0.9666666666666667\n",
      "0.9833333333333333\n",
      "0.9666666666666667\n",
      "0.9833333333333333\n",
      "0.9666666666666667\n",
      "0.9666666666666667\n",
      "0.9666666666666667\n",
      "0.9666666666666667\n",
      "0.9333333333333333\n",
      "0.9833333333333333\n",
      "0.9666666666666667\n",
      "0.9666666666666667\n",
      "0.9833333333333333\n",
      "0.95\n",
      "0.95\n",
      "0.95\n",
      "avg pred:  0.9608333333333332\n"
     ]
    },
    {
     "data": {
      "image/png": "[encoded data removed]",
      "text/plain": [
       "<matplotlib.figure.Figure at 0x162e42f60>"
      ]
     },
     "metadata": {},
     "output_type": "display_data"
    }
   ],
   "source": [
    "runRFandPlot(Lalpha_list)"
   ]
  },
  {
   "cell_type": "markdown",
   "metadata": {},
   "source": [
    "> ## With Grid Search"
   ]
  },
  {
   "cell_type": "code",
   "execution_count": 61,
   "metadata": {},
   "outputs": [
    {
     "name": "stderr",
     "output_type": "stream",
     "text": [
      "/Users/yaguethiam/anaconda/lib/python3.6/site-packages/sklearn/cross_validation.py:41: DeprecationWarning: This module was deprecated in version 0.18 in favor of the model_selection module into which all the refactored classes and functions are moved. Also note that the interface of the new CV iterators are different from that of this module. This module will be removed in 0.20.\n",
      "  \"This module will be removed in 0.20.\", DeprecationWarning)\n"
     ]
    }
   ],
   "source": [
    "# Define a scoring fonction to evaluate modelling\n",
    "from sklearn.cross_validation import cross_val_score\n",
    "\n",
    "def compute_score(clf, X, y, scoring='accuracy'):\n",
    "    xval = cross_val_score(clf, X, y, cv = 5, scoring=scoring)\n",
    "    return np.mean(xval)"
   ]
  },
  {
   "cell_type": "code",
   "execution_count": 62,
   "metadata": {},
   "outputs": [
    {
     "name": "stderr",
     "output_type": "stream",
     "text": [
      "/Users/yaguethiam/anaconda/lib/python3.6/site-packages/sklearn/grid_search.py:42: DeprecationWarning: This module was deprecated in version 0.18 in favor of the model_selection module into which all the refactored classes and functions are moved. This module will be removed in 0.20.\n",
      "  DeprecationWarning)\n"
     ]
    },
    {
     "data": {
      "text/plain": [
       "0.9400000000000001"
      ]
     },
     "execution_count": 62,
     "metadata": {},
     "output_type": "execute_result"
    }
   ],
   "source": [
    "### Use GridSearchCV to tune parameters for Random Forest\n",
    "# turn run_gs to True if you want to run the gridsearch again.\n",
    "from sklearn.ensemble import RandomForestClassifier\n",
    "from sklearn.cross_validation import StratifiedKFold\n",
    "from sklearn.grid_search import GridSearchCV\n",
    "train=L1_list\n",
    "targets=label\n",
    "\n",
    "run_gs = False\n",
    "\n",
    "if run_gs:\n",
    "    parameter_grid = {\n",
    "                 'max_depth' : [4, 6, 8, None],\n",
    "                 'n_estimators': [10, 20, 50, 100],\n",
    "                 'max_features': ['sqrt', 'auto', 'log2'],\n",
    "                 'min_samples_split': [1, 3, 10,30, 50],\n",
    "                 'min_samples_leaf': [1, 3, 10, 30, 50],\n",
    "                 'bootstrap': [True, False],\n",
    "                 'criterion': ['gini', 'entropy']\n",
    "                 }\n",
    "    rf = RandomForestClassifier()\n",
    "    cross_validation = StratifiedKFold(targets, n_folds=5)\n",
    "\n",
    "    grid_search = GridSearchCV(rf,\n",
    "                               scoring='accuracy',\n",
    "                               param_grid=parameter_grid,\n",
    "                               cv=cross_validation)\n",
    "    # Input the label of the training set and the related targets\n",
    "    grid_search.fit(train, targets)\n",
    "    rf_best = grid_search\n",
    "    parameters = grid_search.best_params_\n",
    "\n",
    "    print('Best score: {}'.format(grid_search.best_score_))\n",
    "    print('Best parameters: {}'.format(grid_search.best_params_))\n",
    "else: \n",
    "    parameters = {'bootstrap': False, 'min_samples_leaf': 3, 'n_estimators': 50, \n",
    "                  'min_samples_split': 10, 'max_features': 'sqrt', 'max_depth': 6}\n",
    "    # **parameters enables to retrieve the optimal parameters derived from GridSearchCV\n",
    "    rf_best = RandomForestClassifier(**parameters)\n",
    "    \n",
    "    # Again, input the correct names for the training set and its related target variables\n",
    "    rf_best.fit(train, targets)\n",
    "    \n",
    "compute_score(rf_best, train, targets, scoring='accuracy')"
   ]
  },
  {
   "cell_type": "markdown",
   "metadata": {},
   "source": [
    "> # <span style=\"color:blue\">Question 6</span>: Classification using raw data\n",
    "\n"
   ]
  },
  {
   "cell_type": "markdown",
   "metadata": {},
   "source": [
    "### __Do the same experiment as previously, but using the raw data ( 3 × 200 array of acceleration coordinates).__"
   ]
  },
  {
   "cell_type": "code",
   "execution_count": 65,
   "metadata": {},
   "outputs": [],
   "source": [
    "l1A=[el.T.flatten() for el in data_A]\n",
    "l1B=[el.T.flatten() for el in data_B]\n",
    "l1C=[el.T.flatten() for el in data_C]\n",
    "L1_list_row=l1A+l1B+l1C"
   ]
  },
  {
   "cell_type": "code",
   "execution_count": 106,
   "metadata": {},
   "outputs": [
    {
     "name": "stdout",
     "output_type": "stream",
     "text": [
      "0.8833333333333333\n",
      "0.9333333333333333\n",
      "0.8333333333333334\n",
      "0.9\n",
      "0.95\n",
      "0.9333333333333333\n",
      "0.9166666666666666\n",
      "0.9\n",
      "0.8333333333333334\n",
      "0.8\n",
      "0.9333333333333333\n",
      "0.9333333333333333\n",
      "0.8333333333333334\n",
      "0.8666666666666667\n",
      "0.8833333333333333\n",
      "0.9\n",
      "0.9666666666666667\n",
      "0.9333333333333333\n",
      "0.9166666666666666\n",
      "0.8833333333333333\n",
      "avg pred:  0.8966666666666668\n"
     ]
    },
    {
     "data": {
      "image/png": "[encoded data removed]",
      "text/plain": [
       "<matplotlib.figure.Figure at 0x163e6b908>"
      ]
     },
     "metadata": {},
     "output_type": "display_data"
    }
   ],
   "source": [
    "runRFandPlot(L1_list_row)"
   ]
  },
  {
   "cell_type": "markdown",
   "metadata": {},
   "source": [
    "## Conclusion"
   ]
  },
  {
   "cell_type": "code",
   "execution_count": null,
   "metadata": {},
   "outputs": [],
   "source": []
  }
 ],
 "metadata": {
  "kernelspec": {
   "display_name": "Python 3",
   "language": "python",
   "name": "python3"
  },
  "language_info": {
   "codemirror_mode": {
    "name": "ipython",
    "version": 3
   },
   "file_extension": ".py",
   "mimetype": "text/x-python",
   "name": "python",
   "nbconvert_exporter": "python",
   "pygments_lexer": "ipython3",
   "version": "3.6.3"
  }
 },
 "nbformat": 4,
 "nbformat_minor": 2
}
