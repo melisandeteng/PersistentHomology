{
 "cells": [
  {
   "cell_type": "markdown",
   "metadata": {},
   "source": [
    "# Persistent homology for smartphone data analysis (pedestrian recognition)"
   ]
  },
  {
   "cell_type": "markdown",
   "metadata": {},
   "source": [
    "__Description__: The goal of this is project to illustrate, on a toy example, the benefit of “coordinate in- variance” of persistent homology. The walk of 3 pedestrians A, B and C, has been recorded using the accelerometer sensor of a smartphone carried in the their pocket, giving rise to 3 multivariate time series in R3: each time series represents the 3 coordinates of the acceleration of the corresponding pedestrian in a coordinate system attached to the sensor. As, the smartphone was carried in unknown different positions and was not fixed, these time series cannot be compared coordinates by coordinates. Using a sliding window, each series has been splitted in a list of 100 times series made of 200 consecutive points, that are stored in data A, data B and data C. To each set of 200 points is associated a label A, B or C stored in label (see the data set and the Python script to load the data). The objective is to compute the persistence diagrams of these 3D point clouds and use them to achieve a pedestrian recognition task (supervised setting).\n",
    "Note: This project requires some (basic) knowledge of learning (random forests)."
   ]
  },
  {
   "cell_type": "code",
   "execution_count": 1,
   "metadata": {},
   "outputs": [],
   "source": [
    "import numpy as np\n",
    "import pickle as pickle\n",
    "from os.path import join\n",
    "import matplotlib.pyplot as plt\n",
    "%matplotlib inline"
   ]
  },
  {
   "cell_type": "markdown",
   "metadata": {},
   "source": [
    "## Question 1: Loading Data"
   ]
  },
  {
   "cell_type": "code",
   "execution_count": 2,
   "metadata": {},
   "outputs": [],
   "source": [
    "path=\"/Users/yaguethiam/PersistentHomology/data_acc_rot.dat\""
   ]
  },
  {
   "cell_type": "code",
   "execution_count": 3,
   "metadata": {},
   "outputs": [],
   "source": [
    "f = open(path,\"rb\")\n",
    "data = pickle.load(f,encoding='latin1')\n",
    "f.close()\n",
    "\n",
    "data_A = data[0]\n",
    "data_B = data[1] \n",
    "data_C = data[2]\n",
    "label = data[3]"
   ]
  },
  {
   "cell_type": "markdown",
   "metadata": {},
   "source": [
    "> # Question 2:"
   ]
  },
  {
   "cell_type": "markdown",
   "metadata": {},
   "source": [
    "Compute and save the 0-dimensional and 1-dimensional persistence diagrams of the Rips filtrations (or alternately the alpha-shape filtrations) built on top of each of the 300 point clouds in R3."
   ]
  },
  {
   "cell_type": "code",
   "execution_count": 4,
   "metadata": {},
   "outputs": [],
   "source": [
    "import gudhi"
   ]
  },
  {
   "cell_type": "markdown",
   "metadata": {},
   "source": [
    "## About persistent homology \n",
    "\n",
    "### General definitions\n",
    "Let (P, D) be a metric space where P is a point set. \n",
    "Given r > 0, the Rips complex is the simplicial complex R(P) constituted by the simplexes such that$d(p,q) \\leq r$ for every pair of vertices in the simplex.  \n",
    "Constructing the Rips complex helps capture the topology of the data set. Choosing $r$ is a difficult task because if $r$ ois too small, the complex is a discrete set, and if $r$ is too large, the complex becomes a single high-dimensional complex.\n",
    "\n",
    "\n",
    "Given a filtration $(K_0, K_1, ..., K_n)$, the $p$-dimensional persistence diagram is the set of points (i,j) such that the number of $p$-dimensional homology classes born at $K_i$ that die entering $K_j$ is one.  \n",
    "Here the filtration will actually be a sequence of Rips complexes associated to the 3D point cloud for an increasing\n",
    "sequence of parameter values ($r_i$).\n"
   ]
  },
  {
   "cell_type": "markdown",
   "metadata": {},
   "source": [
    "### Average distance between two points "
   ]
  },
  {
   "cell_type": "code",
   "execution_count": 5,
   "metadata": {},
   "outputs": [],
   "source": [
    "from scipy.spatial.distance import squareform, pdist"
   ]
  },
  {
   "cell_type": "code",
   "execution_count": 6,
   "metadata": {},
   "outputs": [],
   "source": [
    "def computeAvDistance(points):\n",
    "    matdist=squareform(pdist(points, 'euclidean'))\n",
    "    sumD=[]\n",
    "    for i in range(points.shape[0]):\n",
    "        for j in range(i+1,points.shape[0]):\n",
    "            sumD.append(matdist[i,j])\n",
    "            \n",
    "    npsumD=np.array(sumD)\n",
    "    \n",
    "    return (np.std(npsumD),np.mean(npsumD))"
   ]
  },
  {
   "cell_type": "code",
   "execution_count": 7,
   "metadata": {},
   "outputs": [],
   "source": [
    "average_distance_A=sum([computeAvDistance(data_A[a])[1] for a in range(len(data_A))])/len(data_A)\n",
    "average_distance_B=sum([computeAvDistance(data_B[a])[1] for a in range(len(data_B))])/len(data_B)\n",
    "average_distance_C=sum([computeAvDistance(data_C[a])[1] for a in range(len(data_C))])/len(data_C)"
   ]
  },
  {
   "cell_type": "code",
   "execution_count": null,
   "metadata": {},
   "outputs": [],
   "source": [
    "print(average_distance_A)\n",
    "print(average_distance_B)\n",
    "print(average_distance_C)"
   ]
  },
  {
   "cell_type": "markdown",
   "metadata": {},
   "source": [
    "## With Rips Filtration"
   ]
  },
  {
   "cell_type": "markdown",
   "metadata": {},
   "source": [
    "### 0-dimensional persistence diagrams of the Rips filtrations"
   ]
  },
  {
   "cell_type": "markdown",
   "metadata": {},
   "source": [
    "In order to draw the 0-dimensional persistence diagram of the Rips filtrations, we use \\verb gudhi.RipsComplex on the 3D point cloud. "
   ]
  },
  {
   "cell_type": "markdown",
   "metadata": {},
   "source": [
    "> __parameter to tune is the maxEdgeLen__"
   ]
  },
  {
   "cell_type": "code",
   "execution_count": 36,
   "metadata": {},
   "outputs": [],
   "source": [
    "def build_0_persistent_diag(dataset, maxEdgeLen=12):\n",
    "    persist=[]\n",
    "    for i in range(len(dataset)):\n",
    "        rips = gudhi.RipsComplex(points=dataset[i],max_edge_length=maxEdgeLen)\n",
    "        simplex_tree = rips.create_simplex_tree(max_dimension=1)\n",
    "        diag = simplex_tree.persistence()\n",
    "        persist.append(diag)\n",
    "    return persist"
   ]
  },
  {
   "cell_type": "markdown",
   "metadata": {},
   "source": [
    "> Compute the 0 persistent diagram for the 3 pedestrians "
   ]
  },
  {
   "cell_type": "code",
   "execution_count": 37,
   "metadata": {},
   "outputs": [],
   "source": [
    "diagA_0=build_0_persistent_diag(data_A)\n",
    "diagB_0=build_0_persistent_diag(data_B)\n",
    "diagC_0=build_0_persistent_diag(data_C)"
   ]
  },
  {
   "cell_type": "markdown",
   "metadata": {},
   "source": [
    "### 1-dimensional persistence diagrams of the Rips filtrations"
   ]
  },
  {
   "cell_type": "code",
   "execution_count": 38,
   "metadata": {},
   "outputs": [],
   "source": [
    "def build_1_persistent_diag(dataset, maxEdgeLen=500):\n",
    "    persist=[]\n",
    "    for i in range(len(dataset)):\n",
    "        rips = gudhi.RipsComplex(points=dataset[i],max_edge_length=maxEdgeLen)\n",
    "        simplex_tree = rips.create_simplex_tree(max_dimension=2)\n",
    "        diag = simplex_tree.persistence()\n",
    "        persist.append(diag)\n",
    "    return persist"
   ]
  },
  {
   "cell_type": "markdown",
   "metadata": {},
   "source": [
    "> Compute the 1 persistent diagram for the 3 pedestrians "
   ]
  },
  {
   "cell_type": "code",
   "execution_count": 39,
   "metadata": {},
   "outputs": [],
   "source": [
    "diagA_1=build_1_persistent_diag(data_A)\n",
    "diagB_1=build_1_persistent_diag(data_B)\n",
    "diagC_1=build_1_persistent_diag(data_C)"
   ]
  },
  {
   "cell_type": "markdown",
   "metadata": {},
   "source": [
    "## With Alpha complex"
   ]
  },
  {
   "cell_type": "code",
   "execution_count": 112,
   "metadata": {},
   "outputs": [],
   "source": [
    "def build_alphaComplex_diag(dataset,maxAlphaSquare=100.0):\n",
    "    persist=[]\n",
    "    for i in range(len(dataset)):\n",
    "        alpha_complex = gudhi.AlphaComplex(points=dataset[i])\n",
    "        simplex_tree = alpha_complex.create_simplex_tree(max_alpha_square=maxAlphaSquare)\n",
    "        diag = simplex_tree.persistence()\n",
    "        persist.append(diag)\n",
    "    return persist"
   ]
  },
  {
   "cell_type": "markdown",
   "metadata": {},
   "source": [
    "> Alpha complex based diagram"
   ]
  },
  {
   "cell_type": "code",
   "execution_count": 113,
   "metadata": {},
   "outputs": [],
   "source": [
    "diagA_alpha=build_alphaComplex_diag(data_A)\n",
    "diagB_alpha=build_alphaComplex_diag(data_B)\n",
    "diagC_alpha=build_alphaComplex_diag(data_C)"
   ]
  },
  {
   "cell_type": "markdown",
   "metadata": {},
   "source": [
    "> # Question 3: Matrices of pairwise bottleneck distances between diagrams and use a dimensionality reduction algorithm to visualize them in 2D and 3D (e.g. Multidimensional Scaling).\n"
   ]
  },
  {
   "cell_type": "markdown",
   "metadata": {},
   "source": [
    "The bottleneck distance measures the similarity between two persistence diagrams. It is the shortest distance $d$ for which there exists a perfect matching between the points of the two diagrams such that any couple of matched points are at distance at most $d$. The cost of matching, i.e. taking a point $p$ of the first diagram to a point $p'$ of the second diagram corresponds the minimum between moving $p$ to $p'$ and moving both points on the diagonal.\n",
    "\n",
    "USE Gudhi::persistence_diagram::bottleneck_distance (const Persistence_diagram1 &diag1, const Persistence_diagram2 &diag2, double e=(std::numeric_limits< double >::min)())\n",
    "\n",
    "Why are we comparing 0 and 1-dimensional persistence diagrams of the Rips filtrations through pedestrian task classification.\n",
    "\n"
   ]
  },
  {
   "cell_type": "markdown",
   "metadata": {},
   "source": [
    "USE sklearn.manifold.MDS for multidimensional scaling. "
   ]
  },
  {
   "cell_type": "markdown",
   "metadata": {},
   "source": [
    "remarques du cours\n",
    "→ Vietoris-Rips (or Cech, witness) filtrations quickly become prohibitively large as\n",
    "the size of the data increases ( O(|X|\n",
    "d\n",
    ") ), making the computation of persistence\n",
    "practically almost impossible.\n",
    "→ Persistence diagrams of Rips-Vietoris (and Cˇech, witness,..) filtrations and\n",
    "Gromov-Hausdorff distance are very sensitive to noise and outliers"
   ]
  },
  {
   "cell_type": "markdown",
   "metadata": {},
   "source": [
    "### Pair of (birth , death) tuple"
   ]
  },
  {
   "cell_type": "code",
   "execution_count": 40,
   "metadata": {},
   "outputs": [],
   "source": [
    "def buildPair(diagram):\n",
    "    return [item[1] for item in diagram] "
   ]
  },
  {
   "cell_type": "markdown",
   "metadata": {},
   "source": [
    "> ## with 0-persitent diagram"
   ]
  },
  {
   "cell_type": "code",
   "execution_count": 41,
   "metadata": {},
   "outputs": [],
   "source": [
    "diagA_0_pairs=[buildPair(diag) for diag in diagA_0] \n",
    "diagB_0_pairs=[buildPair(diag) for diag in diagB_0] \n",
    "diagC_0_pairs=[buildPair(diag) for diag in diagC_0] "
   ]
  },
  {
   "cell_type": "markdown",
   "metadata": {},
   "source": [
    "### Pedestrian A"
   ]
  },
  {
   "cell_type": "code",
   "execution_count": 42,
   "metadata": {},
   "outputs": [],
   "source": [
    "minimum_birth_A_0 = []\n",
    "\n",
    "for i in range(len(diagA_0_pairs)):\n",
    "    temp_list = []\n",
    "    for j in range(len(diagA_0_pairs[i])):\n",
    "        temp_list.append(diagA_0_pairs[i][j][0])\n",
    "    minimum_birth_A_0.append(min(temp_list))\n",
    "min_b_A_0 = min(minimum_birth_A_0)\n",
    "\n",
    "maximum_death_A_0 = []\n",
    "\n",
    "for i in range(len(diagA_0_pairs)):\n",
    "    temp_list = []\n",
    "    temp_clean = []\n",
    "    for j in range(len(diagA_0_pairs[i])):\n",
    "        temp_list.append(diagA_0_pairs[i][j][1])\n",
    "        if np.isinf(temp_list[j]) == False:\n",
    "            temp_clean.append(temp_list[j])\n",
    "    maximum_death_A_0.append(max(temp_clean))\n",
    "max_d_A_0 = max(maximum_death_A_0)"
   ]
  },
  {
   "cell_type": "markdown",
   "metadata": {},
   "source": [
    "### Pedestrian B"
   ]
  },
  {
   "cell_type": "code",
   "execution_count": 45,
   "metadata": {},
   "outputs": [],
   "source": [
    "minimum_birth_B_0 = []\n",
    "\n",
    "for i in range(len(diagB_0_pairs)):\n",
    "    temp_list = []\n",
    "    for j in range(len(diagB_0_pairs[i])):\n",
    "        temp_list.append(diagB_0_pairs[i][j][0])\n",
    "    minimum_birth_B_0.append(min(temp_list))\n",
    "min_b_B_0 = min(minimum_birth_B_0)\n",
    "\n",
    "maximum_death_B_0 = []\n",
    "\n",
    "for i in range(len(diagB_0_pairs)):\n",
    "    temp_list = []\n",
    "    temp_clean = []\n",
    "    for j in range(len(diagB_0_pairs[i])):\n",
    "        temp_list.append(diagB_0_pairs[i][j][1])\n",
    "        if np.isinf(temp_list[j]) == False:\n",
    "            temp_clean.append(temp_list[j])\n",
    "    maximum_death_B_0.append(max(temp_clean))\n",
    "max_d_B_0 = max(maximum_death_B_0)"
   ]
  },
  {
   "cell_type": "markdown",
   "metadata": {},
   "source": [
    "### Pedestrian C"
   ]
  },
  {
   "cell_type": "code",
   "execution_count": 49,
   "metadata": {},
   "outputs": [],
   "source": [
    "minimum_birth_C_0 = []\n",
    "\n",
    "for i in range(len(diagC_0_pairs)):\n",
    "    temp_list = []\n",
    "    for j in range(len(diagC_0_pairs[i])):\n",
    "        temp_list.append(diagC_0_pairs[i][j][0])\n",
    "    minimum_birth_C_0.append(min(temp_list))\n",
    "min_b_C_0 = min(minimum_birth_B_0)\n",
    "\n",
    "maximum_death_C_0 = []\n",
    "\n",
    "for i in range(len(diagC_0_pairs)):\n",
    "    temp_list = []\n",
    "    temp_clean = []\n",
    "    for j in range(len(diagC_0_pairs[i])):\n",
    "        temp_list.append(diagC_0_pairs[i][j][1])\n",
    "        if np.isinf(temp_list[j]) == False:\n",
    "            temp_clean.append(temp_list[j])\n",
    "    maximum_death_C_0.append(max(temp_clean))\n",
    "max_d_C_0 = max(maximum_death_C_0)"
   ]
  },
  {
   "cell_type": "markdown",
   "metadata": {},
   "source": [
    "> ## with 1-persitent diagram"
   ]
  },
  {
   "cell_type": "code",
   "execution_count": 53,
   "metadata": {},
   "outputs": [],
   "source": [
    "diagA_1_pairs=[buildPair(diag) for diag in diagA_1] \n",
    "diagB_1_pairs=[buildPair(diag) for diag in diagB_1] \n",
    "diagC_1_pairs=[buildPair(diag) for diag in diagC_1]"
   ]
  },
  {
   "cell_type": "markdown",
   "metadata": {},
   "source": [
    "### Pedestrian A"
   ]
  },
  {
   "cell_type": "code",
   "execution_count": 54,
   "metadata": {},
   "outputs": [],
   "source": [
    "minimum_birth_A_1 = []\n",
    "\n",
    "for i in range(len(diagA_1_pairs)):\n",
    "    temp_list = []\n",
    "    for j in range(len(diagA_1_pairs[i])):\n",
    "        temp_list.append(diagA_1_pairs[i][j][0])\n",
    "    minimum_birth_A_1.append(min(temp_list))\n",
    "min_b_A_1 = min(minimum_birth_A_1)\n",
    "\n",
    "maximum_death_A_1 = []\n",
    "\n",
    "for i in range(len(diagA_1_pairs)):\n",
    "    temp_list = []\n",
    "    temp_clean = []\n",
    "    for j in range(len(diagA_1_pairs[i])):\n",
    "        temp_list.append(diagA_1_pairs[i][j][1])\n",
    "        if np.isinf(temp_list[j]) == False:\n",
    "            temp_clean.append(temp_list[j])\n",
    "    maximum_death_A_1.append(max(temp_clean))\n",
    "max_d_A_1 = max(maximum_death_A_1)"
   ]
  },
  {
   "cell_type": "markdown",
   "metadata": {},
   "source": [
    "### Pedestrian B"
   ]
  },
  {
   "cell_type": "code",
   "execution_count": 58,
   "metadata": {},
   "outputs": [],
   "source": [
    "minimum_birth_B_1 = []\n",
    "\n",
    "for i in range(len(diagB_1_pairs)):\n",
    "    temp_list = []\n",
    "    for j in range(len(diagB_1_pairs[i])):\n",
    "        temp_list.append(diagB_1_pairs[i][j][0])\n",
    "    minimum_birth_B_1.append(min(temp_list))\n",
    "min_b_B_1 = min(minimum_birth_B_1)\n",
    "\n",
    "maximum_death_B_1 = []\n",
    "\n",
    "for i in range(len(diagB_1_pairs)):\n",
    "    temp_list = []\n",
    "    temp_clean = []\n",
    "    for j in range(len(diagB_1_pairs[i])):\n",
    "        temp_list.append(diagB_1_pairs[i][j][1])\n",
    "        if np.isinf(temp_list[j]) == False:\n",
    "            temp_clean.append(temp_list[j])\n",
    "    maximum_death_B_1.append(max(temp_clean))\n",
    "max_d_B_1 = max(maximum_death_B_1)"
   ]
  },
  {
   "cell_type": "markdown",
   "metadata": {},
   "source": [
    "### Pedestrian C"
   ]
  },
  {
   "cell_type": "code",
   "execution_count": 62,
   "metadata": {},
   "outputs": [],
   "source": [
    "minimum_birth_C_1 = []\n",
    "\n",
    "for i in range(len(diagC_1_pairs)):\n",
    "    temp_list = []\n",
    "    for j in range(len(diagC_1_pairs[i])):\n",
    "        temp_list.append(diagC_1_pairs[i][j][0])\n",
    "    minimum_birth_C_1.append(min(temp_list))\n",
    "min_b_C_1 = min(minimum_birth_C_1)\n",
    "\n",
    "maximum_death_C_1 = []\n",
    "\n",
    "for i in range(len(diagC_1_pairs)):\n",
    "    temp_list = []\n",
    "    temp_clean = []\n",
    "    for j in range(len(diagC_1_pairs[i])):\n",
    "        temp_list.append(diagC_1_pairs[i][j][1])\n",
    "        if np.isinf(temp_list[j]) == False:\n",
    "            temp_clean.append(temp_list[j])\n",
    "    maximum_death_C_1.append(max(temp_clean))\n",
    "max_d_C_1 = max(maximum_death_C_1)"
   ]
  },
  {
   "cell_type": "markdown",
   "metadata": {},
   "source": [
    "> ## with alpha complex based diagram"
   ]
  },
  {
   "cell_type": "code",
   "execution_count": 114,
   "metadata": {},
   "outputs": [],
   "source": [
    "diagA_alpha_pairs=[buildPair(diag) for diag in diagA_alpha] \n",
    "diagB_alpha_pairs=[buildPair(diag) for diag in diagB_alpha] \n",
    "diagC_alpha_pairs=[buildPair(diag) for diag in diagC_alpha]"
   ]
  },
  {
   "cell_type": "markdown",
   "metadata": {},
   "source": [
    "## The function below compute the bootleneck distance between two persistent diagrams"
   ]
  },
  {
   "cell_type": "code",
   "execution_count": 66,
   "metadata": {},
   "outputs": [],
   "source": [
    "from sklearn import manifold"
   ]
  },
  {
   "cell_type": "code",
   "execution_count": 67,
   "metadata": {},
   "outputs": [],
   "source": [
    "def computeMatrixBottleneckDistance(diagList1):\n",
    "    matrix=np.zeros((len(diagList1),len(diagList1)))\n",
    "    for i in range(len(diagList1)):\n",
    "        for j in range(i,len(diagList1)):\n",
    "            dist=gudhi.bottleneck_distance(diagList1[i], diagList1[j], 0.001)\n",
    "            matrix[i,j]=dist\n",
    "            matrix[j,i]=dist\n",
    "    return matrix"
   ]
  },
  {
   "cell_type": "markdown",
   "metadata": {},
   "source": [
    "> with 0-persitent diagram"
   ]
  },
  {
   "cell_type": "code",
   "execution_count": 68,
   "metadata": {},
   "outputs": [],
   "source": [
    "matrix_bottleneck_distance_A_0=computeMatrixBottleneckDistance(diagA_0_pairs)\n",
    "matrix_bottleneck_distance_B_0=computeMatrixBottleneckDistance(diagB_0_pairs)\n",
    "matrix_bottleneck_distance_C_0=computeMatrixBottleneckDistance(diagC_0_pairs)"
   ]
  },
  {
   "cell_type": "markdown",
   "metadata": {},
   "source": [
    "> with 1-persitent diagram"
   ]
  },
  {
   "cell_type": "code",
   "execution_count": 69,
   "metadata": {},
   "outputs": [],
   "source": [
    "matrix_bottleneck_distance_A_1=computeMatrixBottleneckDistance(diagA_1_pairs)\n",
    "matrix_bottleneck_distance_B_1=computeMatrixBottleneckDistance(diagB_1_pairs)\n",
    "matrix_bottleneck_distance_C_1=computeMatrixBottleneckDistance(diagC_1_pairs)\n"
   ]
  },
  {
   "cell_type": "markdown",
   "metadata": {},
   "source": [
    "> with alpha complex based diagram"
   ]
  },
  {
   "cell_type": "code",
   "execution_count": 115,
   "metadata": {},
   "outputs": [],
   "source": [
    "matrix_bottleneck_distance_A_alpha=computeMatrixBottleneckDistance(diagA_alpha_pairs)\n",
    "matrix_bottleneck_distance_B_alpha=computeMatrixBottleneckDistance(diagB_alpha_pairs)\n",
    "matrix_bottleneck_distance_C_alpha=computeMatrixBottleneckDistance(diagC_alpha_pairs)"
   ]
  },
  {
   "cell_type": "markdown",
   "metadata": {},
   "source": [
    "> ## With 0-persistent homology"
   ]
  },
  {
   "cell_type": "markdown",
   "metadata": {},
   "source": [
    "### (2D) Pedestrian A,B and C"
   ]
  },
  {
   "cell_type": "code",
   "execution_count": 70,
   "metadata": {},
   "outputs": [
    {
     "data": {
      "image/png": "[encoded data removed]",
      "text/plain": [
       "<matplotlib.figure.Figure at 0x15937ae48>"
      ]
     },
     "metadata": {},
     "output_type": "display_data"
    }
   ],
   "source": [
    "mds2 = manifold.MDS(n_components=2, max_iter=3000, eps=1e-9,\n",
    "                   dissimilarity=\"precomputed\", n_jobs=1)\n",
    "posA = mds2.fit(matrix_bottleneck_distance_A_0).embedding_\n",
    "posB = mds2.fit(matrix_bottleneck_distance_B_0).embedding_\n",
    "posC = mds2.fit(matrix_bottleneck_distance_C_0).embedding_\n",
    "\n",
    "plt.subplots_adjust(bottom = 0.1)\n",
    "plt.scatter(\n",
    "    posA[:, 0], posA[:, 1], marker = 'o'\n",
    "    )\n",
    "plt.scatter(\n",
    "    posB[:, 0], posB[:, 1], marker = 'x'\n",
    "    )\n",
    "plt.scatter(\n",
    "    posC[:, 0], posC[:, 1], marker = '<'\n",
    "    )\n",
    "plt.show()"
   ]
  },
  {
   "cell_type": "markdown",
   "metadata": {},
   "source": [
    "### (3D) Pedestrian A,B and C"
   ]
  },
  {
   "cell_type": "code",
   "execution_count": 71,
   "metadata": {},
   "outputs": [
    {
     "data": {
      "text/plain": [
       "<matplotlib.figure.Figure at 0x14eb40b00>"
      ]
     },
     "metadata": {},
     "output_type": "display_data"
    },
    {
     "data": {
      "image/png": "[encoded data removed]",
      "text/plain": [
       "<matplotlib.figure.Figure at 0x1599d4e80>"
      ]
     },
     "metadata": {},
     "output_type": "display_data"
    }
   ],
   "source": [
    "from mpl_toolkits.mplot3d import Axes3D\n",
    "\n",
    "mds2 = manifold.MDS(n_components=3, max_iter=3000, eps=1e-9,\n",
    "                   dissimilarity=\"precomputed\", n_jobs=1)\n",
    "posA = mds2.fit(matrix_bottleneck_distance_A_0).embedding_\n",
    "posB = mds2.fit(matrix_bottleneck_distance_B_0).embedding_\n",
    "posC = mds2.fit(matrix_bottleneck_distance_C_0).embedding_\n",
    "\n",
    "plt.subplots_adjust(bottom = 0.1)\n",
    "fig = plt.figure()\n",
    "ax = fig.add_subplot(111, projection='3d')\n",
    "\n",
    "ax.scatter(\n",
    "    posA[:, 0], posA[:, 1], marker = 'o'\n",
    "    )\n",
    "ax.scatter(\n",
    "    posB[:, 0], posB[:, 1], marker = 'x'\n",
    "    )\n",
    "ax.scatter(\n",
    "    posC[:, 0], posC[:, 1], marker = '<'\n",
    "    )\n",
    "plt.show()"
   ]
  },
  {
   "cell_type": "markdown",
   "metadata": {},
   "source": [
    "> ## With 1-persistent homology"
   ]
  },
  {
   "cell_type": "markdown",
   "metadata": {},
   "source": [
    "### (2D) Pedestrian A,B and C"
   ]
  },
  {
   "cell_type": "code",
   "execution_count": 72,
   "metadata": {
    "scrolled": true
   },
   "outputs": [
    {
     "data": {
      "image/png": "[encoded data removed]",
      "text/plain": [
       "<matplotlib.figure.Figure at 0x10af50d68>"
      ]
     },
     "metadata": {},
     "output_type": "display_data"
    }
   ],
   "source": [
    "mds2 = manifold.MDS(n_components=2, max_iter=3000, eps=1e-9,\n",
    "                   dissimilarity=\"precomputed\", n_jobs=1)\n",
    "posA = mds2.fit(matrix_bottleneck_distance_A_1).embedding_\n",
    "posB = mds2.fit(matrix_bottleneck_distance_B_1).embedding_\n",
    "posC = mds2.fit(matrix_bottleneck_distance_C_1).embedding_\n",
    "\n",
    "plt.subplots_adjust(bottom = 0.1)\n",
    "plt.scatter(\n",
    "    posA[:, 0], posA[:, 1], marker = 'o'\n",
    "    )\n",
    "plt.scatter(\n",
    "    posB[:, 0], posB[:, 1], marker = 'x'\n",
    "    )\n",
    "plt.scatter(\n",
    "    posC[:, 0], posC[:, 1], marker = '<'\n",
    "    )\n",
    "plt.show()"
   ]
  },
  {
   "cell_type": "markdown",
   "metadata": {},
   "source": [
    "### (3D) Pedestrian A,B and C"
   ]
  },
  {
   "cell_type": "code",
   "execution_count": 73,
   "metadata": {},
   "outputs": [
    {
     "data": {
      "text/plain": [
       "<matplotlib.figure.Figure at 0x1599d4e10>"
      ]
     },
     "metadata": {},
     "output_type": "display_data"
    },
    {
     "data": {
      "image/png": "[encoded data removed]",
      "text/plain": [
       "<matplotlib.figure.Figure at 0x1500e2e10>"
      ]
     },
     "metadata": {},
     "output_type": "display_data"
    }
   ],
   "source": [
    "from mpl_toolkits.mplot3d import Axes3D\n",
    "\n",
    "mds2 = manifold.MDS(n_components=3, max_iter=3000, eps=1e-9,\n",
    "                   dissimilarity=\"precomputed\", n_jobs=1)\n",
    "posA = mds2.fit(matrix_bottleneck_distance_A_1).embedding_\n",
    "posB = mds2.fit(matrix_bottleneck_distance_B_1).embedding_\n",
    "posC = mds2.fit(matrix_bottleneck_distance_C_1).embedding_\n",
    "\n",
    "plt.subplots_adjust(bottom = 0.1)\n",
    "\n",
    "fig = plt.figure()\n",
    "ax = fig.add_subplot(111, projection='3d')\n",
    "ax.scatter(\n",
    "    posA[:, 0], posA[:, 1], posA[:, 2], marker = 'o'\n",
    "    )\n",
    "ax.scatter(\n",
    "    posB[:, 0], posB[:, 1], posB[:, 2], marker = 'x'\n",
    "    )\n",
    "ax.scatter(\n",
    "    posC[:, 0], posC[:, 1], posC[:, 2], marker = '<'\n",
    "    )\n",
    "plt.show()"
   ]
  },
  {
   "cell_type": "markdown",
   "metadata": {},
   "source": [
    "> ## With alpha complex"
   ]
  },
  {
   "cell_type": "markdown",
   "metadata": {},
   "source": [
    "### (2D) Pedestrian A,B and C"
   ]
  },
  {
   "cell_type": "code",
   "execution_count": 116,
   "metadata": {},
   "outputs": [
    {
     "data": {
      "image/png": "[encoded data removed]",
      "text/plain": [
       "<matplotlib.figure.Figure at 0x107be97b8>"
      ]
     },
     "metadata": {},
     "output_type": "display_data"
    }
   ],
   "source": [
    "mds2 = manifold.MDS(n_components=2, max_iter=3000, eps=1e-9,\n",
    "                   dissimilarity=\"precomputed\", n_jobs=1)\n",
    "posA = mds2.fit(matrix_bottleneck_distance_A_alpha).embedding_\n",
    "posB = mds2.fit(matrix_bottleneck_distance_B_alpha).embedding_\n",
    "posC = mds2.fit(matrix_bottleneck_distance_C_alpha).embedding_\n",
    "\n",
    "plt.subplots_adjust(bottom = 0.1)\n",
    "plt.scatter(\n",
    "    posA[:, 0], posA[:, 1], marker = 'o'\n",
    "    )\n",
    "plt.scatter(\n",
    "    posB[:, 0], posB[:, 1], marker = 'x'\n",
    "    )\n",
    "plt.scatter(\n",
    "    posC[:, 0], posC[:, 1], marker = '<'\n",
    "    )\n",
    "plt.show()"
   ]
  },
  {
   "cell_type": "markdown",
   "metadata": {},
   "source": [
    "### (3D) Pedestrian A,B and C"
   ]
  },
  {
   "cell_type": "code",
   "execution_count": 117,
   "metadata": {},
   "outputs": [
    {
     "data": {
      "text/plain": [
       "<matplotlib.figure.Figure at 0x1217ebba8>"
      ]
     },
     "metadata": {},
     "output_type": "display_data"
    },
    {
     "data": {
      "image/png": "[encoded data removed]",
      "text/plain": [
       "<matplotlib.figure.Figure at 0x1167f4748>"
      ]
     },
     "metadata": {},
     "output_type": "display_data"
    }
   ],
   "source": [
    "from mpl_toolkits.mplot3d import Axes3D\n",
    "\n",
    "mds2 = manifold.MDS(n_components=3, max_iter=3000, eps=1e-9,\n",
    "                   dissimilarity=\"precomputed\", n_jobs=1)\n",
    "posA = mds2.fit(matrix_bottleneck_distance_A_alpha).embedding_\n",
    "posB = mds2.fit(matrix_bottleneck_distance_B_alpha).embedding_\n",
    "posC = mds2.fit(matrix_bottleneck_distance_C_alpha).embedding_\n",
    "\n",
    "plt.subplots_adjust(bottom = 0.1)\n",
    "\n",
    "fig = plt.figure()\n",
    "ax = fig.add_subplot(111, projection='3d')\n",
    "ax.scatter(\n",
    "    posA[:, 0], posA[:, 1], posA[:, 2], marker = 'o'\n",
    "    )\n",
    "ax.scatter(\n",
    "    posB[:, 0], posB[:, 1], posB[:, 2], marker = 'x'\n",
    "    )\n",
    "ax.scatter(\n",
    "    posC[:, 0], posC[:, 1], posC[:, 2], marker = '<'\n",
    "    )\n",
    "plt.show()"
   ]
  },
  {
   "cell_type": "markdown",
   "metadata": {},
   "source": [
    "> ## Question 4: Computing persistence landscape\n",
    "This function should take as input a persistence\n",
    "diagram dgm (in the Gudhi format), a dimension k, the endpoints xmin, xmax of an interval, the\n",
    "number nb_nodes of nodes of a regular grid on the interval [xmin, xmax] and a number of landscapes\n",
    "nb_ld, and output a nbld × nbnodes array storing the values of the first nb_ld landscapes of dgm on the\n",
    "node of the grid. Check, on some simple examples that your code is correct."
   ]
  },
  {
   "cell_type": "code",
   "execution_count": 74,
   "metadata": {},
   "outputs": [],
   "source": [
    "def computeLandscapes(dgm,x_min,x_max,nb_nodes,nb_lbd):\n",
    "    ''' This function compute the approximate landscape of a persistent diagram. \n",
    "    Given a range [xmin,xmax] and a grid size '''\n",
    "    \n",
    "    output = np.zeros((nb_lbd,nb_nodes))\n",
    "    step = (x_max - x_min) / nb_nodes\n",
    "    for i in range(nb_nodes):\n",
    "        x = x_min + i * step\n",
    "        event_list = []\n",
    "        for tup in dgm:\n",
    "            b = tup[0]\n",
    "            d = tup[1]\n",
    "            if (b <= x) and (x<= d):\n",
    "                if x >= (d+b)/2. :\n",
    "                    event_list.append((d-x))\n",
    "                else:\n",
    "                    event_list.append((x-b))\n",
    "        event_list.sort(reverse=True)\n",
    "        event_list = np.asarray(event_list)\n",
    "        for j in range(nb_lbd):\n",
    "            if(j<len(event_list)):\n",
    "                output[j,i]=event_list[j]\n",
    "    return output"
   ]
  },
  {
   "cell_type": "markdown",
   "metadata": {},
   "source": [
    "> Example"
   ]
  },
  {
   "cell_type": "code",
   "execution_count": 75,
   "metadata": {},
   "outputs": [
    {
     "data": {
      "text/plain": [
       "array([[ 0.    ,  0.0375,  0.075 , ..., 14.8875, 14.925 , 14.9625],\n",
       "       [ 0.    ,  0.0375,  0.075 , ...,  0.    ,  0.    ,  0.    ],\n",
       "       [ 0.    ,  0.0375,  0.075 , ...,  0.    ,  0.    ,  0.    ],\n",
       "       [ 0.    ,  0.0375,  0.075 , ...,  0.    ,  0.    ,  0.    ],\n",
       "       [ 0.    ,  0.0375,  0.075 , ...,  0.    ,  0.    ,  0.    ]])"
      ]
     },
     "execution_count": 75,
     "metadata": {},
     "output_type": "execute_result"
    }
   ],
   "source": [
    "diagA_1_pair_test= [diagA_1[0][a][1] for a in range(len(diagA_1[0]))] \n",
    "computeLandscapes(diagA_1_pair_test,0,15,400,5)"
   ]
  },
  {
   "cell_type": "markdown",
   "metadata": {},
   "source": [
    "> ## Question 5:  For each 0-dimensional and 1-dimensional persistence diagrams, compute the first 5 landscapes on a\n",
    "relevant interval with a few hundred of nodes. Splitting randomly the data set into a 80/20 learning/test\n",
    "data, use a random forest to explore the performances of the 0-dimensional or 1-dimensional landscapes\n",
    "to classify pedestrians. An example of code to realize such an experiment can be downloaded at http:\n",
    "//geometrica.saclay.inria.fr/team/Fred.Chazal/Centrale2017.html. Compare the results you\n",
    "obtain using 0-dimensional landscapes, 1-dimensional landscapes or both.\n",
    "\n"
   ]
  },
  {
   "cell_type": "markdown",
   "metadata": {},
   "source": [
    "### Set parameter for the landscape approximation computation"
   ]
  },
  {
   "cell_type": "code",
   "execution_count": 103,
   "metadata": {},
   "outputs": [],
   "source": [
    "epsilon=0.2\n",
    "x_min=min(min(min_b_A_0,min_b_B_0,min_b_C_0),min(min_b_A_1,min_b_B_1,min_b_C_1))-epsilon\n",
    "x_max=max(max(max_d_A_0,max_d_B_0,max_d_C_0),max(max_d_A_1,max_d_B_1,max_d_C_1))+epsilon\n",
    "nb_nodes=300\n",
    "nb_lbd=8"
   ]
  },
  {
   "cell_type": "markdown",
   "metadata": {},
   "source": [
    "> with 0-persitent diagram"
   ]
  },
  {
   "cell_type": "code",
   "execution_count": 104,
   "metadata": {},
   "outputs": [],
   "source": [
    "diagA_0_landscapes=[computeLandscapes(pair,x_min,x_max,nb_nodes,nb_lbd) for pair in diagA_0_pairs]\n",
    "diagB_0_landscapes=[computeLandscapes(pair,x_min,x_max,nb_nodes,nb_lbd) for pair in diagB_0_pairs]\n",
    "diagC_0_landscapes=[computeLandscapes(pair,x_min,x_max,nb_nodes,nb_lbd) for pair in diagC_0_pairs]"
   ]
  },
  {
   "cell_type": "markdown",
   "metadata": {},
   "source": [
    "> with 1-persitent diagram"
   ]
  },
  {
   "cell_type": "code",
   "execution_count": 105,
   "metadata": {},
   "outputs": [],
   "source": [
    "diagA_1_landscapes=[computeLandscapes(pair,x_min,x_max,nb_nodes,nb_lbd) for pair in diagA_1_pairs]\n",
    "diagB_1_landscapes=[computeLandscapes(pair,x_min,x_max,nb_nodes,nb_lbd) for pair in diagB_1_pairs]\n",
    "diagC_1_landscapes=[computeLandscapes(pair,x_min,x_max,nb_nodes,nb_lbd) for pair in diagC_1_pairs]"
   ]
  },
  {
   "cell_type": "markdown",
   "metadata": {},
   "source": [
    "> with alpha complex diagram"
   ]
  },
  {
   "cell_type": "code",
   "execution_count": 118,
   "metadata": {},
   "outputs": [],
   "source": [
    "diagA_alpha_landscapes=[computeLandscapes(pair,x_min,x_max,nb_nodes,nb_lbd) for pair in diagA_alpha_pairs]\n",
    "diagB_alpha_landscapes=[computeLandscapes(pair,x_min,x_max,nb_nodes,nb_lbd) for pair in diagB_alpha_pairs]\n",
    "diagC_alpha_landscapes=[computeLandscapes(pair,x_min,x_max,nb_nodes,nb_lbd) for pair in diagC_alpha_pairs]"
   ]
  },
  {
   "cell_type": "markdown",
   "metadata": {},
   "source": [
    "## Random Forest"
   ]
  },
  {
   "cell_type": "markdown",
   "metadata": {},
   "source": [
    "> ## with 0-persistent "
   ]
  },
  {
   "cell_type": "code",
   "execution_count": 106,
   "metadata": {},
   "outputs": [],
   "source": [
    "l0A=[el.flatten() for el in diagA_0_landscapes]\n",
    "l0B=[el.flatten() for el in diagB_0_landscapes]\n",
    "l0C=[el.flatten() for el in diagC_0_landscapes]\n",
    "L0_list=l0A+l0B+l0C\n"
   ]
  },
  {
   "cell_type": "code",
   "execution_count": 107,
   "metadata": {},
   "outputs": [
    {
     "name": "stdout",
     "output_type": "stream",
     "text": [
      "0.9333333333333333\n",
      "0.8833333333333333\n",
      "0.9666666666666667\n",
      "0.9333333333333333\n",
      "0.95\n",
      "0.9\n",
      "0.95\n",
      "0.9166666666666666\n",
      "0.95\n",
      "0.95\n",
      "0.9166666666666666\n",
      "1.0\n",
      "0.9333333333333333\n",
      "0.9166666666666666\n",
      "0.9833333333333333\n",
      "0.9333333333333333\n",
      "0.9833333333333333\n",
      "0.9833333333333333\n",
      "0.8666666666666667\n",
      "0.9166666666666666\n",
      "avg pred:  0.9383333333333332\n"
     ]
    },
    {
     "data": {
      "text/plain": [
       "[<matplotlib.lines.Line2D at 0x11908f978>]"
      ]
     },
     "execution_count": 107,
     "metadata": {},
     "output_type": "execute_result"
    },
    {
     "data": {
      "image/png": "[encoded data removed]",
      "text/plain": [
       "<matplotlib.figure.Figure at 0x115d27978>"
      ]
     },
     "metadata": {},
     "output_type": "display_data"
    }
   ],
   "source": [
    "# -*- coding: utf-8 -*-\n",
    "\"\"\"\n",
    "Created on Sun Dec 17 18:33:31 2017\n",
    "\n",
    "@author: Fredreci Chazal - All rights reserved\n",
    "\"\"\"\n",
    "from sklearn.ensemble import RandomForestClassifier\n",
    "from sklearn.model_selection import train_test_split\n",
    "from sklearn.metrics import confusion_matrix\n",
    "\n",
    "#### Classification with random forests \n",
    "#### Interesting compare with L0_list, L1_list and L_list\n",
    "#### where L0_list, L1_list and L_list are list storing the $0$-dimensional \n",
    "#### landscapes, $1$-dimensional landscapes, and the concatenation of both \n",
    "#### respectively\n",
    "avg = 0\n",
    "for i in range(20):\n",
    "    L_train, L_test, label_train, label_test = train_test_split(L0_list, label, test_size=0.2)\n",
    "    RF = RandomForestClassifier()\n",
    "    RF.fit(L_train, label_train)\n",
    "    print(np.mean(RF.predict(L_test) == label_test) )\n",
    "    avg += np.mean(RF.predict(L_test) == label_test)\n",
    "    #print(confusion_matrix(RF.predict(L_test), label_test))\n",
    "print (\"avg pred: \",avg/20)\n",
    "\n",
    "plt.plot(RF.feature_importances_)"
   ]
  },
  {
   "cell_type": "markdown",
   "metadata": {},
   "source": [
    "> ## with 1-persistent "
   ]
  },
  {
   "cell_type": "code",
   "execution_count": 108,
   "metadata": {},
   "outputs": [],
   "source": [
    "l1A=[el.flatten() for el in diagA_1_landscapes]\n",
    "l1B=[el.flatten() for el in diagB_1_landscapes]\n",
    "l1C=[el.flatten() for el in diagC_1_landscapes]\n",
    "L1_list=l1A+l1B+l1C"
   ]
  },
  {
   "cell_type": "code",
   "execution_count": 109,
   "metadata": {},
   "outputs": [
    {
     "name": "stdout",
     "output_type": "stream",
     "text": [
      "0.9666666666666667\n",
      "0.95\n",
      "0.9166666666666666\n",
      "0.9833333333333333\n",
      "0.9333333333333333\n",
      "0.9333333333333333\n",
      "0.8666666666666667\n",
      "0.9333333333333333\n",
      "0.9333333333333333\n",
      "0.9166666666666666\n",
      "0.9666666666666667\n",
      "0.9666666666666667\n",
      "0.9666666666666667\n",
      "0.9166666666666666\n",
      "1.0\n",
      "0.95\n",
      "0.9666666666666667\n",
      "0.9\n",
      "0.95\n",
      "0.9\n",
      "avg pred:  0.9408333333333332\n"
     ]
    },
    {
     "data": {
      "text/plain": [
       "[<matplotlib.lines.Line2D at 0x11ceb3160>]"
      ]
     },
     "execution_count": 109,
     "metadata": {},
     "output_type": "execute_result"
    },
    {
     "data": {
      "image/png": "[encoded data removed]",
      "text/plain": [
       "<matplotlib.figure.Figure at 0x1197cba90>"
      ]
     },
     "metadata": {},
     "output_type": "display_data"
    }
   ],
   "source": [
    "# -*- coding: utf-8 -*-\n",
    "\"\"\"\n",
    "Created on Sun Dec 17 18:33:31 2017\n",
    "\n",
    "@author: Fredreci Chazal - All rights reserved\n",
    "\"\"\"\n",
    "from sklearn.ensemble import RandomForestClassifier\n",
    "from sklearn.model_selection import train_test_split\n",
    "from sklearn.metrics import confusion_matrix\n",
    "\n",
    "#### Classification with random forests \n",
    "#### Interesting compare with L0_list, L1_list and L_list\n",
    "#### where L0_list, L1_list and L_list are list storing the $0$-dimensional \n",
    "#### landscapes, $1$-dimensional landscapes, and the concatenation of both \n",
    "#### respectively\n",
    "avg = 0\n",
    "for i in range(20):\n",
    "    L_train, L_test, label_train, label_test = train_test_split(L1_list, label, test_size=0.2)\n",
    "    RF = RandomForestClassifier()\n",
    "    RF.fit(L_train, label_train)\n",
    "    print(np.mean(RF.predict(L_test) == label_test) )\n",
    "    avg += np.mean(RF.predict(L_test) == label_test)\n",
    "    #print(confusion_matrix(RF.predict(L_test), label_test))\n",
    "print (\"avg pred: \",avg/20)\n",
    "\n",
    "plt.plot(RF.feature_importances_)"
   ]
  },
  {
   "cell_type": "markdown",
   "metadata": {},
   "source": [
    "> ## With 0-persitent and 1-persitent concatenated"
   ]
  },
  {
   "cell_type": "code",
   "execution_count": 110,
   "metadata": {},
   "outputs": [],
   "source": [
    "lA=[np.array(list(el.flatten()) +list(el2.flatten())) for el,el2 in zip(diagA_0_landscapes,diagA_1_landscapes)]\n",
    "lB=[np.array(list(el.flatten()) +list(el2.flatten())) for el,el2 in zip(diagB_0_landscapes,diagB_1_landscapes)]\n",
    "lC=[np.array(list(el.flatten()) +list(el2.flatten())) for el,el2 in zip(diagC_0_landscapes,diagC_1_landscapes)]\n",
    "L_list=lA+lB+lC"
   ]
  },
  {
   "cell_type": "code",
   "execution_count": 111,
   "metadata": {},
   "outputs": [
    {
     "name": "stdout",
     "output_type": "stream",
     "text": [
      "0.9833333333333333\n",
      "0.9666666666666667\n",
      "0.9\n",
      "0.9166666666666666\n",
      "0.8833333333333333\n",
      "0.9333333333333333\n",
      "0.9333333333333333\n",
      "0.9833333333333333\n",
      "0.9666666666666667\n",
      "0.9666666666666667\n",
      "0.9666666666666667\n",
      "0.9166666666666666\n",
      "0.9666666666666667\n",
      "0.9333333333333333\n",
      "0.9\n",
      "0.9666666666666667\n",
      "1.0\n",
      "0.9666666666666667\n",
      "1.0\n",
      "0.95\n",
      "avg pred:  0.95\n"
     ]
    },
    {
     "data": {
      "text/plain": [
       "[<matplotlib.lines.Line2D at 0x11b142d68>]"
      ]
     },
     "execution_count": 111,
     "metadata": {},
     "output_type": "execute_result"
    },
    {
     "data": {
      "image/png": "[encoded data removed]",
      "text/plain": [
       "<matplotlib.figure.Figure at 0x1197dd6d8>"
      ]
     },
     "metadata": {},
     "output_type": "display_data"
    }
   ],
   "source": [
    "# -*- coding: utf-8 -*-\n",
    "\"\"\"\n",
    "Created on Sun Dec 17 18:33:31 2017\n",
    "\n",
    "@author: Fredreci Chazal - All rights reserved\n",
    "\"\"\"\n",
    "from sklearn.ensemble import RandomForestClassifier\n",
    "from sklearn.model_selection import train_test_split\n",
    "from sklearn.metrics import confusion_matrix\n",
    "\n",
    "#### Classification with random forests \n",
    "#### Interesting compare with L0_list, L1_list and L_list\n",
    "#### where L0_list, L1_list and L_list are list storing the $0$-dimensional \n",
    "#### landscapes, $1$-dimensional landscapes, and the concatenation of both \n",
    "#### respectively\n",
    "avg = 0\n",
    "for i in range(20):\n",
    "    L_train, L_test, label_train, label_test = train_test_split(L_list, label, test_size=0.2)\n",
    "    RF = RandomForestClassifier()\n",
    "    RF.fit(L_train, label_train)\n",
    "    print(np.mean(RF.predict(L_test) == label_test) )\n",
    "    avg += np.mean(RF.predict(L_test) == label_test)\n",
    "    #print(confusion_matrix(RF.predict(L_test), label_test))\n",
    "print (\"avg pred: \",avg/20)\n",
    "\n",
    "plt.plot(RF.feature_importances_)"
   ]
  },
  {
   "cell_type": "markdown",
   "metadata": {},
   "source": [
    "> ## With Grid Search"
   ]
  },
  {
   "cell_type": "code",
   "execution_count": 96,
   "metadata": {},
   "outputs": [],
   "source": [
    "# Define a scoring fonction to evaluate modelling\n",
    "from sklearn.cross_validation import cross_val_score\n",
    "\n",
    "def compute_score(clf, X, y, scoring='accuracy'):\n",
    "    xval = cross_val_score(clf, X, y, cv = 5, scoring=scoring)\n",
    "    return np.mean(xval)"
   ]
  },
  {
   "cell_type": "code",
   "execution_count": 97,
   "metadata": {},
   "outputs": [
    {
     "data": {
      "text/plain": [
       "0.9433333333333334"
      ]
     },
     "execution_count": 97,
     "metadata": {},
     "output_type": "execute_result"
    }
   ],
   "source": [
    "### Use GridSearchCV to tune parameters for Random Forest\n",
    "# turn run_gs to True if you want to run the gridsearch again.\n",
    "from sklearn.ensemble import RandomForestClassifier\n",
    "from sklearn.cross_validation import StratifiedKFold\n",
    "from sklearn.grid_search import GridSearchCV\n",
    "train=L1_list\n",
    "targets=label\n",
    "\n",
    "run_gs = False\n",
    "\n",
    "if run_gs:\n",
    "    parameter_grid = {\n",
    "                 'max_depth' : [4, 6, 8, None],\n",
    "                 'n_estimators': [10, 20, 50, 100],\n",
    "                 'max_features': ['sqrt', 'auto', 'log2'],\n",
    "                 'min_samples_split': [1, 3, 10,30, 50],\n",
    "                 'min_samples_leaf': [1, 3, 10, 30, 50],\n",
    "                 'bootstrap': [True, False],\n",
    "                 'criterion': ['gini', 'entropy']\n",
    "                 }\n",
    "    rf = RandomForestClassifier()\n",
    "    cross_validation = StratifiedKFold(targets, n_folds=5)\n",
    "\n",
    "    grid_search = GridSearchCV(rf,\n",
    "                               scoring='accuracy',\n",
    "                               param_grid=parameter_grid,\n",
    "                               cv=cross_validation)\n",
    "    # Input the label of the training set and the related targets\n",
    "    grid_search.fit(train, targets)\n",
    "    rf_best = grid_search\n",
    "    parameters = grid_search.best_params_\n",
    "\n",
    "    print('Best score: {}'.format(grid_search.best_score_))\n",
    "    print('Best parameters: {}'.format(grid_search.best_params_))\n",
    "else: \n",
    "    parameters = {'bootstrap': False, 'min_samples_leaf': 3, 'n_estimators': 50, \n",
    "                  'min_samples_split': 10, 'max_features': 'sqrt', 'max_depth': 6}\n",
    "    # **parameters enables to retrieve the optimal parameters derived from GridSearchCV\n",
    "    rf_best = RandomForestClassifier(**parameters)\n",
    "    \n",
    "    # Again, input the correct names for the training set and its related target variables\n",
    "    rf_best.fit(train, targets)\n",
    "    \n",
    "compute_score(rf_best, train, targets, scoring='accuracy')"
   ]
  },
  {
   "cell_type": "markdown",
   "metadata": {},
   "source": [
    "## With alpha complex"
   ]
  },
  {
   "cell_type": "code",
   "execution_count": 119,
   "metadata": {},
   "outputs": [],
   "source": [
    "lalphaA=[el.flatten() for el in diagA_alpha_landscapes]\n",
    "lalphaB=[el.flatten() for el in diagB_alpha_landscapes]\n",
    "lalphaC=[el.flatten() for el in diagC_alpha_landscapes]\n",
    "Lalpha_list=lalphaA+lalphaB+lalphaC"
   ]
  },
  {
   "cell_type": "code",
   "execution_count": 120,
   "metadata": {},
   "outputs": [
    {
     "name": "stdout",
     "output_type": "stream",
     "text": [
      "0.9166666666666666\n",
      "0.9\n",
      "0.9333333333333333\n",
      "0.9833333333333333\n",
      "0.9333333333333333\n",
      "0.9166666666666666\n",
      "0.9333333333333333\n",
      "0.9333333333333333\n",
      "0.95\n",
      "0.9666666666666667\n",
      "0.95\n",
      "0.9666666666666667\n",
      "0.95\n",
      "1.0\n",
      "0.9833333333333333\n",
      "1.0\n",
      "0.95\n",
      "0.9833333333333333\n",
      "0.9333333333333333\n",
      "0.9666666666666667\n",
      "avg pred:  0.9524999999999999\n"
     ]
    },
    {
     "data": {
      "text/plain": [
       "[<matplotlib.lines.Line2D at 0x1275d12e8>]"
      ]
     },
     "execution_count": 120,
     "metadata": {},
     "output_type": "execute_result"
    },
    {
     "data": {
      "image/png": "[encoded data removed]",
      "text/plain": [
       "<matplotlib.figure.Figure at 0x126e425f8>"
      ]
     },
     "metadata": {},
     "output_type": "display_data"
    }
   ],
   "source": [
    "# -*- coding: utf-8 -*-\n",
    "\"\"\"\n",
    "Created on Sun Dec 17 18:33:31 2017\n",
    "\n",
    "@author: Fredreci Chazal - All rights reserved\n",
    "\"\"\"\n",
    "from sklearn.ensemble import RandomForestClassifier\n",
    "from sklearn.model_selection import train_test_split\n",
    "from sklearn.metrics import confusion_matrix\n",
    "\n",
    "#### Classification with random forests \n",
    "#### Interesting compare with L0_list, L1_list and L_list\n",
    "#### where L0_list, L1_list and L_list are list storing the $0$-dimensional \n",
    "#### landscapes, $1$-dimensional landscapes, and the concatenation of both \n",
    "#### respectively\n",
    "avg = 0\n",
    "for i in range(20):\n",
    "    L_train, L_test, label_train, label_test = train_test_split(Lalpha_list, label, test_size=0.2)\n",
    "    RF = RandomForestClassifier()\n",
    "    RF.fit(L_train, label_train)\n",
    "    print(np.mean(RF.predict(L_test) == label_test) )\n",
    "    avg += np.mean(RF.predict(L_test) == label_test)\n",
    "    #print(confusion_matrix(RF.predict(L_test), label_test))\n",
    "print (\"avg pred: \",avg/20)\n",
    "\n",
    "plt.plot(RF.feature_importances_)"
   ]
  },
  {
   "cell_type": "markdown",
   "metadata": {},
   "source": [
    "> ## Question 6: Do the same experiment as previously, but using the raw data ( 3 × 200 array of acceleration coordinates).\n"
   ]
  },
  {
   "cell_type": "code",
   "execution_count": 100,
   "metadata": {},
   "outputs": [],
   "source": [
    "l1A=[el.T.flatten() for el in data_A]\n",
    "l1B=[el.T.flatten() for el in data_B]\n",
    "l1C=[el.T.flatten() for el in data_C]\n",
    "L1_list_row=l1A+l1B+l1C"
   ]
  },
  {
   "cell_type": "code",
   "execution_count": 102,
   "metadata": {},
   "outputs": [
    {
     "name": "stdout",
     "output_type": "stream",
     "text": [
      "0.8833333333333333\n",
      "0.9\n",
      "0.8833333333333333\n",
      "0.9333333333333333\n",
      "0.95\n",
      "0.9\n",
      "0.9333333333333333\n",
      "0.8833333333333333\n",
      "0.8833333333333333\n",
      "0.85\n",
      "0.8833333333333333\n",
      "0.9166666666666666\n",
      "0.8333333333333334\n",
      "0.9\n",
      "0.9333333333333333\n",
      "0.8666666666666667\n",
      "0.95\n",
      "0.9\n",
      "0.9166666666666666\n",
      "0.8666666666666667\n",
      "avg pred:  0.8983333333333334\n"
     ]
    },
    {
     "data": {
      "text/plain": [
       "[<matplotlib.lines.Line2D at 0x1155c16d8>]"
      ]
     },
     "execution_count": 102,
     "metadata": {},
     "output_type": "execute_result"
    },
    {
     "data": {
      "image/png": "[encoded data removed]",
      "text/plain": [
       "<matplotlib.figure.Figure at 0x14eb2c4e0>"
      ]
     },
     "metadata": {},
     "output_type": "display_data"
    }
   ],
   "source": [
    "# -*- coding: utf-8 -*-\n",
    "\"\"\"\n",
    "Created on Sun Dec 17 18:33:31 2017\n",
    "\n",
    "@author: Fredreci Chazal - All rights reserved\n",
    "\"\"\"\n",
    "from sklearn.ensemble import RandomForestClassifier\n",
    "from sklearn.model_selection import train_test_split\n",
    "from sklearn.metrics import confusion_matrix\n",
    "\n",
    "#### Classification with random forests \n",
    "#### Interesting compare with L0_list, L1_list and L_list\n",
    "#### where L0_list, L1_list and L_list are list storing the $0$-dimensional \n",
    "#### landscapes, $1$-dimensional landscapes, and the concatenation of both \n",
    "#### respectively\n",
    "avg = 0\n",
    "for i in range(20):\n",
    "    L_train, L_test, label_train, label_test = train_test_split(L1_list_row, label, test_size=0.2)\n",
    "    RF = RandomForestClassifier()\n",
    "    RF.fit(L_train, label_train)\n",
    "    print(np.mean(RF.predict(L_test) == label_test) )\n",
    "    avg += np.mean(RF.predict(L_test) == label_test)\n",
    "    #print(confusion_matrix(RF.predict(L_test), label_test))\n",
    "print (\"avg pred: \",avg/20)\n",
    "\n",
    "plt.plot(RF.feature_importances_)"
   ]
  },
  {
   "cell_type": "code",
   "execution_count": null,
   "metadata": {},
   "outputs": [],
   "source": []
  }
 ],
 "metadata": {
  "kernelspec": {
   "display_name": "Python 3",
   "language": "python",
   "name": "python3"
  },
  "language_info": {
   "codemirror_mode": {
    "name": "ipython",
    "version": 3
   },
   "file_extension": ".py",
   "mimetype": "text/x-python",
   "name": "python",
   "nbconvert_exporter": "python",
   "pygments_lexer": "ipython3",
   "version": "3.6.3"
  }
 },
 "nbformat": 4,
 "nbformat_minor": 2
}
