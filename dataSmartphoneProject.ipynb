{
 "cells": [
  {
   "cell_type": "markdown",
   "metadata": {},
   "source": [
    "# Persistent homology for smartphone data analysis (pedestrian recognition)"
   ]
  },
  {
   "cell_type": "markdown",
   "metadata": {},
   "source": [
    "__Description__: The goal of this is project to illustrate, on a toy example, the benefit of “coordinate in- variance” of persistent homology. The walk of 3 pedestrians A, B and C, has been recorded using the accelerometer sensor of a smartphone carried in the their pocket, giving rise to 3 multivariate time series in R3: each time series represents the 3 coordinates of the acceleration of the corresponding pedestrian in a coordinate system attached to the sensor. As, the smartphone was carried in unknown different positions and was not fixed, these time series cannot be compared coordinates by coordinates. Using a sliding window, each series has been splitted in a list of 100 times series made of 200 consecutive points, that are stored in data A, data B and data C. To each set of 200 points is associated a label A, B or C stored in label (see the data set and the Python script to load the data). The objective is to compute the persistence diagrams of these 3D point clouds and use them to achieve a pedestrian recognition task (supervised setting).\n",
    "Note: This project requires some (basic) knowledge of learning (random forests)."
   ]
  },
  {
   "cell_type": "code",
   "execution_count": 1,
   "metadata": {
    "collapsed": true
   },
   "outputs": [],
   "source": [
    "import numpy as np\n",
    "import pickle as pickle\n",
    "from os.path import join\n",
    "import matplotlib.pyplot as plt\n",
    "%matplotlib inline"
   ]
  },
  {
   "cell_type": "markdown",
   "metadata": {},
   "source": [
    "## Question 1: Loading Data"
   ]
  },
  {
   "cell_type": "code",
   "execution_count": 6,
   "metadata": {},
   "outputs": [],
   "source": [
    "path=\"C:\\\\Users\\\\cloti\\\\Desktop\\\\MSc in Data Science\\\\T1 2017\\\\Geometric Methods\\\\Final Project\\\\PersistentHomology\\\\data_acc_rot.dat\""
   ]
  },
  {
   "cell_type": "code",
   "execution_count": 7,
   "metadata": {},
   "outputs": [],
   "source": [
    "f = open(path,\"rb\")\n",
    "data = pickle.load(f,encoding='latin1')\n",
    "f.close()\n",
    "\n",
    "data_A = data[0]\n",
    "data_B = data[1] \n",
    "data_C = data[2]\n",
    "label = data[3]"
   ]
  },
  {
   "cell_type": "markdown",
   "metadata": {},
   "source": [
    "## Question 2:"
   ]
  },
  {
   "cell_type": "markdown",
   "metadata": {},
   "source": [
    "Compute and save the 0-dimensional and 1-dimensional persistence diagrams of the Rips filtrations (or alternately the alpha-shape filtrations) built on top of each of the 300 point clouds in R3."
   ]
  },
  {
   "cell_type": "code",
   "execution_count": 8,
   "metadata": {
    "collapsed": true
   },
   "outputs": [],
   "source": [
    "import gudhi"
   ]
  },
  {
   "cell_type": "markdown",
   "metadata": {},
   "source": [
    "## About persistent homology \n",
    "\n",
    "### General definitions\n",
    "Let (P, D) be a metric space where P is a point set. \n",
    "Given r > 0, the Rips complex is the simplicial complex R(P) constituted by the simplexes such that$d(p,q) \\leq r$ for every pair of vertices in the simplex.  \n",
    "Constructing the Rips complex helps capture the topology of the data set. Choosing $r$ is a difficult task because if $r$ ois too small, the complex is a discrete set, and if $r$ is too large, the complex becomes a single high-dimensional complex.\n",
    "\n",
    "\n",
    "Given a filtration $(K_0, K_1, ..., K_n)$, the $p$-dimensional persistence diagram is the set of points (i,j) such that the number of $p$-dimensional homology classes born at $K_i$ that die entering $K_j$ is one.  \n",
    "Here the filtration will actually be a sequence of Rips complexes associated to the 3D point cloud for an increasing\n",
    "sequence of parameter values ($r_i$).\n"
   ]
  },
  {
   "cell_type": "markdown",
   "metadata": {},
   "source": [
    "### 0-dimensional persistence diagrams of the Rips filtrations"
   ]
  },
  {
   "cell_type": "markdown",
   "metadata": {},
   "source": [
    "In order to draw the 0-dimensional persistence diagram of the Rips filtrations, we use \\verb gudhi.RipsComplex on the 3D point cloud. "
   ]
  },
  {
   "cell_type": "markdown",
   "metadata": {},
   "source": [
    "> __parameter to tune is the maxEdgeLen__"
   ]
  },
  {
   "cell_type": "code",
   "execution_count": 29,
   "metadata": {
    "collapsed": true
   },
   "outputs": [],
   "source": [
    "def build_0_persistent_diag(dataset, maxEdgeLen=10):\n",
    "    persist=[]\n",
    "    for i in range(len(dataset)):\n",
    "        rips = gudhi.RipsComplex(points=dataset[i],max_edge_length=maxEdgeLen)\n",
    "        simplex_tree = rips.create_simplex_tree(max_dimension=1)\n",
    "        diag = simplex_tree.persistence()\n",
    "        persist.append(diag)\n",
    "    return persist"
   ]
  },
  {
   "cell_type": "markdown",
   "metadata": {},
   "source": [
    "> Compute the 0 persistent diagram for the 3 pedestrians "
   ]
  },
  {
   "cell_type": "code",
   "execution_count": 30,
   "metadata": {
    "collapsed": true
   },
   "outputs": [],
   "source": [
    "diagA_0=build_0_persistent_diag(data_A)\n",
    "diagB_0=build_0_persistent_diag(data_B)\n",
    "diagC_0=build_0_persistent_diag(data_C)"
   ]
  },
  {
   "cell_type": "markdown",
   "metadata": {},
   "source": [
    "### 1-dimensional persistence diagrams of the Rips filtrations"
   ]
  },
  {
   "cell_type": "code",
   "execution_count": 41,
   "metadata": {
    "collapsed": true
   },
   "outputs": [],
   "source": [
    "def build_1_persistent_diag(dataset, maxEdgeLen=500):\n",
    "    persist=[]\n",
    "    for i in range(len(dataset)):\n",
    "        rips = gudhi.RipsComplex(points=dataset[i],max_edge_length=maxEdgeLen)\n",
    "        simplex_tree = rips.create_simplex_tree(max_dimension=2)\n",
    "        diag = simplex_tree.persistence()\n",
    "        persist.append(diag)\n",
    "    return persist"
   ]
  },
  {
   "cell_type": "markdown",
   "metadata": {},
   "source": [
    "> Compute the 1 persistent diagram for the 3 pedestrians "
   ]
  },
  {
   "cell_type": "code",
   "execution_count": 42,
   "metadata": {
    "collapsed": true
   },
   "outputs": [],
   "source": [
    "diagA_1=build_1_persistent_diag(data_A)\n",
    "diagB_1=build_1_persistent_diag(data_B)\n",
    "diagC_1=build_1_persistent_diag(data_C)"
   ]
  },
  {
   "cell_type": "markdown",
   "metadata": {},
   "source": [
    "## Question 3: Matrices of pairwise bottleneck distances between diagrams and use a dimensionality reduction algorithm to visualize them in 2D and 3D (e.g. Multidimensional Scaling).\n"
   ]
  },
  {
   "cell_type": "markdown",
   "metadata": {},
   "source": [
    "The bottleneck distance measures the similarity between two persistence diagrams. It is the shortest distance $d$ for which there exists a perfect matching between the points of the two diagrams such that any couple of matched points are at distance at most $d$. The cost of matching, i.e. taking a point $p$ of the first diagram to a point $p'$ of the second diagram corresponds the minimum between moving $p$ to $p'$ and moving both points on the diagonal.\n",
    "\n",
    "USE Gudhi::persistence_diagram::bottleneck_distance (const Persistence_diagram1 &diag1, const Persistence_diagram2 &diag2, double e=(std::numeric_limits< double >::min)())\n",
    "\n",
    "Why are we comparing 0 and 1-dimensional persistence diagrams of the Rips filtrations ? \n",
    "\n",
    "BLABLABLABLA"
   ]
  },
  {
   "cell_type": "markdown",
   "metadata": {},
   "source": [
    "USE sklearn.manifold.MDS for multidimensional scaling. "
   ]
  },
  {
   "cell_type": "markdown",
   "metadata": {},
   "source": [
    "remarques du cours\n",
    "→ Vietoris-Rips (or Cech, witness) filtrations quickly become prohibitively large as\n",
    "the size of the data increases ( O(|X|\n",
    "d\n",
    ") ), making the computation of persistence\n",
    "practically almost impossible.\n",
    "→ Persistence diagrams of Rips-Vietoris (and Cˇech, witness,..) filtrations and\n",
    "Gromov-Hausdorff distance are very sensitive to noise and outliers"
   ]
  },
  {
   "cell_type": "markdown",
   "metadata": {},
   "source": [
    "### Pair of (birth , death) tuple"
   ]
  },
  {
   "cell_type": "code",
   "execution_count": 13,
   "metadata": {
    "collapsed": true
   },
   "outputs": [],
   "source": [
    "def buildPair(diagram):\n",
    "    return [item[1] for item in diagram] "
   ]
  },
  {
   "cell_type": "markdown",
   "metadata": {},
   "source": [
    "> with 0-persitent diagram"
   ]
  },
  {
   "cell_type": "code",
   "execution_count": 31,
   "metadata": {
    "collapsed": true
   },
   "outputs": [],
   "source": [
    "diagA_0_pairs=[buildPair(diag) for diag in diagA_0] \n",
    "diagB_0_pairs=[buildPair(diag) for diag in diagB_0] \n",
    "diagC_0_pairs=[buildPair(diag) for diag in diagC_0] "
   ]
  },
  {
   "cell_type": "code",
   "execution_count": 110,
   "metadata": {},
   "outputs": [],
   "source": [
    "minimum_birth_A_0 = []\n",
    "\n",
    "for i in range(len(diagA_0_pairs)):\n",
    "    temp_list = []\n",
    "    for j in range(len(diagA_0_pairs[i])):\n",
    "        temp_list.append(diagA_0_pairs[i][j][0])\n",
    "    minimum_birth_A_0.append(min(temp_list))\n",
    "min_b_A_0 = min(minimum_birth_A_0)"
   ]
  },
  {
   "cell_type": "code",
   "execution_count": 131,
   "metadata": {
    "collapsed": true
   },
   "outputs": [],
   "source": [
    "maximum_death_A_0 = []\n",
    "\n",
    "for i in range(len(diagA_0_pairs)):\n",
    "    temp_list = []\n",
    "    temp_clean = []\n",
    "    for j in range(len(diagA_0_pairs[i])):\n",
    "        temp_list.append(diagA_0_pairs[i][j][1])\n",
    "        if np.isinf(temp_list[j]) == False:\n",
    "            temp_clean.append(temp_list[j])\n",
    "    maximum_death_A_0.append(max(temp_clean))\n",
    "max_d_A_0 = max(maximum_death_A_0)"
   ]
  },
  {
   "cell_type": "code",
   "execution_count": 132,
   "metadata": {},
   "outputs": [
    {
     "name": "stdout",
     "output_type": "stream",
     "text": [
      "1.2090181819989314\n"
     ]
    }
   ],
   "source": [
    "print(max_d_A_0)"
   ]
  },
  {
   "cell_type": "code",
   "execution_count": 111,
   "metadata": {
    "collapsed": true
   },
   "outputs": [],
   "source": [
    "minimum_birth_B_0 = []\n",
    "\n",
    "for i in range(len(diagB_0_pairs)):\n",
    "    temp_list = []\n",
    "    for j in range(len(diagB_0_pairs[i])):\n",
    "        temp_list.append(diagB_0_pairs[i][j][0])\n",
    "    minimum_birth_B_0.append(min(temp_list))\n",
    "min_b_B_0 = min(minimum_birth_B_0)"
   ]
  },
  {
   "cell_type": "code",
   "execution_count": 112,
   "metadata": {
    "scrolled": false
   },
   "outputs": [
    {
     "name": "stdout",
     "output_type": "stream",
     "text": [
      "0.0\n"
     ]
    }
   ],
   "source": [
    "print(min_b_B_0)"
   ]
  },
  {
   "cell_type": "code",
   "execution_count": 129,
   "metadata": {
    "collapsed": true
   },
   "outputs": [],
   "source": [
    "maximum_death_B_0 = []\n",
    "\n",
    "for i in range(len(diagB_0_pairs)):\n",
    "    temp_list = []\n",
    "    temp_clean = []\n",
    "    for j in range(len(diagB_0_pairs[i])):\n",
    "        temp_list.append(diagB_0_pairs[i][j][1])\n",
    "        if np.isinf(temp_list[j]) == False:\n",
    "            temp_clean.append(temp_list[j])\n",
    "    maximum_death_B_0.append(max(temp_clean))\n",
    "max_d_B_0 = max(maximum_death_B_0)"
   ]
  },
  {
   "cell_type": "code",
   "execution_count": 130,
   "metadata": {},
   "outputs": [
    {
     "name": "stdout",
     "output_type": "stream",
     "text": [
      "1.2415407826398615\n"
     ]
    }
   ],
   "source": [
    "print(max_d_B_0)"
   ]
  },
  {
   "cell_type": "code",
   "execution_count": 113,
   "metadata": {
    "collapsed": true
   },
   "outputs": [],
   "source": [
    "minimum_birth_C_0 = []\n",
    "\n",
    "for i in range(len(diagC_0_pairs)):\n",
    "    temp_list = []\n",
    "    for j in range(len(diagC_0_pairs[i])):\n",
    "        temp_list.append(diagC_0_pairs[i][j][0])\n",
    "    minimum_birth_C_0.append(min(temp_list))\n",
    "min_b_C_0 = min(minimum_birth_B_0)"
   ]
  },
  {
   "cell_type": "code",
   "execution_count": 114,
   "metadata": {
    "scrolled": true
   },
   "outputs": [
    {
     "name": "stdout",
     "output_type": "stream",
     "text": [
      "0.0\n"
     ]
    }
   ],
   "source": [
    "print(min_b_C_0)"
   ]
  },
  {
   "cell_type": "code",
   "execution_count": 127,
   "metadata": {
    "collapsed": true
   },
   "outputs": [],
   "source": [
    "maximum_death_C_0 = []\n",
    "\n",
    "for i in range(len(diagC_0_pairs)):\n",
    "    temp_list = []\n",
    "    temp_clean = []\n",
    "    for j in range(len(diagC_0_pairs[i])):\n",
    "        temp_list.append(diagC_0_pairs[i][j][1])\n",
    "        if np.isinf(temp_list[j]) == False:\n",
    "            temp_clean.append(temp_list[j])\n",
    "    maximum_death_C_0.append(max(temp_clean))\n",
    "max_d_C_0 = max(maximum_death_C_0)"
   ]
  },
  {
   "cell_type": "code",
   "execution_count": 128,
   "metadata": {},
   "outputs": [
    {
     "name": "stdout",
     "output_type": "stream",
     "text": [
      "1.4692886206862146\n"
     ]
    }
   ],
   "source": [
    "print(max_d_C_0)"
   ]
  },
  {
   "cell_type": "markdown",
   "metadata": {},
   "source": [
    "> with 1-persitent diagram"
   ]
  },
  {
   "cell_type": "code",
   "execution_count": 43,
   "metadata": {
    "collapsed": true
   },
   "outputs": [],
   "source": [
    "diagA_1_pairs=[buildPair(diag) for diag in diagA_1] \n",
    "diagB_1_pairs=[buildPair(diag) for diag in diagB_1] \n",
    "diagC_1_pairs=[buildPair(diag) for diag in diagC_1]"
   ]
  },
  {
   "cell_type": "code",
   "execution_count": 108,
   "metadata": {
    "collapsed": true
   },
   "outputs": [],
   "source": [
    "minimum_birth_A_1 = []\n",
    "\n",
    "for i in range(len(diagA_1_pairs)):\n",
    "    temp_list = []\n",
    "    for j in range(len(diagA_1_pairs[i])):\n",
    "        temp_list.append(diagA_1_pairs[i][j][0])\n",
    "    minimum_birth_A_1.append(min(temp_list))\n",
    "min_b_A_1 = min(minimum_birth_A_1)"
   ]
  },
  {
   "cell_type": "code",
   "execution_count": 109,
   "metadata": {
    "scrolled": true
   },
   "outputs": [
    {
     "name": "stdout",
     "output_type": "stream",
     "text": [
      "0.0\n"
     ]
    }
   ],
   "source": [
    "print(min_b_A_1)"
   ]
  },
  {
   "cell_type": "code",
   "execution_count": 115,
   "metadata": {},
   "outputs": [],
   "source": [
    "maximum_death_A_1 = []\n",
    "\n",
    "for i in range(len(diagA_1_pairs)):\n",
    "    temp_list = []\n",
    "    temp_clean = []\n",
    "    for j in range(len(diagA_1_pairs[i])):\n",
    "        temp_list.append(diagA_1_pairs[i][j][1])\n",
    "        if np.isinf(temp_list[j]) == False:\n",
    "            temp_clean.append(temp_list[j])\n",
    "    maximum_death_A_1.append(max(temp_clean))\n",
    "max_d_A_1 = max(maximum_death_A_1)"
   ]
  },
  {
   "cell_type": "code",
   "execution_count": 116,
   "metadata": {},
   "outputs": [
    {
     "name": "stdout",
     "output_type": "stream",
     "text": [
      "1.2090181819989314\n"
     ]
    }
   ],
   "source": [
    "print(max_d_A_1)"
   ]
  },
  {
   "cell_type": "code",
   "execution_count": 117,
   "metadata": {
    "collapsed": true
   },
   "outputs": [],
   "source": [
    "minimum_birth_B_1 = []\n",
    "\n",
    "for i in range(len(diagB_1_pairs)):\n",
    "    temp_list = []\n",
    "    for j in range(len(diagB_1_pairs[i])):\n",
    "        temp_list.append(diagB_1_pairs[i][j][0])\n",
    "    minimum_birth_B_1.append(min(temp_list))\n",
    "min_b_B_1 = min(minimum_birth_B_1)"
   ]
  },
  {
   "cell_type": "code",
   "execution_count": 118,
   "metadata": {},
   "outputs": [
    {
     "name": "stdout",
     "output_type": "stream",
     "text": [
      "0.0\n"
     ]
    }
   ],
   "source": [
    "print(min_b_B_1)"
   ]
  },
  {
   "cell_type": "code",
   "execution_count": 119,
   "metadata": {
    "collapsed": true
   },
   "outputs": [],
   "source": [
    "maximum_death_B_1 = []\n",
    "\n",
    "for i in range(len(diagB_1_pairs)):\n",
    "    temp_list = []\n",
    "    temp_clean = []\n",
    "    for j in range(len(diagB_1_pairs[i])):\n",
    "        temp_list.append(diagB_1_pairs[i][j][1])\n",
    "        if np.isinf(temp_list[j]) == False:\n",
    "            temp_clean.append(temp_list[j])\n",
    "    maximum_death_B_1.append(max(temp_clean))\n",
    "max_d_B_1 = max(maximum_death_B_1)"
   ]
  },
  {
   "cell_type": "code",
   "execution_count": 120,
   "metadata": {},
   "outputs": [
    {
     "name": "stdout",
     "output_type": "stream",
     "text": [
      "1.2415407826398615\n"
     ]
    }
   ],
   "source": [
    "print(max_d_B_1)"
   ]
  },
  {
   "cell_type": "code",
   "execution_count": 121,
   "metadata": {
    "collapsed": true
   },
   "outputs": [],
   "source": [
    "minimum_birth_C_1 = []\n",
    "\n",
    "for i in range(len(diagC_1_pairs)):\n",
    "    temp_list = []\n",
    "    for j in range(len(diagC_1_pairs[i])):\n",
    "        temp_list.append(diagC_1_pairs[i][j][0])\n",
    "    minimum_birth_C_1.append(min(temp_list))\n",
    "min_b_C_1 = min(minimum_birth_C_1)"
   ]
  },
  {
   "cell_type": "code",
   "execution_count": 122,
   "metadata": {
    "scrolled": true
   },
   "outputs": [
    {
     "name": "stdout",
     "output_type": "stream",
     "text": [
      "0.0\n"
     ]
    }
   ],
   "source": [
    "print(min_b_C_1)"
   ]
  },
  {
   "cell_type": "code",
   "execution_count": 123,
   "metadata": {
    "collapsed": true
   },
   "outputs": [],
   "source": [
    "maximum_death_C_1 = []\n",
    "\n",
    "for i in range(len(diagC_1_pairs)):\n",
    "    temp_list = []\n",
    "    temp_clean = []\n",
    "    for j in range(len(diagC_1_pairs[i])):\n",
    "        temp_list.append(diagC_1_pairs[i][j][1])\n",
    "        if np.isinf(temp_list[j]) == False:\n",
    "            temp_clean.append(temp_list[j])\n",
    "    maximum_death_C_1.append(max(temp_clean))\n",
    "max_d_C_1 = max(maximum_death_C_1)"
   ]
  },
  {
   "cell_type": "code",
   "execution_count": 124,
   "metadata": {},
   "outputs": [
    {
     "name": "stdout",
     "output_type": "stream",
     "text": [
      "1.6080124994483087\n"
     ]
    }
   ],
   "source": [
    "print(max_d_C_1)"
   ]
  },
  {
   "cell_type": "markdown",
   "metadata": {},
   "source": [
    "- The function below compute the bootleneck distance between two persistent diagrams"
   ]
  },
  {
   "cell_type": "code",
   "execution_count": 32,
   "metadata": {
    "collapsed": true
   },
   "outputs": [],
   "source": [
    "from sklearn import manifold"
   ]
  },
  {
   "cell_type": "code",
   "execution_count": 33,
   "metadata": {
    "collapsed": true
   },
   "outputs": [],
   "source": [
    "def computeMatrixBottleneckDistance(diagList1):\n",
    "    matrix=np.zeros((len(diagList1),len(diagList1)))\n",
    "    for i in range(len(diagList1)):\n",
    "        for j in range(i,len(diagList1)):\n",
    "            dist=gudhi.bottleneck_distance(diagList1[i], diagList1[j], 0.001)\n",
    "            matrix[i,j]=dist\n",
    "            matrix[j,i]=dist\n",
    "    return matrix"
   ]
  },
  {
   "cell_type": "markdown",
   "metadata": {},
   "source": [
    "> with 0-persitent diagram"
   ]
  },
  {
   "cell_type": "code",
   "execution_count": 34,
   "metadata": {
    "collapsed": true
   },
   "outputs": [],
   "source": [
    "matrix_bottleneck_distance_A_0=computeMatrixBottleneckDistance(diagA_0_pairs)\n",
    "matrix_bottleneck_distance_B_0=computeMatrixBottleneckDistance(diagB_0_pairs)\n",
    "matrix_bottleneck_distance_C_0=computeMatrixBottleneckDistance(diagC_0_pairs)"
   ]
  },
  {
   "cell_type": "markdown",
   "metadata": {},
   "source": [
    "> with 1-persitent diagram"
   ]
  },
  {
   "cell_type": "code",
   "execution_count": 44,
   "metadata": {
    "collapsed": true
   },
   "outputs": [],
   "source": [
    "matrix_bottleneck_distance_A_1=computeMatrixBottleneckDistance(diagA_1_pairs)\n",
    "matrix_bottleneck_distance_B_1=computeMatrixBottleneckDistance(diagB_1_pairs)\n",
    "matrix_bottleneck_distance_C_1=computeMatrixBottleneckDistance(diagC_1_pairs)\n"
   ]
  },
  {
   "cell_type": "markdown",
   "metadata": {},
   "source": [
    "> ## With 0-persistent homology"
   ]
  },
  {
   "cell_type": "markdown",
   "metadata": {},
   "source": [
    "### Pedestrian A,B and C"
   ]
  },
  {
   "cell_type": "code",
   "execution_count": 35,
   "metadata": {},
   "outputs": [
    {
     "data": {
      "image/png": "[encoded data removed]",
      "text/plain": [
       "<matplotlib.figure.Figure at 0x26b0573cc88>"
      ]
     },
     "metadata": {},
     "output_type": "display_data"
    }
   ],
   "source": [
    "mds2 = manifold.MDS(n_components=2, max_iter=3000, eps=1e-9,\n",
    "                   dissimilarity=\"precomputed\", n_jobs=1)\n",
    "posA = mds2.fit(matrix_bottleneck_distance_A_0).embedding_\n",
    "posB = mds2.fit(matrix_bottleneck_distance_B_0).embedding_\n",
    "posC = mds2.fit(matrix_bottleneck_distance_C_0).embedding_\n",
    "\n",
    "plt.subplots_adjust(bottom = 0.1)\n",
    "plt.scatter(\n",
    "    posA[:, 0], posA[:, 1], marker = 'o'\n",
    "    )\n",
    "plt.scatter(\n",
    "    posB[:, 0], posB[:, 1], marker = 'x'\n",
    "    )\n",
    "plt.scatter(\n",
    "    posC[:, 0], posC[:, 1], marker = '<'\n",
    "    )\n",
    "plt.show()"
   ]
  },
  {
   "cell_type": "markdown",
   "metadata": {},
   "source": [
    "> ## With 1-persistent homology"
   ]
  },
  {
   "cell_type": "markdown",
   "metadata": {},
   "source": [
    "### Pedestrian A,B and C"
   ]
  },
  {
   "cell_type": "code",
   "execution_count": 30,
   "metadata": {
    "scrolled": true
   },
   "outputs": [
    {
     "data": {
      "image/png": "[encoded data removed]",
      "text/plain": [
       "<matplotlib.figure.Figure at 0x111635b00>"
      ]
     },
     "metadata": {},
     "output_type": "display_data"
    }
   ],
   "source": [
    "mds2 = manifold.MDS(n_components=2, max_iter=3000, eps=1e-9,\n",
    "                   dissimilarity=\"precomputed\", n_jobs=1)\n",
    "posA = mds2.fit(matrix_bottleneck_distance_A_1).embedding_\n",
    "posB = mds2.fit(matrix_bottleneck_distance_B_1).embedding_\n",
    "posC = mds2.fit(matrix_bottleneck_distance_C_1).embedding_\n",
    "\n",
    "plt.subplots_adjust(bottom = 0.1)\n",
    "plt.scatter(\n",
    "    posA[:, 0], posA[:, 1], marker = 'o'\n",
    "    )\n",
    "plt.scatter(\n",
    "    posB[:, 0], posB[:, 1], marker = 'x'\n",
    "    )\n",
    "plt.scatter(\n",
    "    posC[:, 0], posC[:, 1], marker = '<'\n",
    "    )\n",
    "plt.show()"
   ]
  },
  {
   "cell_type": "markdown",
   "metadata": {},
   "source": [
    "# With 0-persistent homology, 3D"
   ]
  },
  {
   "cell_type": "code",
   "execution_count": 40,
   "metadata": {},
   "outputs": [
    {
     "data": {
      "text/plain": [
       "<matplotlib.figure.Figure at 0x26b05753c18>"
      ]
     },
     "metadata": {},
     "output_type": "display_data"
    },
    {
     "data": {
      "image/png": "[encoded data removed]",
      "text/plain": [
       "<matplotlib.figure.Figure at 0x26b057530b8>"
      ]
     },
     "metadata": {},
     "output_type": "display_data"
    }
   ],
   "source": [
    "from mpl_toolkits.mplot3d import Axes3D\n",
    "\n",
    "mds2 = manifold.MDS(n_components=3, max_iter=3000, eps=1e-9,\n",
    "                   dissimilarity=\"precomputed\", n_jobs=1)\n",
    "posA = mds2.fit(matrix_bottleneck_distance_A_0).embedding_\n",
    "posB = mds2.fit(matrix_bottleneck_distance_B_0).embedding_\n",
    "posC = mds2.fit(matrix_bottleneck_distance_C_0).embedding_\n",
    "\n",
    "plt.subplots_adjust(bottom = 0.1)\n",
    "fig = plt.figure()\n",
    "ax = fig.add_subplot(111, projection='3d')\n",
    "\n",
    "ax.scatter(\n",
    "    posA[:, 0], posA[:, 1], marker = 'o'\n",
    "    )\n",
    "ax.scatter(\n",
    "    posB[:, 0], posB[:, 1], marker = 'x'\n",
    "    )\n",
    "ax.scatter(\n",
    "    posC[:, 0], posC[:, 1], marker = '<'\n",
    "    )\n",
    "plt.show()"
   ]
  },
  {
   "cell_type": "markdown",
   "metadata": {},
   "source": [
    "# With 1-persistent homology, 3D"
   ]
  },
  {
   "cell_type": "code",
   "execution_count": 45,
   "metadata": {},
   "outputs": [
    {
     "data": {
      "text/plain": [
       "<matplotlib.figure.Figure at 0x26b058f94a8>"
      ]
     },
     "metadata": {},
     "output_type": "display_data"
    },
    {
     "data": {
      "image/png": "[encoded data removed]",
      "text/plain": [
       "<matplotlib.figure.Figure at 0x26b058f9da0>"
      ]
     },
     "metadata": {},
     "output_type": "display_data"
    }
   ],
   "source": [
    "from mpl_toolkits.mplot3d import Axes3D\n",
    "\n",
    "mds2 = manifold.MDS(n_components=3, max_iter=3000, eps=1e-9,\n",
    "                   dissimilarity=\"precomputed\", n_jobs=1)\n",
    "posA = mds2.fit(matrix_bottleneck_distance_A_1).embedding_\n",
    "posB = mds2.fit(matrix_bottleneck_distance_B_1).embedding_\n",
    "posC = mds2.fit(matrix_bottleneck_distance_C_1).embedding_\n",
    "\n",
    "plt.subplots_adjust(bottom = 0.1)\n",
    "\n",
    "fig = plt.figure()\n",
    "ax = fig.add_subplot(111, projection='3d')\n",
    "ax.scatter(\n",
    "    posA[:, 0], posA[:, 1], posA[:, 2], marker = 'o'\n",
    "    )\n",
    "ax.scatter(\n",
    "    posB[:, 0], posB[:, 1], posB[:, 2], marker = 'x'\n",
    "    )\n",
    "ax.scatter(\n",
    "    posC[:, 0], posC[:, 1], posC[:, 2], marker = '<'\n",
    "    )\n",
    "plt.show()"
   ]
  },
  {
   "cell_type": "markdown",
   "metadata": {},
   "source": [
    "## Question 4: Computing persistence landscape\n",
    "This function should take as input a persistence\n",
    "diagram dgm (in the Gudhi format), a dimension k, the endpoints xmin, xmax of an interval, the\n",
    "number nb_nodes of nodes of a regular grid on the interval [xmin, xmax] and a number of landscapes\n",
    "nb_ld, and output a nbld × nbnodes array storing the values of the first nb_ld landscapes of dgm on the\n",
    "node of the grid. Check, on some simple examples that your code is correct."
   ]
  },
  {
   "cell_type": "code",
   "execution_count": 31,
   "metadata": {
    "collapsed": true
   },
   "outputs": [],
   "source": [
    "def computeLandscapes(dgm,x_min,x_max,nb_nodes,nb_lbd):\n",
    "    ''' This function compute the approximate landscape of a persistent diagram. \n",
    "    Given a range [xmin,xmax] and a grid size '''\n",
    "    \n",
    "    output = np.zeros((nb_lbd,nb_nodes))\n",
    "    step = (x_max - x_min) / nb_nodes\n",
    "    for i in range(nb_nodes):\n",
    "        x = x_min + i * step\n",
    "        event_list = []\n",
    "        for tup in dgm:\n",
    "            b = tup[0]\n",
    "            d = tup[1]\n",
    "            if (b <= x) and (x<= d):\n",
    "                if x >= (d+b)/2. :\n",
    "                    event_list.append((d-x))\n",
    "                else:\n",
    "                    event_list.append((x-b))\n",
    "        event_list.sort(reverse=True)\n",
    "        event_list = np.asarray(event_list)\n",
    "        for j in range(nb_lbd):\n",
    "            if(j<len(event_list)):\n",
    "                output[j,i]=event_list[j]\n",
    "    return output"
   ]
  },
  {
   "cell_type": "markdown",
   "metadata": {},
   "source": [
    "> Example"
   ]
  },
  {
   "cell_type": "code",
   "execution_count": 32,
   "metadata": {},
   "outputs": [
    {
     "data": {
      "text/plain": [
       "array([[ 0.    ,  0.0375,  0.075 , ..., 14.8875, 14.925 , 14.9625],\n",
       "       [ 0.    ,  0.0375,  0.075 , ...,  0.    ,  0.    ,  0.    ],\n",
       "       [ 0.    ,  0.0375,  0.075 , ...,  0.    ,  0.    ,  0.    ],\n",
       "       [ 0.    ,  0.0375,  0.075 , ...,  0.    ,  0.    ,  0.    ],\n",
       "       [ 0.    ,  0.0375,  0.075 , ...,  0.    ,  0.    ,  0.    ]])"
      ]
     },
     "execution_count": 32,
     "metadata": {},
     "output_type": "execute_result"
    }
   ],
   "source": [
    "diagA_1_pair_test= [diagA_1[0][a][1] for a in range(len(diagA_1[0]))] \n",
    "computeLandscapes(diagA_1_pair_test,0,15,400,5)"
   ]
  },
  {
   "cell_type": "markdown",
   "metadata": {},
   "source": [
    "### For each 0-dimensional and 1-dimensional persistence diagrams, compute the first 5 landscapes on a\n",
    "relevant interval with a few hundred of nodes. Splitting randomly the data set into a 80/20 learning/test\n",
    "data, use a random forest to explore the performances of the 0-dimensional or 1-dimensional landscapes\n",
    "to classify pedestrians. An example of code to realize such an experiment can be downloaded at http:\n",
    "//geometrica.saclay.inria.fr/team/Fred.Chazal/Centrale2017.html. Compare the results you\n",
    "obtain using 0-dimensional landscapes, 1-dimensional landscapes or both.\n",
    "\n"
   ]
  },
  {
   "cell_type": "markdown",
   "metadata": {},
   "source": [
    "> Set parameter for the landscape approximation computation"
   ]
  },
  {
   "cell_type": "code",
   "execution_count": 33,
   "metadata": {
    "collapsed": true
   },
   "outputs": [],
   "source": [
    "x_min=0\n",
    "x_max=5\n",
    "nb_nodes=300\n",
    "nb_lbd=5"
   ]
  },
  {
   "cell_type": "markdown",
   "metadata": {},
   "source": [
    "> with 0-persitent diagram"
   ]
  },
  {
   "cell_type": "code",
   "execution_count": 34,
   "metadata": {
    "collapsed": true
   },
   "outputs": [],
   "source": [
    "diagA_0_landscapes=[computeLandscapes(pair,x_min,x_max,nb_nodes,nb_lbd) for pair in diagA_0_pairs]\n",
    "diagB_0_landscapes=[computeLandscapes(pair,x_min,x_max,nb_nodes,nb_lbd) for pair in diagB_0_pairs]\n",
    "diagA_0_landscapes=[computeLandscapes(pair,x_min,x_max,nb_nodes,nb_lbd) for pair in diagC_0_pairs]"
   ]
  },
  {
   "cell_type": "markdown",
   "metadata": {},
   "source": [
    "> with 1-persitent diagram"
   ]
  },
  {
   "cell_type": "code",
   "execution_count": 35,
   "metadata": {
    "collapsed": true
   },
   "outputs": [],
   "source": [
    "diagA_1_landscapes=[computeLandscapes(pair,x_min,x_max,nb_nodes,nb_lbd) for pair in diagA_1_pairs]\n",
    "diagB_1_landscapes=[computeLandscapes(pair,x_min,x_max,nb_nodes,nb_lbd) for pair in diagB_1_pairs]\n",
    "diagA_1_landscapes=[computeLandscapes(pair,x_min,x_max,nb_nodes,nb_lbd) for pair in diagC_1_pairs]"
   ]
  },
  {
   "cell_type": "markdown",
   "metadata": {},
   "source": [
    "### Do the same experiment as previously, but using the raw data ( 3 × 200 array of acceleration coordinates).\n",
    "Compare the obtained classification results to the previous one."
   ]
  },
  {
   "cell_type": "markdown",
   "metadata": {},
   "source": [
    "## Random Forest"
   ]
  },
  {
   "cell_type": "code",
   "execution_count": 36,
   "metadata": {},
   "outputs": [
    {
     "name": "stderr",
     "output_type": "stream",
     "text": [
      "/Users/yaguethiam/anaconda/lib/python3.6/site-packages/sklearn/cross_validation.py:41: DeprecationWarning: This module was deprecated in version 0.18 in favor of the model_selection module into which all the refactored classes and functions are moved. Also note that the interface of the new CV iterators are different from that of this module. This module will be removed in 0.20.\n",
      "  \"This module will be removed in 0.20.\", DeprecationWarning)\n"
     ]
    }
   ],
   "source": [
    "# Define a scoring fonction to evaluate modelling\n",
    "from sklearn.cross_validation import cross_val_score\n",
    "\n",
    "def compute_score(clf, X, y, scoring='accuracy'):\n",
    "    xval = cross_val_score(clf, X, y, cv = 5, scoring=scoring)\n",
    "    return mean(xval)"
   ]
  },
  {
   "cell_type": "code",
   "execution_count": 37,
   "metadata": {},
   "outputs": [
    {
     "name": "stderr",
     "output_type": "stream",
     "text": [
      "/Users/yaguethiam/anaconda/lib/python3.6/site-packages/sklearn/grid_search.py:42: DeprecationWarning: This module was deprecated in version 0.18 in favor of the model_selection module into which all the refactored classes and functions are moved. This module will be removed in 0.20.\n",
      "  DeprecationWarning)\n"
     ]
    },
    {
     "ename": "NameError",
     "evalue": "name 'train' is not defined",
     "output_type": "error",
     "traceback": [
      "\u001b[0;31m---------------------------------------------------------------------------\u001b[0m",
      "\u001b[0;31mNameError\u001b[0m                                 Traceback (most recent call last)",
      "\u001b[0;32m<ipython-input-37-432719d020a4>\u001b[0m in \u001b[0;36m<module>\u001b[0;34m()\u001b[0m\n\u001b[1;32m     39\u001b[0m \u001b[0;34m\u001b[0m\u001b[0m\n\u001b[1;32m     40\u001b[0m     \u001b[0;31m# Again, input the correct names for the training set and its related target variables\u001b[0m\u001b[0;34m\u001b[0m\u001b[0;34m\u001b[0m\u001b[0m\n\u001b[0;32m---> 41\u001b[0;31m     \u001b[0mrf_best\u001b[0m\u001b[0;34m.\u001b[0m\u001b[0mfit\u001b[0m\u001b[0;34m(\u001b[0m\u001b[0mtrain\u001b[0m\u001b[0;34m,\u001b[0m \u001b[0mtargets\u001b[0m\u001b[0;34m)\u001b[0m\u001b[0;34m\u001b[0m\u001b[0m\n\u001b[0m\u001b[1;32m     42\u001b[0m \u001b[0;34m\u001b[0m\u001b[0m\n\u001b[1;32m     43\u001b[0m \u001b[0mcompute_score\u001b[0m\u001b[0;34m(\u001b[0m\u001b[0mrf_best\u001b[0m\u001b[0;34m,\u001b[0m \u001b[0mtrain\u001b[0m\u001b[0;34m,\u001b[0m \u001b[0mtargets\u001b[0m\u001b[0;34m,\u001b[0m \u001b[0mscoring\u001b[0m\u001b[0;34m=\u001b[0m\u001b[0;34m'accuracy'\u001b[0m\u001b[0;34m)\u001b[0m\u001b[0;34m\u001b[0m\u001b[0m\n",
      "\u001b[0;31mNameError\u001b[0m: name 'train' is not defined"
     ]
    }
   ],
   "source": [
    "### Use GridSearchCV to tune parameters for Random Forest\n",
    "# turn run_gs to True if you want to run the gridsearch again.\n",
    "from sklearn.ensemble import RandomForestClassifier\n",
    "from sklearn.cross_validation import StratifiedKFold\n",
    "from sklearn.grid_search import GridSearchCV\n",
    "\n",
    "\n",
    "run_gs = False\n",
    "\n",
    "if run_gs:\n",
    "    parameter_grid = {\n",
    "                 'max_depth' : [4, 6, 8, None],\n",
    "                 'n_estimators': [10, 20, 50, 100],\n",
    "                 'max_features': ['sqrt', 'auto', 'log2'],\n",
    "                 'min_samples_split': [1, 3, 10,30, 50],\n",
    "                 'min_samples_leaf': [1, 3, 10, 30, 50],\n",
    "                 'bootstrap': [True, False],\n",
    "                 'criterion': ['gini', 'entropy']\n",
    "                 }\n",
    "    rf = RandomForestClassifier()\n",
    "    cross_validation = StratifiedKFold(targets, n_folds=5)\n",
    "\n",
    "    grid_search = GridSearchCV(rf,\n",
    "                               scoring='accuracy',\n",
    "                               param_grid=parameter_grid,\n",
    "                               cv=cross_validation)\n",
    "    # Input the label of the training set and the related targets\n",
    "    grid_search.fit(train, targets)\n",
    "    rf_best = grid_search\n",
    "    parameters = grid_search.best_params_\n",
    "\n",
    "    print('Best score: {}'.format(grid_search.best_score_))\n",
    "    print('Best parameters: {}'.format(grid_search.best_params_))\n",
    "else: \n",
    "    parameters = {'bootstrap': False, 'min_samples_leaf': 3, 'n_estimators': 50, \n",
    "                  'min_samples_split': 10, 'max_features': 'sqrt', 'max_depth': 6}\n",
    "    # **parameters enables to retrieve the optimal parameters derived from GridSearchCV\n",
    "    rf_best = RandomForestClassifier(**parameters)\n",
    "    \n",
    "    # Again, input the correct names for the training set and its related target variables\n",
    "    rf_best.fit(train, targets)\n",
    "    \n",
    "compute_score(rf_best, train, targets, scoring='accuracy')"
   ]
  },
  {
   "cell_type": "markdown",
   "metadata": {},
   "source": [
    "> Teacher's random forest"
   ]
  },
  {
   "cell_type": "code",
   "execution_count": null,
   "metadata": {
    "collapsed": true
   },
   "outputs": [],
   "source": [
    "# -*- coding: utf-8 -*-\n",
    "\"\"\"\n",
    "Created on Sun Dec 17 18:33:31 2017\n",
    "\n",
    "@author: Fredreci Chazal - All rights reserved\n",
    "\"\"\"\n",
    "from sklearn.ensemble import RandomForestClassifier\n",
    "from sklearn.model_selection import train_test_split\n",
    "from sklearn.metrics import confusion_matrix\n",
    "\n",
    "#### Classification with random forests \n",
    "#### Interesting compare with L0_list, L1_list and L_list\n",
    "#### where L0_list, L1_list and L_list are list storing the $0$-dimensional \n",
    "#### landscapes, $1$-dimensional landscapes, and the concatenation of both \n",
    "#### respectively\n",
    "avg = 0\n",
    "for i in range(20):\n",
    "    L_train, L_test, label_train, label_test = train_test_split(L1_list, label, test_size=0.2)\n",
    "    RF = RandomForestClassifier()\n",
    "    RF.fit(L_train, label_train)\n",
    "    print(np.mean(RF.predict(L_test) == label_test) )\n",
    "    avg += np.mean(RF.predict(L_test) == label_test)\n",
    "    #print(confusion_matrix(RF.predict(L_test), label_test))\n",
    "print (\"avg pred: \",avg/20)\n",
    "\n",
    "plt.plot(RF.feature_importances_)"
   ]
  }
 ],
 "metadata": {
  "kernelspec": {
   "display_name": "Python 3",
   "language": "python",
   "name": "python3"
  },
  "language_info": {
   "codemirror_mode": {
    "name": "ipython",
    "version": 3
   },
   "file_extension": ".py",
   "mimetype": "text/x-python",
   "name": "python",
   "nbconvert_exporter": "python",
   "pygments_lexer": "ipython3",
   "version": "3.6.2"
  }
 },
 "nbformat": 4,
 "nbformat_minor": 2
}
